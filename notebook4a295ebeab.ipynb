{
 "cells": [
  {
   "cell_type": "code",
   "execution_count": 1,
   "id": "1902dc64",
   "metadata": {
    "_cell_guid": "b1076dfc-b9ad-4769-8c92-a6c4dae69d19",
    "_uuid": "8f2839f25d086af736a60e9eeb907d3b93b6e0e5",
    "execution": {
     "iopub.execute_input": "2023-02-25T07:30:39.344567Z",
     "iopub.status.busy": "2023-02-25T07:30:39.344103Z",
     "iopub.status.idle": "2023-02-25T07:30:39.360769Z",
     "shell.execute_reply": "2023-02-25T07:30:39.359486Z"
    },
    "papermill": {
     "duration": 0.030167,
     "end_time": "2023-02-25T07:30:39.363877",
     "exception": false,
     "start_time": "2023-02-25T07:30:39.333710",
     "status": "completed"
    },
    "tags": []
   },
   "outputs": [
    {
     "name": "stdout",
     "output_type": "stream",
     "text": [
      "/kaggle/input/titanic/train.csv\n",
      "/kaggle/input/titanic/test.csv\n",
      "/kaggle/input/titanic/gender_submission.csv\n"
     ]
    }
   ],
   "source": [
    "# This Python 3 environment comes with many helpful analytics libraries installed\n",
    "# It is defined by the kaggle/python Docker image: https://github.com/kaggle/docker-python\n",
    "# For example, here's several helpful packages to load\n",
    "\n",
    "import numpy as np # linear algebra\n",
    "import pandas as pd # data processing, CSV file I/O (e.g. pd.read_csv)\n",
    "\n",
    "# Input data files are available in the read-only \"../input/\" directory\n",
    "# For example, running this (by clicking run or pressing Shift+Enter) will list all files under the input directory\n",
    "\n",
    "import os\n",
    "for dirname, _, filenames in os.walk('/kaggle/input'):\n",
    "    for filename in filenames:\n",
    "        print(os.path.join(dirname, filename))\n",
    "\n",
    "# You can write up to 20GB to the current directory (/kaggle/working/) that gets preserved as output when you create a version using \"Save & Run All\" \n",
    "# You can also write temporary files to /kaggle/temp/, but they won't be saved outside of the current session"
   ]
  },
  {
   "cell_type": "code",
   "execution_count": 2,
   "id": "cb9de718",
   "metadata": {
    "execution": {
     "iopub.execute_input": "2023-02-25T07:30:39.380663Z",
     "iopub.status.busy": "2023-02-25T07:30:39.379748Z",
     "iopub.status.idle": "2023-02-25T07:30:40.574240Z",
     "shell.execute_reply": "2023-02-25T07:30:40.573069Z"
    },
    "papermill": {
     "duration": 1.206416,
     "end_time": "2023-02-25T07:30:40.577357",
     "exception": false,
     "start_time": "2023-02-25T07:30:39.370941",
     "status": "completed"
    },
    "tags": []
   },
   "outputs": [],
   "source": [
    "import pandas as pd\n",
    "from sklearn.metrics import accuracy_score, f1_score\n",
    "from sklearn.preprocessing import LabelEncoder, StandardScaler\n",
    "from sklearn.linear_model import LogisticRegression"
   ]
  },
  {
   "cell_type": "markdown",
   "id": "34c74aaa",
   "metadata": {
    "papermill": {
     "duration": 0.006406,
     "end_time": "2023-02-25T07:30:40.590760",
     "exception": false,
     "start_time": "2023-02-25T07:30:40.584354",
     "status": "completed"
    },
    "tags": []
   },
   "source": [
    "Загрузим данные для обучения и тестирования"
   ]
  },
  {
   "cell_type": "code",
   "execution_count": 3,
   "id": "d4e3e55b",
   "metadata": {
    "execution": {
     "iopub.execute_input": "2023-02-25T07:30:40.606716Z",
     "iopub.status.busy": "2023-02-25T07:30:40.606248Z",
     "iopub.status.idle": "2023-02-25T07:30:40.636935Z",
     "shell.execute_reply": "2023-02-25T07:30:40.635726Z"
    },
    "papermill": {
     "duration": 0.04247,
     "end_time": "2023-02-25T07:30:40.639995",
     "exception": false,
     "start_time": "2023-02-25T07:30:40.597525",
     "status": "completed"
    },
    "tags": []
   },
   "outputs": [],
   "source": [
    "df_train = pd.read_csv('/kaggle/input/titanic/train.csv')\n",
    "df_test = pd.read_csv('/kaggle/input/titanic/test.csv')"
   ]
  },
  {
   "cell_type": "markdown",
   "id": "864f0c7d",
   "metadata": {
    "papermill": {
     "duration": 0.006477,
     "end_time": "2023-02-25T07:30:40.653479",
     "exception": false,
     "start_time": "2023-02-25T07:30:40.647002",
     "status": "completed"
    },
    "tags": []
   },
   "source": [
    "Просмотрим загруженные данные"
   ]
  },
  {
   "cell_type": "code",
   "execution_count": 4,
   "id": "0c803d11",
   "metadata": {
    "execution": {
     "iopub.execute_input": "2023-02-25T07:30:40.669005Z",
     "iopub.status.busy": "2023-02-25T07:30:40.668533Z",
     "iopub.status.idle": "2023-02-25T07:30:40.705530Z",
     "shell.execute_reply": "2023-02-25T07:30:40.704115Z"
    },
    "papermill": {
     "duration": 0.048415,
     "end_time": "2023-02-25T07:30:40.708576",
     "exception": false,
     "start_time": "2023-02-25T07:30:40.660161",
     "status": "completed"
    },
    "tags": []
   },
   "outputs": [
    {
     "data": {
      "text/html": [
       "<div>\n",
       "<style scoped>\n",
       "    .dataframe tbody tr th:only-of-type {\n",
       "        vertical-align: middle;\n",
       "    }\n",
       "\n",
       "    .dataframe tbody tr th {\n",
       "        vertical-align: top;\n",
       "    }\n",
       "\n",
       "    .dataframe thead th {\n",
       "        text-align: right;\n",
       "    }\n",
       "</style>\n",
       "<table border=\"1\" class=\"dataframe\">\n",
       "  <thead>\n",
       "    <tr style=\"text-align: right;\">\n",
       "      <th></th>\n",
       "      <th>PassengerId</th>\n",
       "      <th>Survived</th>\n",
       "      <th>Pclass</th>\n",
       "      <th>Name</th>\n",
       "      <th>Sex</th>\n",
       "      <th>Age</th>\n",
       "      <th>SibSp</th>\n",
       "      <th>Parch</th>\n",
       "      <th>Ticket</th>\n",
       "      <th>Fare</th>\n",
       "      <th>Cabin</th>\n",
       "      <th>Embarked</th>\n",
       "    </tr>\n",
       "  </thead>\n",
       "  <tbody>\n",
       "    <tr>\n",
       "      <th>0</th>\n",
       "      <td>1</td>\n",
       "      <td>0</td>\n",
       "      <td>3</td>\n",
       "      <td>Braund, Mr. Owen Harris</td>\n",
       "      <td>male</td>\n",
       "      <td>22.0</td>\n",
       "      <td>1</td>\n",
       "      <td>0</td>\n",
       "      <td>A/5 21171</td>\n",
       "      <td>7.2500</td>\n",
       "      <td>NaN</td>\n",
       "      <td>S</td>\n",
       "    </tr>\n",
       "    <tr>\n",
       "      <th>1</th>\n",
       "      <td>2</td>\n",
       "      <td>1</td>\n",
       "      <td>1</td>\n",
       "      <td>Cumings, Mrs. John Bradley (Florence Briggs Th...</td>\n",
       "      <td>female</td>\n",
       "      <td>38.0</td>\n",
       "      <td>1</td>\n",
       "      <td>0</td>\n",
       "      <td>PC 17599</td>\n",
       "      <td>71.2833</td>\n",
       "      <td>C85</td>\n",
       "      <td>C</td>\n",
       "    </tr>\n",
       "    <tr>\n",
       "      <th>2</th>\n",
       "      <td>3</td>\n",
       "      <td>1</td>\n",
       "      <td>3</td>\n",
       "      <td>Heikkinen, Miss. Laina</td>\n",
       "      <td>female</td>\n",
       "      <td>26.0</td>\n",
       "      <td>0</td>\n",
       "      <td>0</td>\n",
       "      <td>STON/O2. 3101282</td>\n",
       "      <td>7.9250</td>\n",
       "      <td>NaN</td>\n",
       "      <td>S</td>\n",
       "    </tr>\n",
       "    <tr>\n",
       "      <th>3</th>\n",
       "      <td>4</td>\n",
       "      <td>1</td>\n",
       "      <td>1</td>\n",
       "      <td>Futrelle, Mrs. Jacques Heath (Lily May Peel)</td>\n",
       "      <td>female</td>\n",
       "      <td>35.0</td>\n",
       "      <td>1</td>\n",
       "      <td>0</td>\n",
       "      <td>113803</td>\n",
       "      <td>53.1000</td>\n",
       "      <td>C123</td>\n",
       "      <td>S</td>\n",
       "    </tr>\n",
       "    <tr>\n",
       "      <th>4</th>\n",
       "      <td>5</td>\n",
       "      <td>0</td>\n",
       "      <td>3</td>\n",
       "      <td>Allen, Mr. William Henry</td>\n",
       "      <td>male</td>\n",
       "      <td>35.0</td>\n",
       "      <td>0</td>\n",
       "      <td>0</td>\n",
       "      <td>373450</td>\n",
       "      <td>8.0500</td>\n",
       "      <td>NaN</td>\n",
       "      <td>S</td>\n",
       "    </tr>\n",
       "  </tbody>\n",
       "</table>\n",
       "</div>"
      ],
      "text/plain": [
       "   PassengerId  Survived  Pclass  \\\n",
       "0            1         0       3   \n",
       "1            2         1       1   \n",
       "2            3         1       3   \n",
       "3            4         1       1   \n",
       "4            5         0       3   \n",
       "\n",
       "                                                Name     Sex   Age  SibSp  \\\n",
       "0                            Braund, Mr. Owen Harris    male  22.0      1   \n",
       "1  Cumings, Mrs. John Bradley (Florence Briggs Th...  female  38.0      1   \n",
       "2                             Heikkinen, Miss. Laina  female  26.0      0   \n",
       "3       Futrelle, Mrs. Jacques Heath (Lily May Peel)  female  35.0      1   \n",
       "4                           Allen, Mr. William Henry    male  35.0      0   \n",
       "\n",
       "   Parch            Ticket     Fare Cabin Embarked  \n",
       "0      0         A/5 21171   7.2500   NaN        S  \n",
       "1      0          PC 17599  71.2833   C85        C  \n",
       "2      0  STON/O2. 3101282   7.9250   NaN        S  \n",
       "3      0            113803  53.1000  C123        S  \n",
       "4      0            373450   8.0500   NaN        S  "
      ]
     },
     "execution_count": 4,
     "metadata": {},
     "output_type": "execute_result"
    }
   ],
   "source": [
    "df_train.head()"
   ]
  },
  {
   "cell_type": "code",
   "execution_count": 5,
   "id": "4d5537be",
   "metadata": {
    "execution": {
     "iopub.execute_input": "2023-02-25T07:30:40.725169Z",
     "iopub.status.busy": "2023-02-25T07:30:40.724684Z",
     "iopub.status.idle": "2023-02-25T07:30:40.742090Z",
     "shell.execute_reply": "2023-02-25T07:30:40.740781Z"
    },
    "papermill": {
     "duration": 0.028815,
     "end_time": "2023-02-25T07:30:40.744707",
     "exception": false,
     "start_time": "2023-02-25T07:30:40.715892",
     "status": "completed"
    },
    "tags": []
   },
   "outputs": [
    {
     "data": {
      "text/html": [
       "<div>\n",
       "<style scoped>\n",
       "    .dataframe tbody tr th:only-of-type {\n",
       "        vertical-align: middle;\n",
       "    }\n",
       "\n",
       "    .dataframe tbody tr th {\n",
       "        vertical-align: top;\n",
       "    }\n",
       "\n",
       "    .dataframe thead th {\n",
       "        text-align: right;\n",
       "    }\n",
       "</style>\n",
       "<table border=\"1\" class=\"dataframe\">\n",
       "  <thead>\n",
       "    <tr style=\"text-align: right;\">\n",
       "      <th></th>\n",
       "      <th>PassengerId</th>\n",
       "      <th>Pclass</th>\n",
       "      <th>Name</th>\n",
       "      <th>Sex</th>\n",
       "      <th>Age</th>\n",
       "      <th>SibSp</th>\n",
       "      <th>Parch</th>\n",
       "      <th>Ticket</th>\n",
       "      <th>Fare</th>\n",
       "      <th>Cabin</th>\n",
       "      <th>Embarked</th>\n",
       "    </tr>\n",
       "  </thead>\n",
       "  <tbody>\n",
       "    <tr>\n",
       "      <th>0</th>\n",
       "      <td>892</td>\n",
       "      <td>3</td>\n",
       "      <td>Kelly, Mr. James</td>\n",
       "      <td>male</td>\n",
       "      <td>34.5</td>\n",
       "      <td>0</td>\n",
       "      <td>0</td>\n",
       "      <td>330911</td>\n",
       "      <td>7.8292</td>\n",
       "      <td>NaN</td>\n",
       "      <td>Q</td>\n",
       "    </tr>\n",
       "    <tr>\n",
       "      <th>1</th>\n",
       "      <td>893</td>\n",
       "      <td>3</td>\n",
       "      <td>Wilkes, Mrs. James (Ellen Needs)</td>\n",
       "      <td>female</td>\n",
       "      <td>47.0</td>\n",
       "      <td>1</td>\n",
       "      <td>0</td>\n",
       "      <td>363272</td>\n",
       "      <td>7.0000</td>\n",
       "      <td>NaN</td>\n",
       "      <td>S</td>\n",
       "    </tr>\n",
       "    <tr>\n",
       "      <th>2</th>\n",
       "      <td>894</td>\n",
       "      <td>2</td>\n",
       "      <td>Myles, Mr. Thomas Francis</td>\n",
       "      <td>male</td>\n",
       "      <td>62.0</td>\n",
       "      <td>0</td>\n",
       "      <td>0</td>\n",
       "      <td>240276</td>\n",
       "      <td>9.6875</td>\n",
       "      <td>NaN</td>\n",
       "      <td>Q</td>\n",
       "    </tr>\n",
       "    <tr>\n",
       "      <th>3</th>\n",
       "      <td>895</td>\n",
       "      <td>3</td>\n",
       "      <td>Wirz, Mr. Albert</td>\n",
       "      <td>male</td>\n",
       "      <td>27.0</td>\n",
       "      <td>0</td>\n",
       "      <td>0</td>\n",
       "      <td>315154</td>\n",
       "      <td>8.6625</td>\n",
       "      <td>NaN</td>\n",
       "      <td>S</td>\n",
       "    </tr>\n",
       "    <tr>\n",
       "      <th>4</th>\n",
       "      <td>896</td>\n",
       "      <td>3</td>\n",
       "      <td>Hirvonen, Mrs. Alexander (Helga E Lindqvist)</td>\n",
       "      <td>female</td>\n",
       "      <td>22.0</td>\n",
       "      <td>1</td>\n",
       "      <td>1</td>\n",
       "      <td>3101298</td>\n",
       "      <td>12.2875</td>\n",
       "      <td>NaN</td>\n",
       "      <td>S</td>\n",
       "    </tr>\n",
       "  </tbody>\n",
       "</table>\n",
       "</div>"
      ],
      "text/plain": [
       "   PassengerId  Pclass                                          Name     Sex  \\\n",
       "0          892       3                              Kelly, Mr. James    male   \n",
       "1          893       3              Wilkes, Mrs. James (Ellen Needs)  female   \n",
       "2          894       2                     Myles, Mr. Thomas Francis    male   \n",
       "3          895       3                              Wirz, Mr. Albert    male   \n",
       "4          896       3  Hirvonen, Mrs. Alexander (Helga E Lindqvist)  female   \n",
       "\n",
       "    Age  SibSp  Parch   Ticket     Fare Cabin Embarked  \n",
       "0  34.5      0      0   330911   7.8292   NaN        Q  \n",
       "1  47.0      1      0   363272   7.0000   NaN        S  \n",
       "2  62.0      0      0   240276   9.6875   NaN        Q  \n",
       "3  27.0      0      0   315154   8.6625   NaN        S  \n",
       "4  22.0      1      1  3101298  12.2875   NaN        S  "
      ]
     },
     "execution_count": 5,
     "metadata": {},
     "output_type": "execute_result"
    }
   ],
   "source": [
    "df_test.head()"
   ]
  },
  {
   "cell_type": "code",
   "execution_count": 6,
   "id": "ecf920b6",
   "metadata": {
    "execution": {
     "iopub.execute_input": "2023-02-25T07:30:40.761731Z",
     "iopub.status.busy": "2023-02-25T07:30:40.761144Z",
     "iopub.status.idle": "2023-02-25T07:30:40.787543Z",
     "shell.execute_reply": "2023-02-25T07:30:40.785947Z"
    },
    "papermill": {
     "duration": 0.038945,
     "end_time": "2023-02-25T07:30:40.791173",
     "exception": false,
     "start_time": "2023-02-25T07:30:40.752228",
     "status": "completed"
    },
    "tags": []
   },
   "outputs": [
    {
     "name": "stdout",
     "output_type": "stream",
     "text": [
      "<class 'pandas.core.frame.DataFrame'>\n",
      "RangeIndex: 891 entries, 0 to 890\n",
      "Data columns (total 12 columns):\n",
      " #   Column       Non-Null Count  Dtype  \n",
      "---  ------       --------------  -----  \n",
      " 0   PassengerId  891 non-null    int64  \n",
      " 1   Survived     891 non-null    int64  \n",
      " 2   Pclass       891 non-null    int64  \n",
      " 3   Name         891 non-null    object \n",
      " 4   Sex          891 non-null    object \n",
      " 5   Age          714 non-null    float64\n",
      " 6   SibSp        891 non-null    int64  \n",
      " 7   Parch        891 non-null    int64  \n",
      " 8   Ticket       891 non-null    object \n",
      " 9   Fare         891 non-null    float64\n",
      " 10  Cabin        204 non-null    object \n",
      " 11  Embarked     889 non-null    object \n",
      "dtypes: float64(2), int64(5), object(5)\n",
      "memory usage: 83.7+ KB\n"
     ]
    }
   ],
   "source": [
    "df_train.info()"
   ]
  },
  {
   "cell_type": "code",
   "execution_count": 7,
   "id": "37c846a5",
   "metadata": {
    "execution": {
     "iopub.execute_input": "2023-02-25T07:30:40.809617Z",
     "iopub.status.busy": "2023-02-25T07:30:40.809126Z",
     "iopub.status.idle": "2023-02-25T07:30:40.848787Z",
     "shell.execute_reply": "2023-02-25T07:30:40.847357Z"
    },
    "papermill": {
     "duration": 0.051943,
     "end_time": "2023-02-25T07:30:40.851458",
     "exception": false,
     "start_time": "2023-02-25T07:30:40.799515",
     "status": "completed"
    },
    "tags": []
   },
   "outputs": [
    {
     "data": {
      "text/html": [
       "<div>\n",
       "<style scoped>\n",
       "    .dataframe tbody tr th:only-of-type {\n",
       "        vertical-align: middle;\n",
       "    }\n",
       "\n",
       "    .dataframe tbody tr th {\n",
       "        vertical-align: top;\n",
       "    }\n",
       "\n",
       "    .dataframe thead th {\n",
       "        text-align: right;\n",
       "    }\n",
       "</style>\n",
       "<table border=\"1\" class=\"dataframe\">\n",
       "  <thead>\n",
       "    <tr style=\"text-align: right;\">\n",
       "      <th></th>\n",
       "      <th>PassengerId</th>\n",
       "      <th>Survived</th>\n",
       "      <th>Pclass</th>\n",
       "      <th>Age</th>\n",
       "      <th>SibSp</th>\n",
       "      <th>Parch</th>\n",
       "      <th>Fare</th>\n",
       "    </tr>\n",
       "  </thead>\n",
       "  <tbody>\n",
       "    <tr>\n",
       "      <th>count</th>\n",
       "      <td>891.000000</td>\n",
       "      <td>891.000000</td>\n",
       "      <td>891.000000</td>\n",
       "      <td>714.000000</td>\n",
       "      <td>891.000000</td>\n",
       "      <td>891.000000</td>\n",
       "      <td>891.000000</td>\n",
       "    </tr>\n",
       "    <tr>\n",
       "      <th>mean</th>\n",
       "      <td>446.000000</td>\n",
       "      <td>0.383838</td>\n",
       "      <td>2.308642</td>\n",
       "      <td>29.699118</td>\n",
       "      <td>0.523008</td>\n",
       "      <td>0.381594</td>\n",
       "      <td>32.204208</td>\n",
       "    </tr>\n",
       "    <tr>\n",
       "      <th>std</th>\n",
       "      <td>257.353842</td>\n",
       "      <td>0.486592</td>\n",
       "      <td>0.836071</td>\n",
       "      <td>14.526497</td>\n",
       "      <td>1.102743</td>\n",
       "      <td>0.806057</td>\n",
       "      <td>49.693429</td>\n",
       "    </tr>\n",
       "    <tr>\n",
       "      <th>min</th>\n",
       "      <td>1.000000</td>\n",
       "      <td>0.000000</td>\n",
       "      <td>1.000000</td>\n",
       "      <td>0.420000</td>\n",
       "      <td>0.000000</td>\n",
       "      <td>0.000000</td>\n",
       "      <td>0.000000</td>\n",
       "    </tr>\n",
       "    <tr>\n",
       "      <th>25%</th>\n",
       "      <td>223.500000</td>\n",
       "      <td>0.000000</td>\n",
       "      <td>2.000000</td>\n",
       "      <td>20.125000</td>\n",
       "      <td>0.000000</td>\n",
       "      <td>0.000000</td>\n",
       "      <td>7.910400</td>\n",
       "    </tr>\n",
       "    <tr>\n",
       "      <th>50%</th>\n",
       "      <td>446.000000</td>\n",
       "      <td>0.000000</td>\n",
       "      <td>3.000000</td>\n",
       "      <td>28.000000</td>\n",
       "      <td>0.000000</td>\n",
       "      <td>0.000000</td>\n",
       "      <td>14.454200</td>\n",
       "    </tr>\n",
       "    <tr>\n",
       "      <th>75%</th>\n",
       "      <td>668.500000</td>\n",
       "      <td>1.000000</td>\n",
       "      <td>3.000000</td>\n",
       "      <td>38.000000</td>\n",
       "      <td>1.000000</td>\n",
       "      <td>0.000000</td>\n",
       "      <td>31.000000</td>\n",
       "    </tr>\n",
       "    <tr>\n",
       "      <th>max</th>\n",
       "      <td>891.000000</td>\n",
       "      <td>1.000000</td>\n",
       "      <td>3.000000</td>\n",
       "      <td>80.000000</td>\n",
       "      <td>8.000000</td>\n",
       "      <td>6.000000</td>\n",
       "      <td>512.329200</td>\n",
       "    </tr>\n",
       "  </tbody>\n",
       "</table>\n",
       "</div>"
      ],
      "text/plain": [
       "       PassengerId    Survived      Pclass         Age       SibSp  \\\n",
       "count   891.000000  891.000000  891.000000  714.000000  891.000000   \n",
       "mean    446.000000    0.383838    2.308642   29.699118    0.523008   \n",
       "std     257.353842    0.486592    0.836071   14.526497    1.102743   \n",
       "min       1.000000    0.000000    1.000000    0.420000    0.000000   \n",
       "25%     223.500000    0.000000    2.000000   20.125000    0.000000   \n",
       "50%     446.000000    0.000000    3.000000   28.000000    0.000000   \n",
       "75%     668.500000    1.000000    3.000000   38.000000    1.000000   \n",
       "max     891.000000    1.000000    3.000000   80.000000    8.000000   \n",
       "\n",
       "            Parch        Fare  \n",
       "count  891.000000  891.000000  \n",
       "mean     0.381594   32.204208  \n",
       "std      0.806057   49.693429  \n",
       "min      0.000000    0.000000  \n",
       "25%      0.000000    7.910400  \n",
       "50%      0.000000   14.454200  \n",
       "75%      0.000000   31.000000  \n",
       "max      6.000000  512.329200  "
      ]
     },
     "execution_count": 7,
     "metadata": {},
     "output_type": "execute_result"
    }
   ],
   "source": [
    "df_train.describe()"
   ]
  },
  {
   "cell_type": "markdown",
   "id": "04c49380",
   "metadata": {
    "papermill": {
     "duration": 0.007359,
     "end_time": "2023-02-25T07:30:40.866756",
     "exception": false,
     "start_time": "2023-02-25T07:30:40.859397",
     "status": "completed"
    },
    "tags": []
   },
   "source": [
    "Удалим колонки PassengerId, Ticket, Name, которые не планируется использовать для построения модели, а также колонку Cabin, состоящую из пропусков на 80%."
   ]
  },
  {
   "cell_type": "code",
   "execution_count": 8,
   "id": "472b1382",
   "metadata": {
    "execution": {
     "iopub.execute_input": "2023-02-25T07:30:40.884754Z",
     "iopub.status.busy": "2023-02-25T07:30:40.883795Z",
     "iopub.status.idle": "2023-02-25T07:30:40.893108Z",
     "shell.execute_reply": "2023-02-25T07:30:40.891596Z"
    },
    "papermill": {
     "duration": 0.021527,
     "end_time": "2023-02-25T07:30:40.895961",
     "exception": false,
     "start_time": "2023-02-25T07:30:40.874434",
     "status": "completed"
    },
    "tags": []
   },
   "outputs": [],
   "source": [
    "df_train.drop(labels=['PassengerId', 'Cabin', 'Ticket', 'Name'], axis=1, inplace=True)\n",
    "df_test.drop(labels=['PassengerId' ,'Cabin', 'Ticket', 'Name'], axis=1, inplace=True)"
   ]
  },
  {
   "cell_type": "markdown",
   "id": "752a82a1",
   "metadata": {
    "papermill": {
     "duration": 0.007547,
     "end_time": "2023-02-25T07:30:40.913059",
     "exception": false,
     "start_time": "2023-02-25T07:30:40.905512",
     "status": "completed"
    },
    "tags": []
   },
   "source": [
    "Оценим количество пропусков в данных"
   ]
  },
  {
   "cell_type": "code",
   "execution_count": 9,
   "id": "6cc7ca08",
   "metadata": {
    "execution": {
     "iopub.execute_input": "2023-02-25T07:30:40.931031Z",
     "iopub.status.busy": "2023-02-25T07:30:40.930534Z",
     "iopub.status.idle": "2023-02-25T07:30:40.941817Z",
     "shell.execute_reply": "2023-02-25T07:30:40.940344Z"
    },
    "papermill": {
     "duration": 0.023763,
     "end_time": "2023-02-25T07:30:40.944574",
     "exception": false,
     "start_time": "2023-02-25T07:30:40.920811",
     "status": "completed"
    },
    "tags": []
   },
   "outputs": [
    {
     "data": {
      "text/plain": [
       "Survived      0\n",
       "Pclass        0\n",
       "Sex           0\n",
       "Age         177\n",
       "SibSp         0\n",
       "Parch         0\n",
       "Fare          0\n",
       "Embarked      2\n",
       "dtype: int64"
      ]
     },
     "execution_count": 9,
     "metadata": {},
     "output_type": "execute_result"
    }
   ],
   "source": [
    "df_train.isna().sum()"
   ]
  },
  {
   "cell_type": "code",
   "execution_count": 10,
   "id": "f0e30f2c",
   "metadata": {
    "execution": {
     "iopub.execute_input": "2023-02-25T07:30:40.963164Z",
     "iopub.status.busy": "2023-02-25T07:30:40.962632Z",
     "iopub.status.idle": "2023-02-25T07:30:40.973875Z",
     "shell.execute_reply": "2023-02-25T07:30:40.972523Z"
    },
    "papermill": {
     "duration": 0.023944,
     "end_time": "2023-02-25T07:30:40.976589",
     "exception": false,
     "start_time": "2023-02-25T07:30:40.952645",
     "status": "completed"
    },
    "tags": []
   },
   "outputs": [
    {
     "data": {
      "text/plain": [
       "Pclass       0\n",
       "Sex          0\n",
       "Age         86\n",
       "SibSp        0\n",
       "Parch        0\n",
       "Fare         1\n",
       "Embarked     0\n",
       "dtype: int64"
      ]
     },
     "execution_count": 10,
     "metadata": {},
     "output_type": "execute_result"
    }
   ],
   "source": [
    "df_test.isna().sum()"
   ]
  },
  {
   "cell_type": "markdown",
   "id": "6b6542f0",
   "metadata": {
    "papermill": {
     "duration": 0.007835,
     "end_time": "2023-02-25T07:30:40.992651",
     "exception": false,
     "start_time": "2023-02-25T07:30:40.984816",
     "status": "completed"
    },
    "tags": []
   },
   "source": [
    "Заполним пропуски медианными значениями (Age, Fare) и значениями моды (Embarked)"
   ]
  },
  {
   "cell_type": "code",
   "execution_count": 11,
   "id": "94d8b9f5",
   "metadata": {
    "execution": {
     "iopub.execute_input": "2023-02-25T07:30:41.012070Z",
     "iopub.status.busy": "2023-02-25T07:30:41.011531Z",
     "iopub.status.idle": "2023-02-25T07:30:41.027275Z",
     "shell.execute_reply": "2023-02-25T07:30:41.025821Z"
    },
    "papermill": {
     "duration": 0.029471,
     "end_time": "2023-02-25T07:30:41.030479",
     "exception": false,
     "start_time": "2023-02-25T07:30:41.001008",
     "status": "completed"
    },
    "tags": []
   },
   "outputs": [],
   "source": [
    "df_train['Age'].fillna(df_train['Age'].median(), inplace=True)\n",
    "df_train['Embarked'].fillna(df_train['Embarked'].mode(), inplace=True)\n",
    "df_test['Age'].fillna(df_test['Age'].median(), inplace=True)\n",
    "df_test['Fare'].fillna(df_test['Fare'].median(), inplace=True)"
   ]
  },
  {
   "cell_type": "markdown",
   "id": "aa30db5e",
   "metadata": {
    "papermill": {
     "duration": 0.007735,
     "end_time": "2023-02-25T07:30:41.046434",
     "exception": false,
     "start_time": "2023-02-25T07:30:41.038699",
     "status": "completed"
    },
    "tags": []
   },
   "source": [
    "Заменим номинальные признаки Sex и Embarked на числовые"
   ]
  },
  {
   "cell_type": "code",
   "execution_count": 12,
   "id": "c24bd5c9",
   "metadata": {
    "execution": {
     "iopub.execute_input": "2023-02-25T07:30:41.065061Z",
     "iopub.status.busy": "2023-02-25T07:30:41.064537Z",
     "iopub.status.idle": "2023-02-25T07:30:41.075479Z",
     "shell.execute_reply": "2023-02-25T07:30:41.074081Z"
    },
    "papermill": {
     "duration": 0.023547,
     "end_time": "2023-02-25T07:30:41.078129",
     "exception": false,
     "start_time": "2023-02-25T07:30:41.054582",
     "status": "completed"
    },
    "tags": []
   },
   "outputs": [],
   "source": [
    "encoder = LabelEncoder()\n",
    "encoder.fit(df_train[\"Sex\"])\n",
    "df_train[\"Sex\"] = encoder.transform(df_train[\"Sex\"])\n",
    "df_test[\"Sex\"] = encoder.transform(df_test[\"Sex\"])\n",
    "encoder.fit(df_train[\"Embarked\"])\n",
    "df_train[\"Embarked\"] = encoder.transform(df_train[\"Embarked\"])\n",
    "df_test[\"Embarked\"] = encoder.transform(df_test[\"Embarked\"])"
   ]
  },
  {
   "cell_type": "markdown",
   "id": "41181103",
   "metadata": {
    "papermill": {
     "duration": 0.007774,
     "end_time": "2023-02-25T07:30:41.094000",
     "exception": false,
     "start_time": "2023-02-25T07:30:41.086226",
     "status": "completed"
    },
    "tags": []
   },
   "source": [
    "Нормализуем данные в столбцах Age и Fare"
   ]
  },
  {
   "cell_type": "code",
   "execution_count": 13,
   "id": "cbc98933",
   "metadata": {
    "execution": {
     "iopub.execute_input": "2023-02-25T07:30:41.112708Z",
     "iopub.status.busy": "2023-02-25T07:30:41.112200Z",
     "iopub.status.idle": "2023-02-25T07:30:41.138346Z",
     "shell.execute_reply": "2023-02-25T07:30:41.136518Z"
    },
    "papermill": {
     "duration": 0.0392,
     "end_time": "2023-02-25T07:30:41.141435",
     "exception": false,
     "start_time": "2023-02-25T07:30:41.102235",
     "status": "completed"
    },
    "tags": []
   },
   "outputs": [],
   "source": [
    "scaler = StandardScaler()\n",
    "df_train[\"Age\"] = scaler.fit_transform(df_train[[\"Age\"]])\n",
    "df_train[\"Fare\"] = scaler.fit_transform(df_train[[\"Fare\"]])\n",
    "df_test[\"Age\"] = scaler.fit_transform(df_test[[\"Age\"]])\n",
    "df_test[\"Fare\"] = scaler.fit_transform(df_test[[\"Fare\"]])"
   ]
  },
  {
   "cell_type": "markdown",
   "id": "6d1c96c1",
   "metadata": {
    "papermill": {
     "duration": 0.007702,
     "end_time": "2023-02-25T07:30:41.157497",
     "exception": false,
     "start_time": "2023-02-25T07:30:41.149795",
     "status": "completed"
    },
    "tags": []
   },
   "source": [
    "Построим модель логистической регрессии"
   ]
  },
  {
   "cell_type": "code",
   "execution_count": 14,
   "id": "1c26881f",
   "metadata": {
    "execution": {
     "iopub.execute_input": "2023-02-25T07:30:41.176363Z",
     "iopub.status.busy": "2023-02-25T07:30:41.175841Z",
     "iopub.status.idle": "2023-02-25T07:30:41.206464Z",
     "shell.execute_reply": "2023-02-25T07:30:41.205064Z"
    },
    "papermill": {
     "duration": 0.043254,
     "end_time": "2023-02-25T07:30:41.209096",
     "exception": false,
     "start_time": "2023-02-25T07:30:41.165842",
     "status": "completed"
    },
    "tags": []
   },
   "outputs": [
    {
     "data": {
      "text/plain": [
       "LogisticRegression()"
      ]
     },
     "execution_count": 14,
     "metadata": {},
     "output_type": "execute_result"
    }
   ],
   "source": [
    "y_column = 'Survived'\n",
    "x_columns = [column for column in df_train.columns if column != 'Survived']\n",
    "logreg_clf = LogisticRegression()\n",
    "logreg_clf.fit(df_train[x_columns], df_train[y_column])"
   ]
  },
  {
   "cell_type": "markdown",
   "id": "9a9a4c88",
   "metadata": {
    "papermill": {
     "duration": 0.00777,
     "end_time": "2023-02-25T07:30:41.225251",
     "exception": false,
     "start_time": "2023-02-25T07:30:41.217481",
     "status": "completed"
    },
    "tags": []
   },
   "source": [
    "Получим предсказание модели для тестовых данных"
   ]
  },
  {
   "cell_type": "code",
   "execution_count": 15,
   "id": "efc5343e",
   "metadata": {
    "execution": {
     "iopub.execute_input": "2023-02-25T07:30:41.244168Z",
     "iopub.status.busy": "2023-02-25T07:30:41.243673Z",
     "iopub.status.idle": "2023-02-25T07:30:41.252735Z",
     "shell.execute_reply": "2023-02-25T07:30:41.251550Z"
    },
    "papermill": {
     "duration": 0.021854,
     "end_time": "2023-02-25T07:30:41.255288",
     "exception": false,
     "start_time": "2023-02-25T07:30:41.233434",
     "status": "completed"
    },
    "tags": []
   },
   "outputs": [],
   "source": [
    "predict = logreg_clf.predict(df_test[x_columns])"
   ]
  },
  {
   "cell_type": "markdown",
   "id": "79c53cb1",
   "metadata": {
    "papermill": {
     "duration": 0.007965,
     "end_time": "2023-02-25T07:30:41.271468",
     "exception": false,
     "start_time": "2023-02-25T07:30:41.263503",
     "status": "completed"
    },
    "tags": []
   },
   "source": [
    "Оценим модель сравнив предсказанные данные с реальными"
   ]
  },
  {
   "cell_type": "code",
   "execution_count": 16,
   "id": "ab0b0652",
   "metadata": {
    "execution": {
     "iopub.execute_input": "2023-02-25T07:30:41.290237Z",
     "iopub.status.busy": "2023-02-25T07:30:41.289707Z",
     "iopub.status.idle": "2023-02-25T07:30:41.307653Z",
     "shell.execute_reply": "2023-02-25T07:30:41.306044Z"
    },
    "papermill": {
     "duration": 0.030715,
     "end_time": "2023-02-25T07:30:41.310497",
     "exception": false,
     "start_time": "2023-02-25T07:30:41.279782",
     "status": "completed"
    },
    "tags": []
   },
   "outputs": [
    {
     "name": "stdout",
     "output_type": "stream",
     "text": [
      "Accuracy: 0.9401913875598086\n",
      "F1 Score: 0.919093851132686\n"
     ]
    }
   ],
   "source": [
    "df_result = pd.read_csv('/kaggle/input/titanic/gender_submission.csv')\n",
    "df_answ = df_result[df_result.PassengerId > 891].Survived\n",
    "print(f\"Accuracy: {accuracy_score(df_answ, predict)}\")\n",
    "print(f\"F1 Score: {f1_score(df_answ, predict)}\")"
   ]
  },
  {
   "cell_type": "code",
   "execution_count": 17,
   "id": "b015afc5",
   "metadata": {
    "execution": {
     "iopub.execute_input": "2023-02-25T07:30:41.329098Z",
     "iopub.status.busy": "2023-02-25T07:30:41.328574Z",
     "iopub.status.idle": "2023-02-25T07:30:41.336901Z",
     "shell.execute_reply": "2023-02-25T07:30:41.335559Z"
    },
    "papermill": {
     "duration": 0.020969,
     "end_time": "2023-02-25T07:30:41.339581",
     "exception": false,
     "start_time": "2023-02-25T07:30:41.318612",
     "status": "completed"
    },
    "tags": []
   },
   "outputs": [],
   "source": [
    "output = pd.DataFrame({'PassengerId': df_result[df_result.PassengerId > 891].PassengerId, 'Survived': predict})"
   ]
  },
  {
   "cell_type": "code",
   "execution_count": 18,
   "id": "9ad95166",
   "metadata": {
    "execution": {
     "iopub.execute_input": "2023-02-25T07:30:41.358908Z",
     "iopub.status.busy": "2023-02-25T07:30:41.358400Z",
     "iopub.status.idle": "2023-02-25T07:30:41.370140Z",
     "shell.execute_reply": "2023-02-25T07:30:41.369056Z"
    },
    "papermill": {
     "duration": 0.024801,
     "end_time": "2023-02-25T07:30:41.372814",
     "exception": false,
     "start_time": "2023-02-25T07:30:41.348013",
     "status": "completed"
    },
    "tags": []
   },
   "outputs": [],
   "source": [
    "output.to_csv('submission.csv', index=False)"
   ]
  }
 ],
 "metadata": {
  "kernelspec": {
   "display_name": "Python 3 (ipykernel)",
   "language": "python",
   "name": "python3"
  },
  "language_info": {
   "codemirror_mode": {
    "name": "ipython",
    "version": 3
   },
   "file_extension": ".py",
   "mimetype": "text/x-python",
   "name": "python",
   "nbconvert_exporter": "python",
   "pygments_lexer": "ipython3",
   "version": "3.9.2"
  },
  "papermill": {
   "default_parameters": {},
   "duration": 14.950255,
   "end_time": "2023-02-25T07:30:42.406988",
   "environment_variables": {},
   "exception": null,
   "input_path": "__notebook__.ipynb",
   "output_path": "__notebook__.ipynb",
   "parameters": {},
   "start_time": "2023-02-25T07:30:27.456733",
   "version": "2.4.0"
  }
 },
 "nbformat": 4,
 "nbformat_minor": 5
}
