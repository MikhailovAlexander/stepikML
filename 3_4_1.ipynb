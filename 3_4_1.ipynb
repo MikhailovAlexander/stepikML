{
 "cells": [
  {
   "cell_type": "code",
   "execution_count": 1,
   "metadata": {
    "pycharm": {
     "name": "#%%\n"
    }
   },
   "outputs": [],
   "source": [
    "import pandas as pd"
   ]
  },
  {
   "cell_type": "code",
   "execution_count": 2,
   "metadata": {
    "pycharm": {
     "name": "#%%\n"
    }
   },
   "outputs": [],
   "source": [
    "url = \"https://raw.githubusercontent.com/bykov-alexei/data-science-course/master/Pandas/app_store_reviews.csv\"\n",
    "df = pd.read_csv(url)"
   ]
  },
  {
   "cell_type": "code",
   "execution_count": 3,
   "metadata": {
    "pycharm": {
     "name": "#%%\n"
    }
   },
   "outputs": [
    {
     "data": {
      "text/html": [
       "<div>\n",
       "<style scoped>\n",
       "    .dataframe tbody tr th:only-of-type {\n",
       "        vertical-align: middle;\n",
       "    }\n",
       "\n",
       "    .dataframe tbody tr th {\n",
       "        vertical-align: top;\n",
       "    }\n",
       "\n",
       "    .dataframe thead th {\n",
       "        text-align: right;\n",
       "    }\n",
       "</style>\n",
       "<table border=\"1\" class=\"dataframe\">\n",
       "  <thead>\n",
       "    <tr style=\"text-align: right;\">\n",
       "      <th></th>\n",
       "      <th>date</th>\n",
       "      <th>userName</th>\n",
       "      <th>title</th>\n",
       "      <th>rating</th>\n",
       "      <th>isEdited</th>\n",
       "      <th>review</th>\n",
       "      <th>crawled_at</th>\n",
       "      <th>url</th>\n",
       "      <th>app_id</th>\n",
       "      <th>country</th>\n",
       "      <th>app_name</th>\n",
       "      <th>_id</th>\n",
       "      <th>developerResponse</th>\n",
       "    </tr>\n",
       "  </thead>\n",
       "  <tbody>\n",
       "    <tr>\n",
       "      <th>0</th>\n",
       "      <td>2017-09-08 11:58:17</td>\n",
       "      <td>Mika 👽</td>\n",
       "      <td>Dieser nervige Button 😂</td>\n",
       "      <td>5</td>\n",
       "      <td>False</td>\n",
       "      <td>Sehr gute App, erfüllt Ihren Zweck. Finde so g...</td>\n",
       "      <td>2021-02-21 10:15:43</td>\n",
       "      <td>https://apps.apple.com/at/app/whatsapp-messeng...</td>\n",
       "      <td>310633997</td>\n",
       "      <td>at</td>\n",
       "      <td>whatsapp-messenger</td>\n",
       "      <td>32f9ec7e-74de-578d-acf6-48d4182cae60</td>\n",
       "      <td>NaN</td>\n",
       "    </tr>\n",
       "    <tr>\n",
       "      <th>1</th>\n",
       "      <td>2017-09-06 15:32:26</td>\n",
       "      <td>Bilux1</td>\n",
       "      <td>Super App</td>\n",
       "      <td>5</td>\n",
       "      <td>False</td>\n",
       "      <td>Bester Messenger Dienst</td>\n",
       "      <td>2021-02-21 10:15:43</td>\n",
       "      <td>https://apps.apple.com/at/app/whatsapp-messeng...</td>\n",
       "      <td>310633997</td>\n",
       "      <td>at</td>\n",
       "      <td>whatsapp-messenger</td>\n",
       "      <td>f89a85f6-437e-53f4-acd0-adda3ae5ab2e</td>\n",
       "      <td>NaN</td>\n",
       "    </tr>\n",
       "    <tr>\n",
       "      <th>2</th>\n",
       "      <td>2021-01-08 22:31:30</td>\n",
       "      <td>Leberkasbepi</td>\n",
       "      <td>Tschüss</td>\n",
       "      <td>1</td>\n",
       "      <td>False</td>\n",
       "      <td>Wegen den neuen Richtlinien, werd ich WhatsApp...</td>\n",
       "      <td>2021-02-21 10:15:43</td>\n",
       "      <td>https://apps.apple.com/at/app/whatsapp-messeng...</td>\n",
       "      <td>310633997</td>\n",
       "      <td>at</td>\n",
       "      <td>whatsapp-messenger</td>\n",
       "      <td>65adfbd9-dbab-5ba8-8d40-d84dc7e8f515</td>\n",
       "      <td>NaN</td>\n",
       "    </tr>\n",
       "    <tr>\n",
       "      <th>3</th>\n",
       "      <td>2019-01-15 12:18:55</td>\n",
       "      <td>1an--na1</td>\n",
       "      <td>Gehört jzt zu facebook</td>\n",
       "      <td>1</td>\n",
       "      <td>False</td>\n",
       "      <td>Furchtbare datenschutzpolitik</td>\n",
       "      <td>2021-02-21 10:15:43</td>\n",
       "      <td>https://apps.apple.com/at/app/whatsapp-messeng...</td>\n",
       "      <td>310633997</td>\n",
       "      <td>at</td>\n",
       "      <td>whatsapp-messenger</td>\n",
       "      <td>da48ad1c-3977-5e9d-8d74-c84f62ec1830</td>\n",
       "      <td>NaN</td>\n",
       "    </tr>\n",
       "    <tr>\n",
       "      <th>4</th>\n",
       "      <td>2020-05-24 13:51:44</td>\n",
       "      <td>Bykslmddislnsvsj</td>\n",
       "      <td>.</td>\n",
       "      <td>4</td>\n",
       "      <td>False</td>\n",
       "      <td>Wäre org wenn’s eine Abstimmungs-Funktion für ...</td>\n",
       "      <td>2021-02-21 10:15:43</td>\n",
       "      <td>https://apps.apple.com/at/app/whatsapp-messeng...</td>\n",
       "      <td>310633997</td>\n",
       "      <td>at</td>\n",
       "      <td>whatsapp-messenger</td>\n",
       "      <td>eefd7e92-a6d2-55de-b14b-b00002fa8380</td>\n",
       "      <td>NaN</td>\n",
       "    </tr>\n",
       "  </tbody>\n",
       "</table>\n",
       "</div>"
      ],
      "text/plain": [
       "                  date          userName                    title  rating  \\\n",
       "0  2017-09-08 11:58:17            Mika 👽  Dieser nervige Button 😂       5   \n",
       "1  2017-09-06 15:32:26            Bilux1                Super App       5   \n",
       "2  2021-01-08 22:31:30      Leberkasbepi                  Tschüss       1   \n",
       "3  2019-01-15 12:18:55          1an--na1   Gehört jzt zu facebook       1   \n",
       "4  2020-05-24 13:51:44  Bykslmddislnsvsj                        .       4   \n",
       "\n",
       "   isEdited                                             review  \\\n",
       "0     False  Sehr gute App, erfüllt Ihren Zweck. Finde so g...   \n",
       "1     False                            Bester Messenger Dienst   \n",
       "2     False  Wegen den neuen Richtlinien, werd ich WhatsApp...   \n",
       "3     False                      Furchtbare datenschutzpolitik   \n",
       "4     False  Wäre org wenn’s eine Abstimmungs-Funktion für ...   \n",
       "\n",
       "            crawled_at                                                url  \\\n",
       "0  2021-02-21 10:15:43  https://apps.apple.com/at/app/whatsapp-messeng...   \n",
       "1  2021-02-21 10:15:43  https://apps.apple.com/at/app/whatsapp-messeng...   \n",
       "2  2021-02-21 10:15:43  https://apps.apple.com/at/app/whatsapp-messeng...   \n",
       "3  2021-02-21 10:15:43  https://apps.apple.com/at/app/whatsapp-messeng...   \n",
       "4  2021-02-21 10:15:43  https://apps.apple.com/at/app/whatsapp-messeng...   \n",
       "\n",
       "      app_id country            app_name  \\\n",
       "0  310633997      at  whatsapp-messenger   \n",
       "1  310633997      at  whatsapp-messenger   \n",
       "2  310633997      at  whatsapp-messenger   \n",
       "3  310633997      at  whatsapp-messenger   \n",
       "4  310633997      at  whatsapp-messenger   \n",
       "\n",
       "                                    _id developerResponse  \n",
       "0  32f9ec7e-74de-578d-acf6-48d4182cae60               NaN  \n",
       "1  f89a85f6-437e-53f4-acd0-adda3ae5ab2e               NaN  \n",
       "2  65adfbd9-dbab-5ba8-8d40-d84dc7e8f515               NaN  \n",
       "3  da48ad1c-3977-5e9d-8d74-c84f62ec1830               NaN  \n",
       "4  eefd7e92-a6d2-55de-b14b-b00002fa8380               NaN  "
      ]
     },
     "execution_count": 3,
     "metadata": {},
     "output_type": "execute_result"
    }
   ],
   "source": [
    "df.head()"
   ]
  },
  {
   "cell_type": "code",
   "execution_count": 4,
   "metadata": {
    "pycharm": {
     "name": "#%%\n"
    }
   },
   "outputs": [
    {
     "name": "stdout",
     "output_type": "stream",
     "text": [
      "<class 'pandas.core.frame.DataFrame'>\n",
      "RangeIndex: 10588 entries, 0 to 10587\n",
      "Data columns (total 13 columns):\n",
      " #   Column             Non-Null Count  Dtype \n",
      "---  ------             --------------  ----- \n",
      " 0   date               10588 non-null  object\n",
      " 1   userName           10588 non-null  object\n",
      " 2   title              10588 non-null  object\n",
      " 3   rating             10588 non-null  int64 \n",
      " 4   isEdited           10588 non-null  bool  \n",
      " 5   review             10588 non-null  object\n",
      " 6   crawled_at         10588 non-null  object\n",
      " 7   url                10588 non-null  object\n",
      " 8   app_id             10588 non-null  int64 \n",
      " 9   country            10588 non-null  object\n",
      " 10  app_name           10588 non-null  object\n",
      " 11  _id                10588 non-null  object\n",
      " 12  developerResponse  51 non-null     object\n",
      "dtypes: bool(1), int64(2), object(10)\n",
      "memory usage: 1003.1+ KB\n"
     ]
    }
   ],
   "source": [
    "df.info()"
   ]
  },
  {
   "cell_type": "code",
   "execution_count": 7,
   "metadata": {
    "pycharm": {
     "name": "#%%\n"
    }
   },
   "outputs": [
    {
     "data": {
      "text/plain": [
       "4504"
      ]
     },
     "execution_count": 7,
     "metadata": {},
     "output_type": "execute_result"
    }
   ],
   "source": [
    "df[(df.app_name == 'whatsapp-messenger') & (df.rating == 5)].index.size"
   ]
  },
  {
   "cell_type": "code",
   "execution_count": 9,
   "metadata": {
    "pycharm": {
     "name": "#%%\n"
    },
    "scrolled": true
   },
   "outputs": [
    {
     "data": {
      "text/plain": [
       "4.623682579045258"
      ]
     },
     "execution_count": 9,
     "metadata": {},
     "output_type": "execute_result"
    }
   ],
   "source": [
    "df[df.app_name == 'talking-tom-cat-2'].rating.mean()"
   ]
  },
  {
   "cell_type": "code",
   "execution_count": 11,
   "metadata": {
    "pycharm": {
     "name": "#%%\n"
    }
   },
   "outputs": [
    {
     "data": {
      "text/plain": [
       "51"
      ]
     },
     "execution_count": 11,
     "metadata": {},
     "output_type": "execute_result"
    }
   ],
   "source": [
    "df.developerResponse.count()"
   ]
  },
  {
   "cell_type": "code",
   "execution_count": 13,
   "metadata": {
    "pycharm": {
     "name": "#%%\n"
    },
    "scrolled": false
   },
   "outputs": [
    {
     "data": {
      "text/plain": [
       "rating    talking-tom-cat-2\n",
       "dtype: object"
      ]
     },
     "execution_count": 13,
     "metadata": {},
     "output_type": "execute_result"
    }
   ],
   "source": [
    "df.groupby('app_name').agg({'rating':'mean'}).idxmax()"
   ]
  },
  {
   "cell_type": "code",
   "execution_count": 17,
   "metadata": {
    "pycharm": {
     "name": "#%%\n"
    }
   },
   "outputs": [],
   "source": [
    "df['review_len'] = df.review.apply(lambda st: len(st.split()))"
   ]
  },
  {
   "cell_type": "code",
   "execution_count": 21,
   "metadata": {
    "pycharm": {
     "name": "#%%\n"
    }
   },
   "outputs": [
    {
     "data": {
      "text/plain": [
       "'Noch nie habe ich eine App gehabt, die so viele Funktionen in sich vereint! Kostenlose Nachrichten, Videos, Standorte, Sprachnachrichten, und bald soll man auch VoIP nutzen können! Am meisten fasziniert mich jedoch eine Funktion, die mein Leben wesentlich erleichtert hat und die ich nie mehr missen möchte: Die Datenweiterleitungsfunktion! Ich brauche keine Wunschliste mehr an das Christkind zu senden, denn WhatsApp findet automatisch heraus, was ich mir wünsche und leitet es in Echtzeit weiter! Wenn ich einmal eine Telefonnummer nicht mehr weiß oder unabsichtlich gelöscht habe, dann ist WhatsApp der Retter in Not, denn es hat vorsorglich alle meine Telefonkontakte abgegriffen und auf speziell gesicherten Servern im Ausland gespeichert! Ich bin sogar überzeugt, dass WhatsApp dieses Service bald erweitert, und zukünftig auch von Fotos, Nachrichten und Sprachnachrichten eine verschlüsselte Datensicherung durchführt, um dem Nutzer immer helfen zu können, wenn mal etwas verloren geht! Angeblich speichert WhatsApp auch Standorte, um diesen im Notfall rasch an Rettungsorganisationen weitergeben zu können. Leider gibt es immer wieder Menschen, die Gerüchte verbreiten und behaupten, WhatsApp verwende alle diese gesammelten Daten, nur um viel Geld damit zu verdienen, das stimmt aber alles nicht! WhatsApp ist sehr seriös und missbraucht mit Sicherheit keine Daten, gerade nach dem Zusammenschluss mit Facebook kann man sich sehr sicher sein, dass mit den Daten sehr sorgsam umgegangen wird, bei Facebook wurde Datensicherheit ja immer sehr groß geschrieben und nie sowas verkauft, nur um Geld damit zu verdienen! Alles in Allem bin ich sehr zufrieden mit der App und würde mit wünschen, dass demnächst auch die Gesundheitsdaten gespeichert werden, ELGA ist mir nämlich zu unsicher, denn da liegen die Daten auf österr. Servern, man weiß ja schließlich nie, an wen die Regierung meine Daten weiterverkauft um den Budgetüberschuss noch einmal größer zu machen! Als ob wir hier zu wenig Geld hätten, das ist doch lächerlich! Wir sind schließlich das reichste Land der Welt ;-).'"
      ]
     },
     "execution_count": 21,
     "metadata": {},
     "output_type": "execute_result"
    }
   ],
   "source": [
    "df.sort_values(by='review_len', ascending=False).iloc[0].review"
   ]
  },
  {
   "cell_type": "code",
   "execution_count": 22,
   "metadata": {
    "pycharm": {
     "name": "#%%\n"
    }
   },
   "outputs": [
    {
     "data": {
      "text/plain": [
       "14.542973177181715"
      ]
     },
     "execution_count": 22,
     "metadata": {},
     "output_type": "execute_result"
    }
   ],
   "source": [
    "df.review_len.mean()"
   ]
  },
  {
   "cell_type": "code",
   "execution_count": 25,
   "metadata": {},
   "outputs": [
    {
     "data": {
      "text/plain": [
       "2021-02-21 10:15:44    5419\n",
       "2021-02-21 10:15:43    3556\n",
       "2021-02-20 23:53:35    1613\n",
       "Name: crawled_at, dtype: int64"
      ]
     },
     "execution_count": 25,
     "metadata": {},
     "output_type": "execute_result"
    }
   ],
   "source": [
    "df.crawled_at.value_counts()"
   ]
  },
  {
   "cell_type": "code",
   "execution_count": 26,
   "metadata": {},
   "outputs": [
    {
     "data": {
      "text/plain": [
       "5.0"
      ]
     },
     "execution_count": 26,
     "metadata": {},
     "output_type": "execute_result"
    }
   ],
   "source": [
    "df[df.app_name == 'talking-tom-cat-2'].rating.median()"
   ]
  }
 ],
 "metadata": {
  "kernelspec": {
   "display_name": "Python 3 (ipykernel)",
   "language": "python",
   "name": "python3"
  },
  "language_info": {
   "codemirror_mode": {
    "name": "ipython",
    "version": 3
   },
   "file_extension": ".py",
   "mimetype": "text/x-python",
   "name": "python",
   "nbconvert_exporter": "python",
   "pygments_lexer": "ipython3",
   "version": "3.9.2"
  }
 },
 "nbformat": 4,
 "nbformat_minor": 1
}
