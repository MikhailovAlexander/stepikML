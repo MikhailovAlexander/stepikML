{
 "cells": [
  {
   "cell_type": "markdown",
   "metadata": {
    "pycharm": {
     "name": "#%% md\n"
    }
   },
   "source": [
    "# Проект по дисцплине \"Машинное обучение\" студента группы ИАУП-22 Михайлова Александра Витальевича"
   ]
  },
  {
   "cell_type": "markdown",
   "metadata": {
    "pycharm": {
     "name": "#%% md\n"
    }
   },
   "source": [
    "Датасет для проекта содержит 10 000 записей с данными пациентов прошедших медицинский осмотр, в том числе:\n",
    "1) возраст,\n",
    "2) вес,\n",
    "3) рост,\n",
    "4) систолическое давление,\n",
    "5) диастолическое давление,\n",
    "6) пол,\n",
    "7) территория проживания,\n",
    "8) злоупотребление алкоголем (опрос),\n",
    "9) иррациональное питание (опрос),\n",
    "10) курение (опрос),\n",
    "11) Количество оказанных услуг в поликлинике за год,\n",
    "12) Количество оказанных услуг скорой помощи за год,\n",
    "13) Количество оказанных услуг в стационаре за год,\n",
    "14) Наличие болезни системы кровообращения.\n",
    "\n",
    "На основе представленных данных преполагается решить следующие задачи:\n",
    "1) Регрессия - расчет количества оказанных пациенту поликлинических услуг.\n",
    "2) Классификация - определение наличия болезни системы кровообращения.\n",
    "3) Кластеризация - разбиение пациентов на группы."
   ]
  },
  {
   "cell_type": "code",
   "execution_count": 1,
   "metadata": {
    "pycharm": {
     "name": "#%%\n"
    }
   },
   "outputs": [],
   "source": [
    "import numpy as np\n",
    "import pandas as pd\n",
    "from matplotlib import pyplot as plt\n",
    "import math\n",
    "from statistics import mean, stdev\n",
    "from sklearn.impute import KNNImputer\n",
    "from sklearn.preprocessing import StandardScaler, LabelEncoder\n",
    "from sklearn.model_selection import train_test_split\n",
    "from sklearn.linear_model import LinearRegression, LogisticRegression\n",
    "import sklearn.metrics as metrics\n",
    "from sklearn.ensemble import RandomForestClassifier\n",
    "from sklearn.feature_selection import SequentialFeatureSelector\n",
    "import seaborn as sns\n",
    "from mst_clustering import MSTClustering"
   ]
  },
  {
   "cell_type": "markdown",
   "source": [
    "## 0. Загрузка и предобработка данных"
   ],
   "metadata": {
    "collapsed": false,
    "pycharm": {
     "name": "#%% md\n"
    }
   }
  },
  {
   "cell_type": "markdown",
   "source": [
    "Загрузим и просмотрим данные"
   ],
   "metadata": {
    "collapsed": false,
    "pycharm": {
     "name": "#%% md\n"
    }
   }
  },
  {
   "cell_type": "code",
   "execution_count": 2,
   "metadata": {
    "pycharm": {
     "name": "#%%\n"
    },
    "scrolled": true
   },
   "outputs": [],
   "source": [
    "df = pd.read_csv('data/health_data.csv')"
   ]
  },
  {
   "cell_type": "code",
   "execution_count": 3,
   "metadata": {
    "pycharm": {
     "name": "#%%\n"
    }
   },
   "outputs": [
    {
     "data": {
      "text/plain": "   age  weight  height  s_press  d_press      sex   area  alco  irrat_food  \\\n0   45    88.0   158.0    130.0     80.0  Женский   Село   0.0         1.0   \n1   58    72.0   170.0    145.0     95.0  Мужской   Село   0.0         0.0   \n2   52    81.0   162.0    130.0     80.0  Женский   Село   0.0         0.0   \n3   66    62.0   160.0    140.0     80.0  Женский  Город   0.0         0.0   \n4   41    64.0   170.0    110.0     70.0  Женский  Город   0.0         0.0   \n\n   smoke  clinic_cnt  ambulance_cnt  hosp_cnt  has_bsk  \n0    0.0          57              3         0        1  \n1    0.0         176              5       100        1  \n2    0.0          76              2         9        1  \n3    0.0         163             14        11        1  \n4    0.0          79              0         0        0  ",
      "text/html": "<div>\n<style scoped>\n    .dataframe tbody tr th:only-of-type {\n        vertical-align: middle;\n    }\n\n    .dataframe tbody tr th {\n        vertical-align: top;\n    }\n\n    .dataframe thead th {\n        text-align: right;\n    }\n</style>\n<table border=\"1\" class=\"dataframe\">\n  <thead>\n    <tr style=\"text-align: right;\">\n      <th></th>\n      <th>age</th>\n      <th>weight</th>\n      <th>height</th>\n      <th>s_press</th>\n      <th>d_press</th>\n      <th>sex</th>\n      <th>area</th>\n      <th>alco</th>\n      <th>irrat_food</th>\n      <th>smoke</th>\n      <th>clinic_cnt</th>\n      <th>ambulance_cnt</th>\n      <th>hosp_cnt</th>\n      <th>has_bsk</th>\n    </tr>\n  </thead>\n  <tbody>\n    <tr>\n      <th>0</th>\n      <td>45</td>\n      <td>88.0</td>\n      <td>158.0</td>\n      <td>130.0</td>\n      <td>80.0</td>\n      <td>Женский</td>\n      <td>Село</td>\n      <td>0.0</td>\n      <td>1.0</td>\n      <td>0.0</td>\n      <td>57</td>\n      <td>3</td>\n      <td>0</td>\n      <td>1</td>\n    </tr>\n    <tr>\n      <th>1</th>\n      <td>58</td>\n      <td>72.0</td>\n      <td>170.0</td>\n      <td>145.0</td>\n      <td>95.0</td>\n      <td>Мужской</td>\n      <td>Село</td>\n      <td>0.0</td>\n      <td>0.0</td>\n      <td>0.0</td>\n      <td>176</td>\n      <td>5</td>\n      <td>100</td>\n      <td>1</td>\n    </tr>\n    <tr>\n      <th>2</th>\n      <td>52</td>\n      <td>81.0</td>\n      <td>162.0</td>\n      <td>130.0</td>\n      <td>80.0</td>\n      <td>Женский</td>\n      <td>Село</td>\n      <td>0.0</td>\n      <td>0.0</td>\n      <td>0.0</td>\n      <td>76</td>\n      <td>2</td>\n      <td>9</td>\n      <td>1</td>\n    </tr>\n    <tr>\n      <th>3</th>\n      <td>66</td>\n      <td>62.0</td>\n      <td>160.0</td>\n      <td>140.0</td>\n      <td>80.0</td>\n      <td>Женский</td>\n      <td>Город</td>\n      <td>0.0</td>\n      <td>0.0</td>\n      <td>0.0</td>\n      <td>163</td>\n      <td>14</td>\n      <td>11</td>\n      <td>1</td>\n    </tr>\n    <tr>\n      <th>4</th>\n      <td>41</td>\n      <td>64.0</td>\n      <td>170.0</td>\n      <td>110.0</td>\n      <td>70.0</td>\n      <td>Женский</td>\n      <td>Город</td>\n      <td>0.0</td>\n      <td>0.0</td>\n      <td>0.0</td>\n      <td>79</td>\n      <td>0</td>\n      <td>0</td>\n      <td>0</td>\n    </tr>\n  </tbody>\n</table>\n</div>"
     },
     "execution_count": 3,
     "metadata": {},
     "output_type": "execute_result"
    }
   ],
   "source": [
    "df.head()"
   ]
  },
  {
   "cell_type": "code",
   "execution_count": 4,
   "metadata": {
    "pycharm": {
     "name": "#%%\n"
    },
    "scrolled": true
   },
   "outputs": [
    {
     "name": "stdout",
     "output_type": "stream",
     "text": [
      "<class 'pandas.core.frame.DataFrame'>\n",
      "RangeIndex: 10000 entries, 0 to 9999\n",
      "Data columns (total 14 columns):\n",
      " #   Column         Non-Null Count  Dtype  \n",
      "---  ------         --------------  -----  \n",
      " 0   age            10000 non-null  int64  \n",
      " 1   weight         9470 non-null   float64\n",
      " 2   height         9471 non-null   float64\n",
      " 3   s_press        9368 non-null   float64\n",
      " 4   d_press        9366 non-null   float64\n",
      " 5   sex            10000 non-null  object \n",
      " 6   area           10000 non-null  object \n",
      " 7   alco           7706 non-null   float64\n",
      " 8   irrat_food     7827 non-null   float64\n",
      " 9   smoke          7875 non-null   float64\n",
      " 10  clinic_cnt     10000 non-null  int64  \n",
      " 11  ambulance_cnt  10000 non-null  int64  \n",
      " 12  hosp_cnt       10000 non-null  int64  \n",
      " 13  has_bsk        10000 non-null  int64  \n",
      "dtypes: float64(7), int64(5), object(2)\n",
      "memory usage: 1.1+ MB\n"
     ]
    }
   ],
   "source": [
    "df.info()"
   ]
  },
  {
   "cell_type": "code",
   "execution_count": 5,
   "metadata": {
    "pycharm": {
     "name": "#%%\n"
    }
   },
   "outputs": [
    {
     "data": {
      "text/plain": "                age        weight       height      s_press      d_press  \\\ncount  10000.000000   9470.000000  9471.000000   9368.00000  9366.000000   \nmean      57.946800    117.256600   163.967163    130.08070    80.147341   \nstd       15.561111   1688.820277     9.977370    177.86144    16.844899   \nmin       17.000000      1.000000     1.000000     11.00000    17.000000   \n25%       48.000000     65.000000   158.000000    120.00000    80.000000   \n50%       60.000000     74.000000   164.000000    125.00000    80.000000   \n75%       69.000000     84.000000   170.000000    130.00000    80.000000   \nmax       99.000000  82000.000000   205.000000  13070.00000   960.000000   \n\n              alco   irrat_food        smoke    clinic_cnt  ambulance_cnt  \\\ncount  7706.000000  7827.000000  7875.000000  10000.000000   10000.000000   \nmean      0.066701     0.473106     0.089270     90.062900       4.125700   \nstd       0.249520     0.499308     0.285151     58.096949      10.872236   \nmin       0.000000     0.000000     0.000000      0.000000       0.000000   \n25%       0.000000     0.000000     0.000000     48.000000       0.000000   \n50%       0.000000     0.000000     0.000000     78.000000       2.000000   \n75%       0.000000     1.000000     0.000000    118.000000       5.000000   \nmax       1.000000     1.000000     1.000000    627.000000     615.000000   \n\n           hosp_cnt       has_bsk  \ncount  10000.000000  10000.000000  \nmean      15.545300      0.574500  \nstd       38.329094      0.494443  \nmin       -7.000000      0.000000  \n25%        0.000000      0.000000  \n50%        5.000000      1.000000  \n75%       20.000000      1.000000  \nmax     1399.000000      1.000000  ",
      "text/html": "<div>\n<style scoped>\n    .dataframe tbody tr th:only-of-type {\n        vertical-align: middle;\n    }\n\n    .dataframe tbody tr th {\n        vertical-align: top;\n    }\n\n    .dataframe thead th {\n        text-align: right;\n    }\n</style>\n<table border=\"1\" class=\"dataframe\">\n  <thead>\n    <tr style=\"text-align: right;\">\n      <th></th>\n      <th>age</th>\n      <th>weight</th>\n      <th>height</th>\n      <th>s_press</th>\n      <th>d_press</th>\n      <th>alco</th>\n      <th>irrat_food</th>\n      <th>smoke</th>\n      <th>clinic_cnt</th>\n      <th>ambulance_cnt</th>\n      <th>hosp_cnt</th>\n      <th>has_bsk</th>\n    </tr>\n  </thead>\n  <tbody>\n    <tr>\n      <th>count</th>\n      <td>10000.000000</td>\n      <td>9470.000000</td>\n      <td>9471.000000</td>\n      <td>9368.00000</td>\n      <td>9366.000000</td>\n      <td>7706.000000</td>\n      <td>7827.000000</td>\n      <td>7875.000000</td>\n      <td>10000.000000</td>\n      <td>10000.000000</td>\n      <td>10000.000000</td>\n      <td>10000.000000</td>\n    </tr>\n    <tr>\n      <th>mean</th>\n      <td>57.946800</td>\n      <td>117.256600</td>\n      <td>163.967163</td>\n      <td>130.08070</td>\n      <td>80.147341</td>\n      <td>0.066701</td>\n      <td>0.473106</td>\n      <td>0.089270</td>\n      <td>90.062900</td>\n      <td>4.125700</td>\n      <td>15.545300</td>\n      <td>0.574500</td>\n    </tr>\n    <tr>\n      <th>std</th>\n      <td>15.561111</td>\n      <td>1688.820277</td>\n      <td>9.977370</td>\n      <td>177.86144</td>\n      <td>16.844899</td>\n      <td>0.249520</td>\n      <td>0.499308</td>\n      <td>0.285151</td>\n      <td>58.096949</td>\n      <td>10.872236</td>\n      <td>38.329094</td>\n      <td>0.494443</td>\n    </tr>\n    <tr>\n      <th>min</th>\n      <td>17.000000</td>\n      <td>1.000000</td>\n      <td>1.000000</td>\n      <td>11.00000</td>\n      <td>17.000000</td>\n      <td>0.000000</td>\n      <td>0.000000</td>\n      <td>0.000000</td>\n      <td>0.000000</td>\n      <td>0.000000</td>\n      <td>-7.000000</td>\n      <td>0.000000</td>\n    </tr>\n    <tr>\n      <th>25%</th>\n      <td>48.000000</td>\n      <td>65.000000</td>\n      <td>158.000000</td>\n      <td>120.00000</td>\n      <td>80.000000</td>\n      <td>0.000000</td>\n      <td>0.000000</td>\n      <td>0.000000</td>\n      <td>48.000000</td>\n      <td>0.000000</td>\n      <td>0.000000</td>\n      <td>0.000000</td>\n    </tr>\n    <tr>\n      <th>50%</th>\n      <td>60.000000</td>\n      <td>74.000000</td>\n      <td>164.000000</td>\n      <td>125.00000</td>\n      <td>80.000000</td>\n      <td>0.000000</td>\n      <td>0.000000</td>\n      <td>0.000000</td>\n      <td>78.000000</td>\n      <td>2.000000</td>\n      <td>5.000000</td>\n      <td>1.000000</td>\n    </tr>\n    <tr>\n      <th>75%</th>\n      <td>69.000000</td>\n      <td>84.000000</td>\n      <td>170.000000</td>\n      <td>130.00000</td>\n      <td>80.000000</td>\n      <td>0.000000</td>\n      <td>1.000000</td>\n      <td>0.000000</td>\n      <td>118.000000</td>\n      <td>5.000000</td>\n      <td>20.000000</td>\n      <td>1.000000</td>\n    </tr>\n    <tr>\n      <th>max</th>\n      <td>99.000000</td>\n      <td>82000.000000</td>\n      <td>205.000000</td>\n      <td>13070.00000</td>\n      <td>960.000000</td>\n      <td>1.000000</td>\n      <td>1.000000</td>\n      <td>1.000000</td>\n      <td>627.000000</td>\n      <td>615.000000</td>\n      <td>1399.000000</td>\n      <td>1.000000</td>\n    </tr>\n  </tbody>\n</table>\n</div>"
     },
     "execution_count": 5,
     "metadata": {},
     "output_type": "execute_result"
    }
   ],
   "source": [
    "df.describe()"
   ]
  },
  {
   "cell_type": "markdown",
   "metadata": {
    "pycharm": {
     "name": "#%% md\n"
    }
   },
   "source": [
    "### Проверка данных вручную\n",
    "Из описания данных (максимальных и минимальных значений в столбцах) следует, что в наборе пристутсвуют явно некорректные значения. Например максимальное значение  веса составляет 82 000, что предположительно является ошибкой ввода данных - вместо кг данные внесены в граммах.\n",
    "\n",
    "Попробуем проверить значения вручную\n",
    "\n",
    "Проверим значения веса более 200"
   ]
  },
  {
   "cell_type": "code",
   "execution_count": 6,
   "metadata": {
    "pycharm": {
     "name": "#%%\n"
    }
   },
   "outputs": [
    {
     "data": {
      "text/plain": "      age   weight  height  s_press  d_press      sex   area  alco  \\\n589    74  70000.0   154.0    140.0     80.0  Женский   Село   NaN   \n2012   61  58000.0   161.0      NaN      NaN  Мужской   Село   NaN   \n3377   37  47000.0   173.0      NaN      NaN  Женский  Город   NaN   \n5574   60  59000.0   161.0      NaN      NaN  Женский   Село   NaN   \n5805   30   1700.0    46.0      NaN      NaN  Женский  Город   NaN   \n8457   54  82000.0   170.0      NaN      NaN  Женский  Город   NaN   \n9429   70  80000.0   159.0      NaN      NaN  Женский   Село   NaN   \n\n      irrat_food  smoke  clinic_cnt  ambulance_cnt  hosp_cnt  has_bsk  \n589          NaN    NaN          64              0         0        1  \n2012         NaN    NaN         182              2         0        1  \n3377         NaN    NaN         275             31        27        0  \n5574         NaN    NaN         112              0        22        1  \n5805         NaN    NaN         151             20        11        0  \n8457         NaN    NaN          90              4         0        1  \n9429         NaN    NaN          52              0         0        1  ",
      "text/html": "<div>\n<style scoped>\n    .dataframe tbody tr th:only-of-type {\n        vertical-align: middle;\n    }\n\n    .dataframe tbody tr th {\n        vertical-align: top;\n    }\n\n    .dataframe thead th {\n        text-align: right;\n    }\n</style>\n<table border=\"1\" class=\"dataframe\">\n  <thead>\n    <tr style=\"text-align: right;\">\n      <th></th>\n      <th>age</th>\n      <th>weight</th>\n      <th>height</th>\n      <th>s_press</th>\n      <th>d_press</th>\n      <th>sex</th>\n      <th>area</th>\n      <th>alco</th>\n      <th>irrat_food</th>\n      <th>smoke</th>\n      <th>clinic_cnt</th>\n      <th>ambulance_cnt</th>\n      <th>hosp_cnt</th>\n      <th>has_bsk</th>\n    </tr>\n  </thead>\n  <tbody>\n    <tr>\n      <th>589</th>\n      <td>74</td>\n      <td>70000.0</td>\n      <td>154.0</td>\n      <td>140.0</td>\n      <td>80.0</td>\n      <td>Женский</td>\n      <td>Село</td>\n      <td>NaN</td>\n      <td>NaN</td>\n      <td>NaN</td>\n      <td>64</td>\n      <td>0</td>\n      <td>0</td>\n      <td>1</td>\n    </tr>\n    <tr>\n      <th>2012</th>\n      <td>61</td>\n      <td>58000.0</td>\n      <td>161.0</td>\n      <td>NaN</td>\n      <td>NaN</td>\n      <td>Мужской</td>\n      <td>Село</td>\n      <td>NaN</td>\n      <td>NaN</td>\n      <td>NaN</td>\n      <td>182</td>\n      <td>2</td>\n      <td>0</td>\n      <td>1</td>\n    </tr>\n    <tr>\n      <th>3377</th>\n      <td>37</td>\n      <td>47000.0</td>\n      <td>173.0</td>\n      <td>NaN</td>\n      <td>NaN</td>\n      <td>Женский</td>\n      <td>Город</td>\n      <td>NaN</td>\n      <td>NaN</td>\n      <td>NaN</td>\n      <td>275</td>\n      <td>31</td>\n      <td>27</td>\n      <td>0</td>\n    </tr>\n    <tr>\n      <th>5574</th>\n      <td>60</td>\n      <td>59000.0</td>\n      <td>161.0</td>\n      <td>NaN</td>\n      <td>NaN</td>\n      <td>Женский</td>\n      <td>Село</td>\n      <td>NaN</td>\n      <td>NaN</td>\n      <td>NaN</td>\n      <td>112</td>\n      <td>0</td>\n      <td>22</td>\n      <td>1</td>\n    </tr>\n    <tr>\n      <th>5805</th>\n      <td>30</td>\n      <td>1700.0</td>\n      <td>46.0</td>\n      <td>NaN</td>\n      <td>NaN</td>\n      <td>Женский</td>\n      <td>Город</td>\n      <td>NaN</td>\n      <td>NaN</td>\n      <td>NaN</td>\n      <td>151</td>\n      <td>20</td>\n      <td>11</td>\n      <td>0</td>\n    </tr>\n    <tr>\n      <th>8457</th>\n      <td>54</td>\n      <td>82000.0</td>\n      <td>170.0</td>\n      <td>NaN</td>\n      <td>NaN</td>\n      <td>Женский</td>\n      <td>Город</td>\n      <td>NaN</td>\n      <td>NaN</td>\n      <td>NaN</td>\n      <td>90</td>\n      <td>4</td>\n      <td>0</td>\n      <td>1</td>\n    </tr>\n    <tr>\n      <th>9429</th>\n      <td>70</td>\n      <td>80000.0</td>\n      <td>159.0</td>\n      <td>NaN</td>\n      <td>NaN</td>\n      <td>Женский</td>\n      <td>Село</td>\n      <td>NaN</td>\n      <td>NaN</td>\n      <td>NaN</td>\n      <td>52</td>\n      <td>0</td>\n      <td>0</td>\n      <td>1</td>\n    </tr>\n  </tbody>\n</table>\n</div>"
     },
     "execution_count": 6,
     "metadata": {},
     "output_type": "execute_result"
    }
   ],
   "source": [
    "df[df.weight > 200]"
   ]
  },
  {
   "cell_type": "markdown",
   "metadata": {
    "pycharm": {
     "name": "#%% md\n"
    }
   },
   "source": [
    "Строка со значением веса 1700 и роста 46 явно является некорректной и ее нужно удалить, остальыне значения можно исправить, поделив на 1000"
   ]
  },
  {
   "cell_type": "code",
   "execution_count": 7,
   "metadata": {
    "pycharm": {
     "name": "#%%\n"
    }
   },
   "outputs": [],
   "source": [
    "df = df[df.weight != 1700]"
   ]
  },
  {
   "cell_type": "code",
   "execution_count": 8,
   "metadata": {
    "pycharm": {
     "name": "#%%\n"
    }
   },
   "outputs": [],
   "source": [
    "df.loc[(df.weight > 200), 'weight'] = df.weight/1000"
   ]
  },
  {
   "cell_type": "markdown",
   "metadata": {
    "pycharm": {
     "name": "#%% md\n"
    }
   },
   "source": [
    "Проверим значения веса менее 30 кг"
   ]
  },
  {
   "cell_type": "code",
   "execution_count": 9,
   "metadata": {
    "pycharm": {
     "name": "#%%\n"
    }
   },
   "outputs": [
    {
     "data": {
      "text/plain": "      age  weight  height  s_press  d_press      sex   area  alco  irrat_food  \\\n4173   60     1.0   156.0    130.0     80.0  Женский  Город   0.0         1.0   \n5227   81     6.0   167.0    140.0     90.0  Мужской  Город   0.0         0.0   \n\n      smoke  clinic_cnt  ambulance_cnt  hosp_cnt  has_bsk  \n4173    0.0          65              1         0        1  \n5227    0.0          53             19        22        1  ",
      "text/html": "<div>\n<style scoped>\n    .dataframe tbody tr th:only-of-type {\n        vertical-align: middle;\n    }\n\n    .dataframe tbody tr th {\n        vertical-align: top;\n    }\n\n    .dataframe thead th {\n        text-align: right;\n    }\n</style>\n<table border=\"1\" class=\"dataframe\">\n  <thead>\n    <tr style=\"text-align: right;\">\n      <th></th>\n      <th>age</th>\n      <th>weight</th>\n      <th>height</th>\n      <th>s_press</th>\n      <th>d_press</th>\n      <th>sex</th>\n      <th>area</th>\n      <th>alco</th>\n      <th>irrat_food</th>\n      <th>smoke</th>\n      <th>clinic_cnt</th>\n      <th>ambulance_cnt</th>\n      <th>hosp_cnt</th>\n      <th>has_bsk</th>\n    </tr>\n  </thead>\n  <tbody>\n    <tr>\n      <th>4173</th>\n      <td>60</td>\n      <td>1.0</td>\n      <td>156.0</td>\n      <td>130.0</td>\n      <td>80.0</td>\n      <td>Женский</td>\n      <td>Город</td>\n      <td>0.0</td>\n      <td>1.0</td>\n      <td>0.0</td>\n      <td>65</td>\n      <td>1</td>\n      <td>0</td>\n      <td>1</td>\n    </tr>\n    <tr>\n      <th>5227</th>\n      <td>81</td>\n      <td>6.0</td>\n      <td>167.0</td>\n      <td>140.0</td>\n      <td>90.0</td>\n      <td>Мужской</td>\n      <td>Город</td>\n      <td>0.0</td>\n      <td>0.0</td>\n      <td>0.0</td>\n      <td>53</td>\n      <td>19</td>\n      <td>22</td>\n      <td>1</td>\n    </tr>\n  </tbody>\n</table>\n</div>"
     },
     "execution_count": 9,
     "metadata": {},
     "output_type": "execute_result"
    }
   ],
   "source": [
    "df[df.weight < 30]"
   ]
  },
  {
   "cell_type": "markdown",
   "metadata": {
    "pycharm": {
     "name": "#%% md\n"
    }
   },
   "source": [
    "Значения веса явно некооректные, при этом данные в остальных столбцах не вызывают вопросов. Обнулим значения веса для этих строк и восстановим их по выборке на этапе работы с пропущенными данными"
   ]
  },
  {
   "cell_type": "code",
   "execution_count": 10,
   "metadata": {
    "pycharm": {
     "name": "#%%\n"
    }
   },
   "outputs": [],
   "source": [
    "df.loc[(df.weight < 30), 'weight'] = np.NaN"
   ]
  },
  {
   "cell_type": "markdown",
   "metadata": {
    "pycharm": {
     "name": "#%% md\n"
    }
   },
   "source": [
    "Проверим значения роста менее 100"
   ]
  },
  {
   "cell_type": "code",
   "execution_count": 11,
   "metadata": {
    "pycharm": {
     "name": "#%%\n"
    }
   },
   "outputs": [
    {
     "data": {
      "text/plain": "      age  weight  height  s_press  d_press      sex   area  alco  irrat_food  \\\n298    29   110.0    75.0    110.0     75.0  Женский   Село   1.0         1.0   \n1569   66   171.0    73.0    120.0     80.0  Мужской  Город   0.0         1.0   \n2665   18   156.0    88.0    120.0     80.0  Женский   Село   0.0         1.0   \n3324   52   154.0    92.0    130.0     80.0  Женский  Город   0.0         0.0   \n4651   48   159.0    63.0    130.0     80.0  Женский   Село   0.0         1.0   \n5616   64   165.0    60.0    135.0     80.0  Мужской  Город   0.0         1.0   \n5709   61    56.0    68.0    120.0     80.0  Мужской  Город   0.0         1.0   \n6883   55   120.0    80.0    120.0     80.0  Мужской  Город   NaN         NaN   \n7130   70    82.0     1.0    130.0     80.0  Женский   Село   0.0         0.0   \n7276   62   161.0    73.0    122.0     73.0  Женский  Город   NaN         NaN   \n7330   39   176.0    76.0    130.0     80.0  Мужской  Город   0.0         1.0   \n7996   89   160.0    64.0    130.0     80.0  Женский   Село   0.0         0.0   \n9303   72   170.0    70.0    120.0     80.0  Мужской  Город   0.0         0.0   \n9620   63    68.0    88.0    120.0     80.0  Мужской  Город   0.0         0.0   \n9874   57   158.0    78.0    150.0     90.0  Женский   Село   0.0         1.0   \n\n      smoke  clinic_cnt  ambulance_cnt  hosp_cnt  has_bsk  \n298     0.0         123              4        16        0  \n1569    0.0          64              2         0        1  \n2665    0.0          71              2         0        0  \n3324    0.0         222              3        44        1  \n4651    0.0          48              7        36        0  \n5616    1.0           9              6        24        1  \n5709    0.0          16              0         0        0  \n6883    NaN          38              1         0        0  \n7130    0.0         185              1        19        1  \n7276    NaN          86              0         0        0  \n7330    0.0          74              5         8        0  \n7996    0.0         228              1        14        1  \n9303    0.0         154             15         0        1  \n9620    0.0          85              7        34        1  \n9874    0.0         146              0         0        1  ",
      "text/html": "<div>\n<style scoped>\n    .dataframe tbody tr th:only-of-type {\n        vertical-align: middle;\n    }\n\n    .dataframe tbody tr th {\n        vertical-align: top;\n    }\n\n    .dataframe thead th {\n        text-align: right;\n    }\n</style>\n<table border=\"1\" class=\"dataframe\">\n  <thead>\n    <tr style=\"text-align: right;\">\n      <th></th>\n      <th>age</th>\n      <th>weight</th>\n      <th>height</th>\n      <th>s_press</th>\n      <th>d_press</th>\n      <th>sex</th>\n      <th>area</th>\n      <th>alco</th>\n      <th>irrat_food</th>\n      <th>smoke</th>\n      <th>clinic_cnt</th>\n      <th>ambulance_cnt</th>\n      <th>hosp_cnt</th>\n      <th>has_bsk</th>\n    </tr>\n  </thead>\n  <tbody>\n    <tr>\n      <th>298</th>\n      <td>29</td>\n      <td>110.0</td>\n      <td>75.0</td>\n      <td>110.0</td>\n      <td>75.0</td>\n      <td>Женский</td>\n      <td>Село</td>\n      <td>1.0</td>\n      <td>1.0</td>\n      <td>0.0</td>\n      <td>123</td>\n      <td>4</td>\n      <td>16</td>\n      <td>0</td>\n    </tr>\n    <tr>\n      <th>1569</th>\n      <td>66</td>\n      <td>171.0</td>\n      <td>73.0</td>\n      <td>120.0</td>\n      <td>80.0</td>\n      <td>Мужской</td>\n      <td>Город</td>\n      <td>0.0</td>\n      <td>1.0</td>\n      <td>0.0</td>\n      <td>64</td>\n      <td>2</td>\n      <td>0</td>\n      <td>1</td>\n    </tr>\n    <tr>\n      <th>2665</th>\n      <td>18</td>\n      <td>156.0</td>\n      <td>88.0</td>\n      <td>120.0</td>\n      <td>80.0</td>\n      <td>Женский</td>\n      <td>Село</td>\n      <td>0.0</td>\n      <td>1.0</td>\n      <td>0.0</td>\n      <td>71</td>\n      <td>2</td>\n      <td>0</td>\n      <td>0</td>\n    </tr>\n    <tr>\n      <th>3324</th>\n      <td>52</td>\n      <td>154.0</td>\n      <td>92.0</td>\n      <td>130.0</td>\n      <td>80.0</td>\n      <td>Женский</td>\n      <td>Город</td>\n      <td>0.0</td>\n      <td>0.0</td>\n      <td>0.0</td>\n      <td>222</td>\n      <td>3</td>\n      <td>44</td>\n      <td>1</td>\n    </tr>\n    <tr>\n      <th>4651</th>\n      <td>48</td>\n      <td>159.0</td>\n      <td>63.0</td>\n      <td>130.0</td>\n      <td>80.0</td>\n      <td>Женский</td>\n      <td>Село</td>\n      <td>0.0</td>\n      <td>1.0</td>\n      <td>0.0</td>\n      <td>48</td>\n      <td>7</td>\n      <td>36</td>\n      <td>0</td>\n    </tr>\n    <tr>\n      <th>5616</th>\n      <td>64</td>\n      <td>165.0</td>\n      <td>60.0</td>\n      <td>135.0</td>\n      <td>80.0</td>\n      <td>Мужской</td>\n      <td>Город</td>\n      <td>0.0</td>\n      <td>1.0</td>\n      <td>1.0</td>\n      <td>9</td>\n      <td>6</td>\n      <td>24</td>\n      <td>1</td>\n    </tr>\n    <tr>\n      <th>5709</th>\n      <td>61</td>\n      <td>56.0</td>\n      <td>68.0</td>\n      <td>120.0</td>\n      <td>80.0</td>\n      <td>Мужской</td>\n      <td>Город</td>\n      <td>0.0</td>\n      <td>1.0</td>\n      <td>0.0</td>\n      <td>16</td>\n      <td>0</td>\n      <td>0</td>\n      <td>0</td>\n    </tr>\n    <tr>\n      <th>6883</th>\n      <td>55</td>\n      <td>120.0</td>\n      <td>80.0</td>\n      <td>120.0</td>\n      <td>80.0</td>\n      <td>Мужской</td>\n      <td>Город</td>\n      <td>NaN</td>\n      <td>NaN</td>\n      <td>NaN</td>\n      <td>38</td>\n      <td>1</td>\n      <td>0</td>\n      <td>0</td>\n    </tr>\n    <tr>\n      <th>7130</th>\n      <td>70</td>\n      <td>82.0</td>\n      <td>1.0</td>\n      <td>130.0</td>\n      <td>80.0</td>\n      <td>Женский</td>\n      <td>Село</td>\n      <td>0.0</td>\n      <td>0.0</td>\n      <td>0.0</td>\n      <td>185</td>\n      <td>1</td>\n      <td>19</td>\n      <td>1</td>\n    </tr>\n    <tr>\n      <th>7276</th>\n      <td>62</td>\n      <td>161.0</td>\n      <td>73.0</td>\n      <td>122.0</td>\n      <td>73.0</td>\n      <td>Женский</td>\n      <td>Город</td>\n      <td>NaN</td>\n      <td>NaN</td>\n      <td>NaN</td>\n      <td>86</td>\n      <td>0</td>\n      <td>0</td>\n      <td>0</td>\n    </tr>\n    <tr>\n      <th>7330</th>\n      <td>39</td>\n      <td>176.0</td>\n      <td>76.0</td>\n      <td>130.0</td>\n      <td>80.0</td>\n      <td>Мужской</td>\n      <td>Город</td>\n      <td>0.0</td>\n      <td>1.0</td>\n      <td>0.0</td>\n      <td>74</td>\n      <td>5</td>\n      <td>8</td>\n      <td>0</td>\n    </tr>\n    <tr>\n      <th>7996</th>\n      <td>89</td>\n      <td>160.0</td>\n      <td>64.0</td>\n      <td>130.0</td>\n      <td>80.0</td>\n      <td>Женский</td>\n      <td>Село</td>\n      <td>0.0</td>\n      <td>0.0</td>\n      <td>0.0</td>\n      <td>228</td>\n      <td>1</td>\n      <td>14</td>\n      <td>1</td>\n    </tr>\n    <tr>\n      <th>9303</th>\n      <td>72</td>\n      <td>170.0</td>\n      <td>70.0</td>\n      <td>120.0</td>\n      <td>80.0</td>\n      <td>Мужской</td>\n      <td>Город</td>\n      <td>0.0</td>\n      <td>0.0</td>\n      <td>0.0</td>\n      <td>154</td>\n      <td>15</td>\n      <td>0</td>\n      <td>1</td>\n    </tr>\n    <tr>\n      <th>9620</th>\n      <td>63</td>\n      <td>68.0</td>\n      <td>88.0</td>\n      <td>120.0</td>\n      <td>80.0</td>\n      <td>Мужской</td>\n      <td>Город</td>\n      <td>0.0</td>\n      <td>0.0</td>\n      <td>0.0</td>\n      <td>85</td>\n      <td>7</td>\n      <td>34</td>\n      <td>1</td>\n    </tr>\n    <tr>\n      <th>9874</th>\n      <td>57</td>\n      <td>158.0</td>\n      <td>78.0</td>\n      <td>150.0</td>\n      <td>90.0</td>\n      <td>Женский</td>\n      <td>Село</td>\n      <td>0.0</td>\n      <td>1.0</td>\n      <td>0.0</td>\n      <td>146</td>\n      <td>0</td>\n      <td>0</td>\n      <td>1</td>\n    </tr>\n  </tbody>\n</table>\n</div>"
     },
     "execution_count": 11,
     "metadata": {},
     "output_type": "execute_result"
    }
   ],
   "source": [
    "df[df.height < 100]"
   ]
  },
  {
   "cell_type": "markdown",
   "metadata": {
    "pycharm": {
     "name": "#%% md\n"
    }
   },
   "source": [
    "Значение роста 1 явно некорректное и подлежит удалению, остальные значения судя по всему ошибки ввода, их можно скорректировать прибавив к занчению 100"
   ]
  },
  {
   "cell_type": "code",
   "execution_count": 12,
   "metadata": {
    "pycharm": {
     "name": "#%%\n"
    }
   },
   "outputs": [],
   "source": [
    "df = df[df.height != 1]"
   ]
  },
  {
   "cell_type": "code",
   "execution_count": 13,
   "metadata": {
    "pycharm": {
     "name": "#%%\n"
    }
   },
   "outputs": [],
   "source": [
    "df.loc[(df.height < 100), 'height'] = df.height + 100"
   ]
  },
  {
   "cell_type": "markdown",
   "metadata": {
    "pycharm": {
     "name": "#%% md\n"
    }
   },
   "source": [
    "Проверим значения систолического давления меньше 50 или больше 200"
   ]
  },
  {
   "cell_type": "code",
   "execution_count": 14,
   "metadata": {
    "pycharm": {
     "name": "#%%\n"
    }
   },
   "outputs": [
    {
     "data": {
      "text/plain": "      age  weight  height  s_press  d_press      sex   area  alco  irrat_food  \\\n631    72    67.0   168.0     17.0     17.0  Женский  Город   0.0         1.0   \n1008   18    44.0   166.0     11.0     70.0  Мужской  Город   NaN         NaN   \n1273   62    76.0   163.0  11148.0     80.0  Женский  Город   0.0         0.0   \n1552   78    78.0   164.0   1230.0     78.0  Женский  Город   0.0         1.0   \n1759   61    66.0   157.0     13.0     80.0  Женский   Село   0.0         0.0   \n2143   74    94.0   154.0   1470.0     80.0  Женский  Город   0.0         0.0   \n2419   60    66.0   172.0     20.0     18.0  Мужской  Город   0.0         0.0   \n3408   67    62.0   164.0  13070.0      NaN  Женский  Город   0.0         0.0   \n3655   26    59.0   160.0   1210.0     80.0  Мужской  Город   0.0         0.0   \n4722   46   100.0   164.0     18.0     18.0  Женский   Село   0.0         0.0   \n5117   43    80.0   177.0   1420.0     80.0  Мужской  Город   0.0         0.0   \n7727   67    81.0   153.0     18.0     18.0  Женский   Село   0.0         0.0   \n\n      smoke  clinic_cnt  ambulance_cnt  hosp_cnt  has_bsk  \n631     0.0          85              0        19        0  \n1008    NaN          40              1         0        0  \n1273    0.0          39              0         9        0  \n1552    0.0          43              1         0        1  \n1759    0.0          88              1         0        1  \n2143    0.0          75              3         0        1  \n2419    0.0          34              5        11        1  \n3408    0.0          60              0         0        0  \n3655    0.0          50              1         2        0  \n4722    0.0          79              0         7        1  \n5117    0.0          53              2         0        0  \n7727    0.0          84              2         0        1  ",
      "text/html": "<div>\n<style scoped>\n    .dataframe tbody tr th:only-of-type {\n        vertical-align: middle;\n    }\n\n    .dataframe tbody tr th {\n        vertical-align: top;\n    }\n\n    .dataframe thead th {\n        text-align: right;\n    }\n</style>\n<table border=\"1\" class=\"dataframe\">\n  <thead>\n    <tr style=\"text-align: right;\">\n      <th></th>\n      <th>age</th>\n      <th>weight</th>\n      <th>height</th>\n      <th>s_press</th>\n      <th>d_press</th>\n      <th>sex</th>\n      <th>area</th>\n      <th>alco</th>\n      <th>irrat_food</th>\n      <th>smoke</th>\n      <th>clinic_cnt</th>\n      <th>ambulance_cnt</th>\n      <th>hosp_cnt</th>\n      <th>has_bsk</th>\n    </tr>\n  </thead>\n  <tbody>\n    <tr>\n      <th>631</th>\n      <td>72</td>\n      <td>67.0</td>\n      <td>168.0</td>\n      <td>17.0</td>\n      <td>17.0</td>\n      <td>Женский</td>\n      <td>Город</td>\n      <td>0.0</td>\n      <td>1.0</td>\n      <td>0.0</td>\n      <td>85</td>\n      <td>0</td>\n      <td>19</td>\n      <td>0</td>\n    </tr>\n    <tr>\n      <th>1008</th>\n      <td>18</td>\n      <td>44.0</td>\n      <td>166.0</td>\n      <td>11.0</td>\n      <td>70.0</td>\n      <td>Мужской</td>\n      <td>Город</td>\n      <td>NaN</td>\n      <td>NaN</td>\n      <td>NaN</td>\n      <td>40</td>\n      <td>1</td>\n      <td>0</td>\n      <td>0</td>\n    </tr>\n    <tr>\n      <th>1273</th>\n      <td>62</td>\n      <td>76.0</td>\n      <td>163.0</td>\n      <td>11148.0</td>\n      <td>80.0</td>\n      <td>Женский</td>\n      <td>Город</td>\n      <td>0.0</td>\n      <td>0.0</td>\n      <td>0.0</td>\n      <td>39</td>\n      <td>0</td>\n      <td>9</td>\n      <td>0</td>\n    </tr>\n    <tr>\n      <th>1552</th>\n      <td>78</td>\n      <td>78.0</td>\n      <td>164.0</td>\n      <td>1230.0</td>\n      <td>78.0</td>\n      <td>Женский</td>\n      <td>Город</td>\n      <td>0.0</td>\n      <td>1.0</td>\n      <td>0.0</td>\n      <td>43</td>\n      <td>1</td>\n      <td>0</td>\n      <td>1</td>\n    </tr>\n    <tr>\n      <th>1759</th>\n      <td>61</td>\n      <td>66.0</td>\n      <td>157.0</td>\n      <td>13.0</td>\n      <td>80.0</td>\n      <td>Женский</td>\n      <td>Село</td>\n      <td>0.0</td>\n      <td>0.0</td>\n      <td>0.0</td>\n      <td>88</td>\n      <td>1</td>\n      <td>0</td>\n      <td>1</td>\n    </tr>\n    <tr>\n      <th>2143</th>\n      <td>74</td>\n      <td>94.0</td>\n      <td>154.0</td>\n      <td>1470.0</td>\n      <td>80.0</td>\n      <td>Женский</td>\n      <td>Город</td>\n      <td>0.0</td>\n      <td>0.0</td>\n      <td>0.0</td>\n      <td>75</td>\n      <td>3</td>\n      <td>0</td>\n      <td>1</td>\n    </tr>\n    <tr>\n      <th>2419</th>\n      <td>60</td>\n      <td>66.0</td>\n      <td>172.0</td>\n      <td>20.0</td>\n      <td>18.0</td>\n      <td>Мужской</td>\n      <td>Город</td>\n      <td>0.0</td>\n      <td>0.0</td>\n      <td>0.0</td>\n      <td>34</td>\n      <td>5</td>\n      <td>11</td>\n      <td>1</td>\n    </tr>\n    <tr>\n      <th>3408</th>\n      <td>67</td>\n      <td>62.0</td>\n      <td>164.0</td>\n      <td>13070.0</td>\n      <td>NaN</td>\n      <td>Женский</td>\n      <td>Город</td>\n      <td>0.0</td>\n      <td>0.0</td>\n      <td>0.0</td>\n      <td>60</td>\n      <td>0</td>\n      <td>0</td>\n      <td>0</td>\n    </tr>\n    <tr>\n      <th>3655</th>\n      <td>26</td>\n      <td>59.0</td>\n      <td>160.0</td>\n      <td>1210.0</td>\n      <td>80.0</td>\n      <td>Мужской</td>\n      <td>Город</td>\n      <td>0.0</td>\n      <td>0.0</td>\n      <td>0.0</td>\n      <td>50</td>\n      <td>1</td>\n      <td>2</td>\n      <td>0</td>\n    </tr>\n    <tr>\n      <th>4722</th>\n      <td>46</td>\n      <td>100.0</td>\n      <td>164.0</td>\n      <td>18.0</td>\n      <td>18.0</td>\n      <td>Женский</td>\n      <td>Село</td>\n      <td>0.0</td>\n      <td>0.0</td>\n      <td>0.0</td>\n      <td>79</td>\n      <td>0</td>\n      <td>7</td>\n      <td>1</td>\n    </tr>\n    <tr>\n      <th>5117</th>\n      <td>43</td>\n      <td>80.0</td>\n      <td>177.0</td>\n      <td>1420.0</td>\n      <td>80.0</td>\n      <td>Мужской</td>\n      <td>Город</td>\n      <td>0.0</td>\n      <td>0.0</td>\n      <td>0.0</td>\n      <td>53</td>\n      <td>2</td>\n      <td>0</td>\n      <td>0</td>\n    </tr>\n    <tr>\n      <th>7727</th>\n      <td>67</td>\n      <td>81.0</td>\n      <td>153.0</td>\n      <td>18.0</td>\n      <td>18.0</td>\n      <td>Женский</td>\n      <td>Село</td>\n      <td>0.0</td>\n      <td>0.0</td>\n      <td>0.0</td>\n      <td>84</td>\n      <td>2</td>\n      <td>0</td>\n      <td>1</td>\n    </tr>\n  </tbody>\n</table>\n</div>"
     },
     "execution_count": 14,
     "metadata": {},
     "output_type": "execute_result"
    }
   ],
   "source": [
    "df[(df.s_press < 50) | (df.s_press > 200)]"
   ]
  },
  {
   "cell_type": "markdown",
   "metadata": {
    "pycharm": {
     "name": "#%% md\n"
    }
   },
   "source": [
    "Значения явно некорректные, обнулим их для дальнейшего восстановления"
   ]
  },
  {
   "cell_type": "code",
   "execution_count": 15,
   "metadata": {
    "pycharm": {
     "name": "#%%\n"
    }
   },
   "outputs": [],
   "source": [
    "df.loc[((df.s_press < 50) | (df.s_press > 200)), 's_press'] = np.NaN"
   ]
  },
  {
   "cell_type": "markdown",
   "metadata": {
    "pycharm": {
     "name": "#%% md\n"
    }
   },
   "source": [
    "Проверим значения диастолического давления меньше 50 или больше 200"
   ]
  },
  {
   "cell_type": "code",
   "execution_count": 16,
   "metadata": {
    "pycharm": {
     "name": "#%%\n"
    }
   },
   "outputs": [
    {
     "data": {
      "text/plain": "      age  weight  height  s_press  d_press      sex   area  alco  irrat_food  \\\n509    70    75.0   164.0    130.0    740.0  Женский  Город   0.0         0.0   \n631    72    67.0   168.0      NaN     17.0  Женский  Город   0.0         1.0   \n2419   60    66.0   172.0      NaN     18.0  Мужской  Город   0.0         0.0   \n3067   65    87.0   175.0    120.0    710.0  Мужской   Село   0.0         0.0   \n3336   74    60.0   155.0    120.0     30.0  Женский  Город   0.0         1.0   \n4722   46   100.0   164.0      NaN     18.0  Женский   Село   0.0         0.0   \n6099   74    85.0   165.0    150.0    960.0  Женский  Город   0.0         0.0   \n7059   50    95.0   157.0    120.0     20.0  Женский   Село   0.0         0.0   \n7301   64   115.0   173.0    120.0    800.0  Женский  Город   0.0         0.0   \n7727   67    81.0   153.0      NaN     18.0  Женский   Село   0.0         0.0   \n\n      smoke  clinic_cnt  ambulance_cnt  hosp_cnt  has_bsk  \n509     0.0          88              2        22        1  \n631     0.0          85              0        19        0  \n2419    0.0          34              5        11        1  \n3067    0.0         201             13        46        1  \n3336    0.0          42              3        14        1  \n4722    0.0          79              0         7        1  \n6099    0.0         210             14        36        1  \n7059    1.0          62              1         0        0  \n7301    0.0          23              0         0        1  \n7727    0.0          84              2         0        1  ",
      "text/html": "<div>\n<style scoped>\n    .dataframe tbody tr th:only-of-type {\n        vertical-align: middle;\n    }\n\n    .dataframe tbody tr th {\n        vertical-align: top;\n    }\n\n    .dataframe thead th {\n        text-align: right;\n    }\n</style>\n<table border=\"1\" class=\"dataframe\">\n  <thead>\n    <tr style=\"text-align: right;\">\n      <th></th>\n      <th>age</th>\n      <th>weight</th>\n      <th>height</th>\n      <th>s_press</th>\n      <th>d_press</th>\n      <th>sex</th>\n      <th>area</th>\n      <th>alco</th>\n      <th>irrat_food</th>\n      <th>smoke</th>\n      <th>clinic_cnt</th>\n      <th>ambulance_cnt</th>\n      <th>hosp_cnt</th>\n      <th>has_bsk</th>\n    </tr>\n  </thead>\n  <tbody>\n    <tr>\n      <th>509</th>\n      <td>70</td>\n      <td>75.0</td>\n      <td>164.0</td>\n      <td>130.0</td>\n      <td>740.0</td>\n      <td>Женский</td>\n      <td>Город</td>\n      <td>0.0</td>\n      <td>0.0</td>\n      <td>0.0</td>\n      <td>88</td>\n      <td>2</td>\n      <td>22</td>\n      <td>1</td>\n    </tr>\n    <tr>\n      <th>631</th>\n      <td>72</td>\n      <td>67.0</td>\n      <td>168.0</td>\n      <td>NaN</td>\n      <td>17.0</td>\n      <td>Женский</td>\n      <td>Город</td>\n      <td>0.0</td>\n      <td>1.0</td>\n      <td>0.0</td>\n      <td>85</td>\n      <td>0</td>\n      <td>19</td>\n      <td>0</td>\n    </tr>\n    <tr>\n      <th>2419</th>\n      <td>60</td>\n      <td>66.0</td>\n      <td>172.0</td>\n      <td>NaN</td>\n      <td>18.0</td>\n      <td>Мужской</td>\n      <td>Город</td>\n      <td>0.0</td>\n      <td>0.0</td>\n      <td>0.0</td>\n      <td>34</td>\n      <td>5</td>\n      <td>11</td>\n      <td>1</td>\n    </tr>\n    <tr>\n      <th>3067</th>\n      <td>65</td>\n      <td>87.0</td>\n      <td>175.0</td>\n      <td>120.0</td>\n      <td>710.0</td>\n      <td>Мужской</td>\n      <td>Село</td>\n      <td>0.0</td>\n      <td>0.0</td>\n      <td>0.0</td>\n      <td>201</td>\n      <td>13</td>\n      <td>46</td>\n      <td>1</td>\n    </tr>\n    <tr>\n      <th>3336</th>\n      <td>74</td>\n      <td>60.0</td>\n      <td>155.0</td>\n      <td>120.0</td>\n      <td>30.0</td>\n      <td>Женский</td>\n      <td>Город</td>\n      <td>0.0</td>\n      <td>1.0</td>\n      <td>0.0</td>\n      <td>42</td>\n      <td>3</td>\n      <td>14</td>\n      <td>1</td>\n    </tr>\n    <tr>\n      <th>4722</th>\n      <td>46</td>\n      <td>100.0</td>\n      <td>164.0</td>\n      <td>NaN</td>\n      <td>18.0</td>\n      <td>Женский</td>\n      <td>Село</td>\n      <td>0.0</td>\n      <td>0.0</td>\n      <td>0.0</td>\n      <td>79</td>\n      <td>0</td>\n      <td>7</td>\n      <td>1</td>\n    </tr>\n    <tr>\n      <th>6099</th>\n      <td>74</td>\n      <td>85.0</td>\n      <td>165.0</td>\n      <td>150.0</td>\n      <td>960.0</td>\n      <td>Женский</td>\n      <td>Город</td>\n      <td>0.0</td>\n      <td>0.0</td>\n      <td>0.0</td>\n      <td>210</td>\n      <td>14</td>\n      <td>36</td>\n      <td>1</td>\n    </tr>\n    <tr>\n      <th>7059</th>\n      <td>50</td>\n      <td>95.0</td>\n      <td>157.0</td>\n      <td>120.0</td>\n      <td>20.0</td>\n      <td>Женский</td>\n      <td>Село</td>\n      <td>0.0</td>\n      <td>0.0</td>\n      <td>1.0</td>\n      <td>62</td>\n      <td>1</td>\n      <td>0</td>\n      <td>0</td>\n    </tr>\n    <tr>\n      <th>7301</th>\n      <td>64</td>\n      <td>115.0</td>\n      <td>173.0</td>\n      <td>120.0</td>\n      <td>800.0</td>\n      <td>Женский</td>\n      <td>Город</td>\n      <td>0.0</td>\n      <td>0.0</td>\n      <td>0.0</td>\n      <td>23</td>\n      <td>0</td>\n      <td>0</td>\n      <td>1</td>\n    </tr>\n    <tr>\n      <th>7727</th>\n      <td>67</td>\n      <td>81.0</td>\n      <td>153.0</td>\n      <td>NaN</td>\n      <td>18.0</td>\n      <td>Женский</td>\n      <td>Село</td>\n      <td>0.0</td>\n      <td>0.0</td>\n      <td>0.0</td>\n      <td>84</td>\n      <td>2</td>\n      <td>0</td>\n      <td>1</td>\n    </tr>\n  </tbody>\n</table>\n</div>"
     },
     "execution_count": 16,
     "metadata": {},
     "output_type": "execute_result"
    }
   ],
   "source": [
    "df[(df.d_press < 50) | (df.d_press > 200)]"
   ]
  },
  {
   "cell_type": "markdown",
   "metadata": {
    "pycharm": {
     "name": "#%% md\n"
    }
   },
   "source": [
    "Значения явно некорректные, обнулим их для дальнейшего восстановления"
   ]
  },
  {
   "cell_type": "code",
   "execution_count": 17,
   "metadata": {
    "pycharm": {
     "name": "#%%\n"
    }
   },
   "outputs": [],
   "source": [
    "df.loc[((df.d_press < 50) | (df.d_press > 200)), 'd_press'] = np.NaN"
   ]
  },
  {
   "cell_type": "markdown",
   "metadata": {
    "pycharm": {
     "name": "#%% md\n"
    }
   },
   "source": [
    "Проверим количество поликлинических услуг более 365"
   ]
  },
  {
   "cell_type": "code",
   "execution_count": 18,
   "metadata": {
    "pycharm": {
     "name": "#%%\n"
    }
   },
   "outputs": [
    {
     "data": {
      "text/plain": "      age  weight  height  s_press  d_press      sex   area  alco  irrat_food  \\\n1388   64    70.0   160.0    125.0     75.0  Женский  Город   NaN         NaN   \n2138   65    52.0   162.0    120.0     80.0  Женский  Город   0.0         0.0   \n2263   74    62.0   158.0    130.0     80.0  Женский  Город   0.0         1.0   \n2290   51    85.0   156.0    140.0     80.0  Женский   Село   0.0         0.0   \n3306   59    65.0   164.0    130.0     85.0  Женский   Село   0.0         0.0   \n3513   74     NaN     NaN    130.0     80.0  Женский  Город   0.0         1.0   \n5135   80    55.0   155.0    110.0     70.0  Женский  Город   0.0         1.0   \n5379   74    72.0   159.0    130.0     90.0  Женский  Город   NaN         NaN   \n5427   82    75.0   168.0    125.0     70.0  Мужской  Город   0.0         0.0   \n6009   86    49.0   141.0    150.0     80.0  Женский  Город   NaN         NaN   \n6511   32   107.0   164.0    120.0     80.0  Женский  Город   0.0         0.0   \n6703   44    68.0   175.0    120.0     80.0  Женский  Город   0.0         0.0   \n6770   74    90.0   163.0    130.0     80.0  Женский  Город   0.0         0.0   \n6780   81    68.0   167.0    140.0     80.0  Мужской  Город   0.0         0.0   \n6862   65    72.0   168.0    140.0     80.0  Женский  Город   0.0         1.0   \n7666   75    68.0   164.0    135.0     90.0  Женский  Город   0.0         0.0   \n7741   77    75.0   160.0    140.0     80.0  Женский  Город   0.0         1.0   \n7867   67    90.0   164.0    140.0     90.0  Женский  Город   0.0         1.0   \n8759   63    49.0   158.0    120.0     80.0  Женский  Город   0.0         1.0   \n9523   79    65.0   165.0    130.0     80.0  Мужской  Город   0.0         1.0   \n9550   69    59.0   146.0    140.0     80.0  Женский   Село   0.0         0.0   \n\n      smoke  clinic_cnt  ambulance_cnt  hosp_cnt  has_bsk  \n1388    NaN         454              3        34        1  \n2138    0.0         627             74         9        1  \n2263    0.0         424             18        32        1  \n2290    0.0         375             17        74        1  \n3306    0.0         370              6        15        1  \n3513    0.0         367             24      1399        1  \n5135    0.0         413             11        94        1  \n5379    NaN         382             12        24        1  \n5427    0.0         410              6        29        1  \n6009    0.0         400             53       117        1  \n6511    0.0         548             12       137        0  \n6703    0.0         383              7        26        1  \n6770    0.0         490            141       115        1  \n6780    0.0         390             55        56        1  \n6862    0.0         398              6        68        1  \n7666    0.0         382              7        30        1  \n7741    0.0         436             46        43        1  \n7867    0.0         433             26        66        1  \n8759    0.0         453             23        39        1  \n9523    0.0         463             37        97        1  \n9550    0.0         461              2         0        1  ",
      "text/html": "<div>\n<style scoped>\n    .dataframe tbody tr th:only-of-type {\n        vertical-align: middle;\n    }\n\n    .dataframe tbody tr th {\n        vertical-align: top;\n    }\n\n    .dataframe thead th {\n        text-align: right;\n    }\n</style>\n<table border=\"1\" class=\"dataframe\">\n  <thead>\n    <tr style=\"text-align: right;\">\n      <th></th>\n      <th>age</th>\n      <th>weight</th>\n      <th>height</th>\n      <th>s_press</th>\n      <th>d_press</th>\n      <th>sex</th>\n      <th>area</th>\n      <th>alco</th>\n      <th>irrat_food</th>\n      <th>smoke</th>\n      <th>clinic_cnt</th>\n      <th>ambulance_cnt</th>\n      <th>hosp_cnt</th>\n      <th>has_bsk</th>\n    </tr>\n  </thead>\n  <tbody>\n    <tr>\n      <th>1388</th>\n      <td>64</td>\n      <td>70.0</td>\n      <td>160.0</td>\n      <td>125.0</td>\n      <td>75.0</td>\n      <td>Женский</td>\n      <td>Город</td>\n      <td>NaN</td>\n      <td>NaN</td>\n      <td>NaN</td>\n      <td>454</td>\n      <td>3</td>\n      <td>34</td>\n      <td>1</td>\n    </tr>\n    <tr>\n      <th>2138</th>\n      <td>65</td>\n      <td>52.0</td>\n      <td>162.0</td>\n      <td>120.0</td>\n      <td>80.0</td>\n      <td>Женский</td>\n      <td>Город</td>\n      <td>0.0</td>\n      <td>0.0</td>\n      <td>0.0</td>\n      <td>627</td>\n      <td>74</td>\n      <td>9</td>\n      <td>1</td>\n    </tr>\n    <tr>\n      <th>2263</th>\n      <td>74</td>\n      <td>62.0</td>\n      <td>158.0</td>\n      <td>130.0</td>\n      <td>80.0</td>\n      <td>Женский</td>\n      <td>Город</td>\n      <td>0.0</td>\n      <td>1.0</td>\n      <td>0.0</td>\n      <td>424</td>\n      <td>18</td>\n      <td>32</td>\n      <td>1</td>\n    </tr>\n    <tr>\n      <th>2290</th>\n      <td>51</td>\n      <td>85.0</td>\n      <td>156.0</td>\n      <td>140.0</td>\n      <td>80.0</td>\n      <td>Женский</td>\n      <td>Село</td>\n      <td>0.0</td>\n      <td>0.0</td>\n      <td>0.0</td>\n      <td>375</td>\n      <td>17</td>\n      <td>74</td>\n      <td>1</td>\n    </tr>\n    <tr>\n      <th>3306</th>\n      <td>59</td>\n      <td>65.0</td>\n      <td>164.0</td>\n      <td>130.0</td>\n      <td>85.0</td>\n      <td>Женский</td>\n      <td>Село</td>\n      <td>0.0</td>\n      <td>0.0</td>\n      <td>0.0</td>\n      <td>370</td>\n      <td>6</td>\n      <td>15</td>\n      <td>1</td>\n    </tr>\n    <tr>\n      <th>3513</th>\n      <td>74</td>\n      <td>NaN</td>\n      <td>NaN</td>\n      <td>130.0</td>\n      <td>80.0</td>\n      <td>Женский</td>\n      <td>Город</td>\n      <td>0.0</td>\n      <td>1.0</td>\n      <td>0.0</td>\n      <td>367</td>\n      <td>24</td>\n      <td>1399</td>\n      <td>1</td>\n    </tr>\n    <tr>\n      <th>5135</th>\n      <td>80</td>\n      <td>55.0</td>\n      <td>155.0</td>\n      <td>110.0</td>\n      <td>70.0</td>\n      <td>Женский</td>\n      <td>Город</td>\n      <td>0.0</td>\n      <td>1.0</td>\n      <td>0.0</td>\n      <td>413</td>\n      <td>11</td>\n      <td>94</td>\n      <td>1</td>\n    </tr>\n    <tr>\n      <th>5379</th>\n      <td>74</td>\n      <td>72.0</td>\n      <td>159.0</td>\n      <td>130.0</td>\n      <td>90.0</td>\n      <td>Женский</td>\n      <td>Город</td>\n      <td>NaN</td>\n      <td>NaN</td>\n      <td>NaN</td>\n      <td>382</td>\n      <td>12</td>\n      <td>24</td>\n      <td>1</td>\n    </tr>\n    <tr>\n      <th>5427</th>\n      <td>82</td>\n      <td>75.0</td>\n      <td>168.0</td>\n      <td>125.0</td>\n      <td>70.0</td>\n      <td>Мужской</td>\n      <td>Город</td>\n      <td>0.0</td>\n      <td>0.0</td>\n      <td>0.0</td>\n      <td>410</td>\n      <td>6</td>\n      <td>29</td>\n      <td>1</td>\n    </tr>\n    <tr>\n      <th>6009</th>\n      <td>86</td>\n      <td>49.0</td>\n      <td>141.0</td>\n      <td>150.0</td>\n      <td>80.0</td>\n      <td>Женский</td>\n      <td>Город</td>\n      <td>NaN</td>\n      <td>NaN</td>\n      <td>0.0</td>\n      <td>400</td>\n      <td>53</td>\n      <td>117</td>\n      <td>1</td>\n    </tr>\n    <tr>\n      <th>6511</th>\n      <td>32</td>\n      <td>107.0</td>\n      <td>164.0</td>\n      <td>120.0</td>\n      <td>80.0</td>\n      <td>Женский</td>\n      <td>Город</td>\n      <td>0.0</td>\n      <td>0.0</td>\n      <td>0.0</td>\n      <td>548</td>\n      <td>12</td>\n      <td>137</td>\n      <td>0</td>\n    </tr>\n    <tr>\n      <th>6703</th>\n      <td>44</td>\n      <td>68.0</td>\n      <td>175.0</td>\n      <td>120.0</td>\n      <td>80.0</td>\n      <td>Женский</td>\n      <td>Город</td>\n      <td>0.0</td>\n      <td>0.0</td>\n      <td>0.0</td>\n      <td>383</td>\n      <td>7</td>\n      <td>26</td>\n      <td>1</td>\n    </tr>\n    <tr>\n      <th>6770</th>\n      <td>74</td>\n      <td>90.0</td>\n      <td>163.0</td>\n      <td>130.0</td>\n      <td>80.0</td>\n      <td>Женский</td>\n      <td>Город</td>\n      <td>0.0</td>\n      <td>0.0</td>\n      <td>0.0</td>\n      <td>490</td>\n      <td>141</td>\n      <td>115</td>\n      <td>1</td>\n    </tr>\n    <tr>\n      <th>6780</th>\n      <td>81</td>\n      <td>68.0</td>\n      <td>167.0</td>\n      <td>140.0</td>\n      <td>80.0</td>\n      <td>Мужской</td>\n      <td>Город</td>\n      <td>0.0</td>\n      <td>0.0</td>\n      <td>0.0</td>\n      <td>390</td>\n      <td>55</td>\n      <td>56</td>\n      <td>1</td>\n    </tr>\n    <tr>\n      <th>6862</th>\n      <td>65</td>\n      <td>72.0</td>\n      <td>168.0</td>\n      <td>140.0</td>\n      <td>80.0</td>\n      <td>Женский</td>\n      <td>Город</td>\n      <td>0.0</td>\n      <td>1.0</td>\n      <td>0.0</td>\n      <td>398</td>\n      <td>6</td>\n      <td>68</td>\n      <td>1</td>\n    </tr>\n    <tr>\n      <th>7666</th>\n      <td>75</td>\n      <td>68.0</td>\n      <td>164.0</td>\n      <td>135.0</td>\n      <td>90.0</td>\n      <td>Женский</td>\n      <td>Город</td>\n      <td>0.0</td>\n      <td>0.0</td>\n      <td>0.0</td>\n      <td>382</td>\n      <td>7</td>\n      <td>30</td>\n      <td>1</td>\n    </tr>\n    <tr>\n      <th>7741</th>\n      <td>77</td>\n      <td>75.0</td>\n      <td>160.0</td>\n      <td>140.0</td>\n      <td>80.0</td>\n      <td>Женский</td>\n      <td>Город</td>\n      <td>0.0</td>\n      <td>1.0</td>\n      <td>0.0</td>\n      <td>436</td>\n      <td>46</td>\n      <td>43</td>\n      <td>1</td>\n    </tr>\n    <tr>\n      <th>7867</th>\n      <td>67</td>\n      <td>90.0</td>\n      <td>164.0</td>\n      <td>140.0</td>\n      <td>90.0</td>\n      <td>Женский</td>\n      <td>Город</td>\n      <td>0.0</td>\n      <td>1.0</td>\n      <td>0.0</td>\n      <td>433</td>\n      <td>26</td>\n      <td>66</td>\n      <td>1</td>\n    </tr>\n    <tr>\n      <th>8759</th>\n      <td>63</td>\n      <td>49.0</td>\n      <td>158.0</td>\n      <td>120.0</td>\n      <td>80.0</td>\n      <td>Женский</td>\n      <td>Город</td>\n      <td>0.0</td>\n      <td>1.0</td>\n      <td>0.0</td>\n      <td>453</td>\n      <td>23</td>\n      <td>39</td>\n      <td>1</td>\n    </tr>\n    <tr>\n      <th>9523</th>\n      <td>79</td>\n      <td>65.0</td>\n      <td>165.0</td>\n      <td>130.0</td>\n      <td>80.0</td>\n      <td>Мужской</td>\n      <td>Город</td>\n      <td>0.0</td>\n      <td>1.0</td>\n      <td>0.0</td>\n      <td>463</td>\n      <td>37</td>\n      <td>97</td>\n      <td>1</td>\n    </tr>\n    <tr>\n      <th>9550</th>\n      <td>69</td>\n      <td>59.0</td>\n      <td>146.0</td>\n      <td>140.0</td>\n      <td>80.0</td>\n      <td>Женский</td>\n      <td>Село</td>\n      <td>0.0</td>\n      <td>0.0</td>\n      <td>0.0</td>\n      <td>461</td>\n      <td>2</td>\n      <td>0</td>\n      <td>1</td>\n    </tr>\n  </tbody>\n</table>\n</div>"
     },
     "execution_count": 18,
     "metadata": {},
     "output_type": "execute_result"
    }
   ],
   "source": [
    "df[df.clinic_cnt > 365]"
   ]
  },
  {
   "cell_type": "markdown",
   "metadata": {
    "pycharm": {
     "name": "#%% md\n"
    }
   },
   "source": [
    "Анализ выведенных записей показывает, что практически все пациенты с высоким количеством поликлинических услуг являются пожилыми людьми с болезнями системы кровообращения. Установим верхнюю границу в 300 услуг"
   ]
  },
  {
   "cell_type": "code",
   "execution_count": 19,
   "metadata": {
    "pycharm": {
     "name": "#%%\n"
    }
   },
   "outputs": [],
   "source": [
    "df.loc[(df.clinic_cnt > 300), 'clinic_cnt'] = 300"
   ]
  },
  {
   "cell_type": "markdown",
   "metadata": {
    "pycharm": {
     "name": "#%% md\n"
    }
   },
   "source": [
    "Проверим количество услуг скорой помощи более 100"
   ]
  },
  {
   "cell_type": "code",
   "execution_count": 20,
   "metadata": {
    "pycharm": {
     "name": "#%%\n"
    }
   },
   "outputs": [
    {
     "data": {
      "text/plain": "      age  weight  height  s_press  d_press      sex   area  alco  irrat_food  \\\n777    64    90.0   155.0    130.0     80.0  Женский  Город   0.0         1.0   \n2678   85    57.0   160.0    160.0     80.0  Женский  Город   0.0         0.0   \n4719   89    70.0   150.0    140.0     80.0  Женский  Город   0.0         0.0   \n6091   80    69.0   155.0    125.0     80.0  Женский  Город   NaN         NaN   \n6770   74    90.0   163.0    130.0     80.0  Женский  Город   0.0         0.0   \n7292   66    96.0   175.0    120.0     80.0  Мужской  Город   NaN         NaN   \n7890   83    55.0   160.0    120.0     80.0  Женский   Село   0.0         1.0   \n8446   82    75.0   164.0    150.0     90.0  Женский  Город   NaN         NaN   \n\n      smoke  clinic_cnt  ambulance_cnt  hosp_cnt  has_bsk  \n777     0.0          78            121        49        1  \n2678    0.0         300            615        20        1  \n4719    0.0         255            168        83        1  \n6091    NaN         298            137        64        1  \n6770    0.0         300            141       115        1  \n7292    NaN         170            461       140        1  \n7890    0.0         300            267        79        1  \n8446    NaN         236            131       131        1  ",
      "text/html": "<div>\n<style scoped>\n    .dataframe tbody tr th:only-of-type {\n        vertical-align: middle;\n    }\n\n    .dataframe tbody tr th {\n        vertical-align: top;\n    }\n\n    .dataframe thead th {\n        text-align: right;\n    }\n</style>\n<table border=\"1\" class=\"dataframe\">\n  <thead>\n    <tr style=\"text-align: right;\">\n      <th></th>\n      <th>age</th>\n      <th>weight</th>\n      <th>height</th>\n      <th>s_press</th>\n      <th>d_press</th>\n      <th>sex</th>\n      <th>area</th>\n      <th>alco</th>\n      <th>irrat_food</th>\n      <th>smoke</th>\n      <th>clinic_cnt</th>\n      <th>ambulance_cnt</th>\n      <th>hosp_cnt</th>\n      <th>has_bsk</th>\n    </tr>\n  </thead>\n  <tbody>\n    <tr>\n      <th>777</th>\n      <td>64</td>\n      <td>90.0</td>\n      <td>155.0</td>\n      <td>130.0</td>\n      <td>80.0</td>\n      <td>Женский</td>\n      <td>Город</td>\n      <td>0.0</td>\n      <td>1.0</td>\n      <td>0.0</td>\n      <td>78</td>\n      <td>121</td>\n      <td>49</td>\n      <td>1</td>\n    </tr>\n    <tr>\n      <th>2678</th>\n      <td>85</td>\n      <td>57.0</td>\n      <td>160.0</td>\n      <td>160.0</td>\n      <td>80.0</td>\n      <td>Женский</td>\n      <td>Город</td>\n      <td>0.0</td>\n      <td>0.0</td>\n      <td>0.0</td>\n      <td>300</td>\n      <td>615</td>\n      <td>20</td>\n      <td>1</td>\n    </tr>\n    <tr>\n      <th>4719</th>\n      <td>89</td>\n      <td>70.0</td>\n      <td>150.0</td>\n      <td>140.0</td>\n      <td>80.0</td>\n      <td>Женский</td>\n      <td>Город</td>\n      <td>0.0</td>\n      <td>0.0</td>\n      <td>0.0</td>\n      <td>255</td>\n      <td>168</td>\n      <td>83</td>\n      <td>1</td>\n    </tr>\n    <tr>\n      <th>6091</th>\n      <td>80</td>\n      <td>69.0</td>\n      <td>155.0</td>\n      <td>125.0</td>\n      <td>80.0</td>\n      <td>Женский</td>\n      <td>Город</td>\n      <td>NaN</td>\n      <td>NaN</td>\n      <td>NaN</td>\n      <td>298</td>\n      <td>137</td>\n      <td>64</td>\n      <td>1</td>\n    </tr>\n    <tr>\n      <th>6770</th>\n      <td>74</td>\n      <td>90.0</td>\n      <td>163.0</td>\n      <td>130.0</td>\n      <td>80.0</td>\n      <td>Женский</td>\n      <td>Город</td>\n      <td>0.0</td>\n      <td>0.0</td>\n      <td>0.0</td>\n      <td>300</td>\n      <td>141</td>\n      <td>115</td>\n      <td>1</td>\n    </tr>\n    <tr>\n      <th>7292</th>\n      <td>66</td>\n      <td>96.0</td>\n      <td>175.0</td>\n      <td>120.0</td>\n      <td>80.0</td>\n      <td>Мужской</td>\n      <td>Город</td>\n      <td>NaN</td>\n      <td>NaN</td>\n      <td>NaN</td>\n      <td>170</td>\n      <td>461</td>\n      <td>140</td>\n      <td>1</td>\n    </tr>\n    <tr>\n      <th>7890</th>\n      <td>83</td>\n      <td>55.0</td>\n      <td>160.0</td>\n      <td>120.0</td>\n      <td>80.0</td>\n      <td>Женский</td>\n      <td>Село</td>\n      <td>0.0</td>\n      <td>1.0</td>\n      <td>0.0</td>\n      <td>300</td>\n      <td>267</td>\n      <td>79</td>\n      <td>1</td>\n    </tr>\n    <tr>\n      <th>8446</th>\n      <td>82</td>\n      <td>75.0</td>\n      <td>164.0</td>\n      <td>150.0</td>\n      <td>90.0</td>\n      <td>Женский</td>\n      <td>Город</td>\n      <td>NaN</td>\n      <td>NaN</td>\n      <td>NaN</td>\n      <td>236</td>\n      <td>131</td>\n      <td>131</td>\n      <td>1</td>\n    </tr>\n  </tbody>\n</table>\n</div>"
     },
     "execution_count": 20,
     "metadata": {},
     "output_type": "execute_result"
    }
   ],
   "source": [
    "df[df.ambulance_cnt > 100]"
   ]
  },
  {
   "cell_type": "markdown",
   "metadata": {
    "pycharm": {
     "name": "#%% md\n"
    }
   },
   "source": [
    "Установим верхнюю границу в 100 услуг"
   ]
  },
  {
   "cell_type": "code",
   "execution_count": 21,
   "metadata": {
    "pycharm": {
     "name": "#%%\n"
    }
   },
   "outputs": [],
   "source": [
    "df.loc[(df.ambulance_cnt > 100), 'ambulance_cnt'] = 100"
   ]
  },
  {
   "cell_type": "markdown",
   "metadata": {
    "pycharm": {
     "name": "#%% md\n"
    }
   },
   "source": [
    "Проверим отрицательное значение стационарных услуг"
   ]
  },
  {
   "cell_type": "code",
   "execution_count": 22,
   "metadata": {
    "pycharm": {
     "name": "#%%\n"
    }
   },
   "outputs": [
    {
     "data": {
      "text/plain": "      age  weight  height  s_press  d_press      sex   area  alco  irrat_food  \\\n6717   74    88.0   162.0    115.0     70.0  Женский  Город   0.0         0.0   \n\n      smoke  clinic_cnt  ambulance_cnt  hosp_cnt  has_bsk  \n6717    0.0          63             31        -7        1  ",
      "text/html": "<div>\n<style scoped>\n    .dataframe tbody tr th:only-of-type {\n        vertical-align: middle;\n    }\n\n    .dataframe tbody tr th {\n        vertical-align: top;\n    }\n\n    .dataframe thead th {\n        text-align: right;\n    }\n</style>\n<table border=\"1\" class=\"dataframe\">\n  <thead>\n    <tr style=\"text-align: right;\">\n      <th></th>\n      <th>age</th>\n      <th>weight</th>\n      <th>height</th>\n      <th>s_press</th>\n      <th>d_press</th>\n      <th>sex</th>\n      <th>area</th>\n      <th>alco</th>\n      <th>irrat_food</th>\n      <th>smoke</th>\n      <th>clinic_cnt</th>\n      <th>ambulance_cnt</th>\n      <th>hosp_cnt</th>\n      <th>has_bsk</th>\n    </tr>\n  </thead>\n  <tbody>\n    <tr>\n      <th>6717</th>\n      <td>74</td>\n      <td>88.0</td>\n      <td>162.0</td>\n      <td>115.0</td>\n      <td>70.0</td>\n      <td>Женский</td>\n      <td>Город</td>\n      <td>0.0</td>\n      <td>0.0</td>\n      <td>0.0</td>\n      <td>63</td>\n      <td>31</td>\n      <td>-7</td>\n      <td>1</td>\n    </tr>\n  </tbody>\n</table>\n</div>"
     },
     "execution_count": 22,
     "metadata": {},
     "output_type": "execute_result"
    }
   ],
   "source": [
    "df[df.hosp_cnt < 0]"
   ]
  },
  {
   "cell_type": "markdown",
   "metadata": {
    "pycharm": {
     "name": "#%% md\n"
    }
   },
   "source": [
    "Заменим отрицательные значения на 0"
   ]
  },
  {
   "cell_type": "code",
   "execution_count": 23,
   "metadata": {
    "pycharm": {
     "name": "#%%\n"
    }
   },
   "outputs": [],
   "source": [
    "df.loc[(df.hosp_cnt < 0), 'hosp_cnt'] = 0"
   ]
  },
  {
   "cell_type": "markdown",
   "metadata": {
    "pycharm": {
     "name": "#%% md\n"
    }
   },
   "source": [
    "Проверим количество стационарных услуг более 200"
   ]
  },
  {
   "cell_type": "code",
   "execution_count": 24,
   "metadata": {
    "pycharm": {
     "name": "#%%\n"
    }
   },
   "outputs": [
    {
     "data": {
      "text/plain": "      age  weight  height  s_press  d_press      sex   area  alco  irrat_food  \\\n494    70    67.0   175.0    120.0     70.0  Мужской  Город   0.0         0.0   \n719    91    80.0   156.0    150.0     90.0  Женский  Город   NaN         NaN   \n981    62    65.0   169.0    110.0     70.0  Мужской   Село   0.0         0.0   \n1235   66    80.0   170.0    120.0     80.0  Мужской  Город   0.0         1.0   \n1348   41    56.0   166.0    130.0     80.0  Мужской  Город   0.0         0.0   \n1922   59    72.0   162.0    130.0     80.0  Женский  Город   0.0         0.0   \n2003   72    90.0   167.0    130.0     80.0  Мужской  Город   NaN         NaN   \n2257   72    75.0   165.0    145.0     95.0  Женский  Город   0.0         1.0   \n2876   51    56.0   172.0    110.0     70.0  Мужской   Село   0.0         0.0   \n3451   69    62.0   153.0    120.0     80.0  Женский  Город   0.0         0.0   \n3503   58    71.0   166.0    120.0     80.0  Женский  Город   NaN         NaN   \n3513   74     NaN     NaN    130.0     80.0  Женский  Город   0.0         1.0   \n4463   58   110.0   180.0    130.0     90.0  Мужской  Город   0.0         0.0   \n4914   42    48.0   166.0    110.0     60.0  Мужской  Город   0.0         1.0   \n5090   65    87.0   158.0    150.0     80.0  Женский   Село   0.0         1.0   \n5542   62    73.0   150.0    135.0     80.0  Женский  Город   0.0         0.0   \n5546   61    62.0   155.0    130.0     70.0  Женский  Город   NaN         NaN   \n5744   62   108.0   176.0    130.0     80.0  Мужской   Село   0.0         1.0   \n6268   68    82.0   172.0    110.0     80.0  Мужской  Город   0.0         0.0   \n6547   61    57.0   165.0    130.0     80.0  Мужской   Село   0.0         0.0   \n6705   81    70.0   168.0    150.0     80.0  Мужской  Город   NaN         NaN   \n6773   53    65.0   151.0    130.0     80.0  Женский  Город   0.0         1.0   \n8669   60    74.0   162.0    130.0     80.0  Женский  Город   0.0         0.0   \n8685   72    73.0   163.0    120.0     80.0  Мужской  Город   0.0         0.0   \n8795   41    64.0   166.0    140.0     80.0  Мужской  Город   NaN         NaN   \n9127   33    86.0   180.0    120.0     80.0  Мужской   Село   NaN         1.0   \n9161   70    66.0   163.0    130.0     80.0  Женский  Город   NaN         NaN   \n9382   39    70.0   178.0    120.0     80.0  Мужской  Город   0.0         1.0   \n9846   51    89.0   160.0    120.0     70.0  Женский  Город   0.0         1.0   \n9970   69     NaN     NaN      NaN      NaN  Женский  Город   NaN         NaN   \n9994   54    54.0   169.0    130.0     80.0  Женский  Город   0.0         1.0   \n\n      smoke  clinic_cnt  ambulance_cnt  hosp_cnt  has_bsk  \n494     0.0         204             15       413        1  \n719     NaN         165             15       208        1  \n981     0.0         118              1       244        0  \n1235    0.0         145             14       341        0  \n1348    0.0         221             16       308        1  \n1922    0.0         300              8       256        1  \n2003    NaN         113              4       469        1  \n2257    0.0         206             17      1158        1  \n2876    0.0          46              0       461        1  \n3451    0.0         246             23       527        1  \n3503    NaN         177              4       353        1  \n3513    0.0         300             24      1399        1  \n4463    0.0          55              2       214        1  \n4914    1.0         128              1       252        0  \n5090    0.0         180              7      1306        1  \n5542    1.0         133              2       290        1  \n5546    NaN         169              3       202        1  \n5744    0.0         145              2       393        0  \n6268    0.0         254              4       500        1  \n6547    0.0         124              5       228        1  \n6705    NaN         225              2       519        1  \n6773    0.0          51             10       247        1  \n8669    0.0         201              3       726        1  \n8685    1.0         268              0       286        1  \n8795    NaN         136             75       310        1  \n9127    NaN         118              1       284        0  \n9161    NaN         253              4       242        1  \n9382    1.0         248              7       313        0  \n9846    0.0         127              5      1229        1  \n9970    NaN         123              8       359        1  \n9994    0.0         267              9       305        1  ",
      "text/html": "<div>\n<style scoped>\n    .dataframe tbody tr th:only-of-type {\n        vertical-align: middle;\n    }\n\n    .dataframe tbody tr th {\n        vertical-align: top;\n    }\n\n    .dataframe thead th {\n        text-align: right;\n    }\n</style>\n<table border=\"1\" class=\"dataframe\">\n  <thead>\n    <tr style=\"text-align: right;\">\n      <th></th>\n      <th>age</th>\n      <th>weight</th>\n      <th>height</th>\n      <th>s_press</th>\n      <th>d_press</th>\n      <th>sex</th>\n      <th>area</th>\n      <th>alco</th>\n      <th>irrat_food</th>\n      <th>smoke</th>\n      <th>clinic_cnt</th>\n      <th>ambulance_cnt</th>\n      <th>hosp_cnt</th>\n      <th>has_bsk</th>\n    </tr>\n  </thead>\n  <tbody>\n    <tr>\n      <th>494</th>\n      <td>70</td>\n      <td>67.0</td>\n      <td>175.0</td>\n      <td>120.0</td>\n      <td>70.0</td>\n      <td>Мужской</td>\n      <td>Город</td>\n      <td>0.0</td>\n      <td>0.0</td>\n      <td>0.0</td>\n      <td>204</td>\n      <td>15</td>\n      <td>413</td>\n      <td>1</td>\n    </tr>\n    <tr>\n      <th>719</th>\n      <td>91</td>\n      <td>80.0</td>\n      <td>156.0</td>\n      <td>150.0</td>\n      <td>90.0</td>\n      <td>Женский</td>\n      <td>Город</td>\n      <td>NaN</td>\n      <td>NaN</td>\n      <td>NaN</td>\n      <td>165</td>\n      <td>15</td>\n      <td>208</td>\n      <td>1</td>\n    </tr>\n    <tr>\n      <th>981</th>\n      <td>62</td>\n      <td>65.0</td>\n      <td>169.0</td>\n      <td>110.0</td>\n      <td>70.0</td>\n      <td>Мужской</td>\n      <td>Село</td>\n      <td>0.0</td>\n      <td>0.0</td>\n      <td>0.0</td>\n      <td>118</td>\n      <td>1</td>\n      <td>244</td>\n      <td>0</td>\n    </tr>\n    <tr>\n      <th>1235</th>\n      <td>66</td>\n      <td>80.0</td>\n      <td>170.0</td>\n      <td>120.0</td>\n      <td>80.0</td>\n      <td>Мужской</td>\n      <td>Город</td>\n      <td>0.0</td>\n      <td>1.0</td>\n      <td>0.0</td>\n      <td>145</td>\n      <td>14</td>\n      <td>341</td>\n      <td>0</td>\n    </tr>\n    <tr>\n      <th>1348</th>\n      <td>41</td>\n      <td>56.0</td>\n      <td>166.0</td>\n      <td>130.0</td>\n      <td>80.0</td>\n      <td>Мужской</td>\n      <td>Город</td>\n      <td>0.0</td>\n      <td>0.0</td>\n      <td>0.0</td>\n      <td>221</td>\n      <td>16</td>\n      <td>308</td>\n      <td>1</td>\n    </tr>\n    <tr>\n      <th>1922</th>\n      <td>59</td>\n      <td>72.0</td>\n      <td>162.0</td>\n      <td>130.0</td>\n      <td>80.0</td>\n      <td>Женский</td>\n      <td>Город</td>\n      <td>0.0</td>\n      <td>0.0</td>\n      <td>0.0</td>\n      <td>300</td>\n      <td>8</td>\n      <td>256</td>\n      <td>1</td>\n    </tr>\n    <tr>\n      <th>2003</th>\n      <td>72</td>\n      <td>90.0</td>\n      <td>167.0</td>\n      <td>130.0</td>\n      <td>80.0</td>\n      <td>Мужской</td>\n      <td>Город</td>\n      <td>NaN</td>\n      <td>NaN</td>\n      <td>NaN</td>\n      <td>113</td>\n      <td>4</td>\n      <td>469</td>\n      <td>1</td>\n    </tr>\n    <tr>\n      <th>2257</th>\n      <td>72</td>\n      <td>75.0</td>\n      <td>165.0</td>\n      <td>145.0</td>\n      <td>95.0</td>\n      <td>Женский</td>\n      <td>Город</td>\n      <td>0.0</td>\n      <td>1.0</td>\n      <td>0.0</td>\n      <td>206</td>\n      <td>17</td>\n      <td>1158</td>\n      <td>1</td>\n    </tr>\n    <tr>\n      <th>2876</th>\n      <td>51</td>\n      <td>56.0</td>\n      <td>172.0</td>\n      <td>110.0</td>\n      <td>70.0</td>\n      <td>Мужской</td>\n      <td>Село</td>\n      <td>0.0</td>\n      <td>0.0</td>\n      <td>0.0</td>\n      <td>46</td>\n      <td>0</td>\n      <td>461</td>\n      <td>1</td>\n    </tr>\n    <tr>\n      <th>3451</th>\n      <td>69</td>\n      <td>62.0</td>\n      <td>153.0</td>\n      <td>120.0</td>\n      <td>80.0</td>\n      <td>Женский</td>\n      <td>Город</td>\n      <td>0.0</td>\n      <td>0.0</td>\n      <td>0.0</td>\n      <td>246</td>\n      <td>23</td>\n      <td>527</td>\n      <td>1</td>\n    </tr>\n    <tr>\n      <th>3503</th>\n      <td>58</td>\n      <td>71.0</td>\n      <td>166.0</td>\n      <td>120.0</td>\n      <td>80.0</td>\n      <td>Женский</td>\n      <td>Город</td>\n      <td>NaN</td>\n      <td>NaN</td>\n      <td>NaN</td>\n      <td>177</td>\n      <td>4</td>\n      <td>353</td>\n      <td>1</td>\n    </tr>\n    <tr>\n      <th>3513</th>\n      <td>74</td>\n      <td>NaN</td>\n      <td>NaN</td>\n      <td>130.0</td>\n      <td>80.0</td>\n      <td>Женский</td>\n      <td>Город</td>\n      <td>0.0</td>\n      <td>1.0</td>\n      <td>0.0</td>\n      <td>300</td>\n      <td>24</td>\n      <td>1399</td>\n      <td>1</td>\n    </tr>\n    <tr>\n      <th>4463</th>\n      <td>58</td>\n      <td>110.0</td>\n      <td>180.0</td>\n      <td>130.0</td>\n      <td>90.0</td>\n      <td>Мужской</td>\n      <td>Город</td>\n      <td>0.0</td>\n      <td>0.0</td>\n      <td>0.0</td>\n      <td>55</td>\n      <td>2</td>\n      <td>214</td>\n      <td>1</td>\n    </tr>\n    <tr>\n      <th>4914</th>\n      <td>42</td>\n      <td>48.0</td>\n      <td>166.0</td>\n      <td>110.0</td>\n      <td>60.0</td>\n      <td>Мужской</td>\n      <td>Город</td>\n      <td>0.0</td>\n      <td>1.0</td>\n      <td>1.0</td>\n      <td>128</td>\n      <td>1</td>\n      <td>252</td>\n      <td>0</td>\n    </tr>\n    <tr>\n      <th>5090</th>\n      <td>65</td>\n      <td>87.0</td>\n      <td>158.0</td>\n      <td>150.0</td>\n      <td>80.0</td>\n      <td>Женский</td>\n      <td>Село</td>\n      <td>0.0</td>\n      <td>1.0</td>\n      <td>0.0</td>\n      <td>180</td>\n      <td>7</td>\n      <td>1306</td>\n      <td>1</td>\n    </tr>\n    <tr>\n      <th>5542</th>\n      <td>62</td>\n      <td>73.0</td>\n      <td>150.0</td>\n      <td>135.0</td>\n      <td>80.0</td>\n      <td>Женский</td>\n      <td>Город</td>\n      <td>0.0</td>\n      <td>0.0</td>\n      <td>1.0</td>\n      <td>133</td>\n      <td>2</td>\n      <td>290</td>\n      <td>1</td>\n    </tr>\n    <tr>\n      <th>5546</th>\n      <td>61</td>\n      <td>62.0</td>\n      <td>155.0</td>\n      <td>130.0</td>\n      <td>70.0</td>\n      <td>Женский</td>\n      <td>Город</td>\n      <td>NaN</td>\n      <td>NaN</td>\n      <td>NaN</td>\n      <td>169</td>\n      <td>3</td>\n      <td>202</td>\n      <td>1</td>\n    </tr>\n    <tr>\n      <th>5744</th>\n      <td>62</td>\n      <td>108.0</td>\n      <td>176.0</td>\n      <td>130.0</td>\n      <td>80.0</td>\n      <td>Мужской</td>\n      <td>Село</td>\n      <td>0.0</td>\n      <td>1.0</td>\n      <td>0.0</td>\n      <td>145</td>\n      <td>2</td>\n      <td>393</td>\n      <td>0</td>\n    </tr>\n    <tr>\n      <th>6268</th>\n      <td>68</td>\n      <td>82.0</td>\n      <td>172.0</td>\n      <td>110.0</td>\n      <td>80.0</td>\n      <td>Мужской</td>\n      <td>Город</td>\n      <td>0.0</td>\n      <td>0.0</td>\n      <td>0.0</td>\n      <td>254</td>\n      <td>4</td>\n      <td>500</td>\n      <td>1</td>\n    </tr>\n    <tr>\n      <th>6547</th>\n      <td>61</td>\n      <td>57.0</td>\n      <td>165.0</td>\n      <td>130.0</td>\n      <td>80.0</td>\n      <td>Мужской</td>\n      <td>Село</td>\n      <td>0.0</td>\n      <td>0.0</td>\n      <td>0.0</td>\n      <td>124</td>\n      <td>5</td>\n      <td>228</td>\n      <td>1</td>\n    </tr>\n    <tr>\n      <th>6705</th>\n      <td>81</td>\n      <td>70.0</td>\n      <td>168.0</td>\n      <td>150.0</td>\n      <td>80.0</td>\n      <td>Мужской</td>\n      <td>Город</td>\n      <td>NaN</td>\n      <td>NaN</td>\n      <td>NaN</td>\n      <td>225</td>\n      <td>2</td>\n      <td>519</td>\n      <td>1</td>\n    </tr>\n    <tr>\n      <th>6773</th>\n      <td>53</td>\n      <td>65.0</td>\n      <td>151.0</td>\n      <td>130.0</td>\n      <td>80.0</td>\n      <td>Женский</td>\n      <td>Город</td>\n      <td>0.0</td>\n      <td>1.0</td>\n      <td>0.0</td>\n      <td>51</td>\n      <td>10</td>\n      <td>247</td>\n      <td>1</td>\n    </tr>\n    <tr>\n      <th>8669</th>\n      <td>60</td>\n      <td>74.0</td>\n      <td>162.0</td>\n      <td>130.0</td>\n      <td>80.0</td>\n      <td>Женский</td>\n      <td>Город</td>\n      <td>0.0</td>\n      <td>0.0</td>\n      <td>0.0</td>\n      <td>201</td>\n      <td>3</td>\n      <td>726</td>\n      <td>1</td>\n    </tr>\n    <tr>\n      <th>8685</th>\n      <td>72</td>\n      <td>73.0</td>\n      <td>163.0</td>\n      <td>120.0</td>\n      <td>80.0</td>\n      <td>Мужской</td>\n      <td>Город</td>\n      <td>0.0</td>\n      <td>0.0</td>\n      <td>1.0</td>\n      <td>268</td>\n      <td>0</td>\n      <td>286</td>\n      <td>1</td>\n    </tr>\n    <tr>\n      <th>8795</th>\n      <td>41</td>\n      <td>64.0</td>\n      <td>166.0</td>\n      <td>140.0</td>\n      <td>80.0</td>\n      <td>Мужской</td>\n      <td>Город</td>\n      <td>NaN</td>\n      <td>NaN</td>\n      <td>NaN</td>\n      <td>136</td>\n      <td>75</td>\n      <td>310</td>\n      <td>1</td>\n    </tr>\n    <tr>\n      <th>9127</th>\n      <td>33</td>\n      <td>86.0</td>\n      <td>180.0</td>\n      <td>120.0</td>\n      <td>80.0</td>\n      <td>Мужской</td>\n      <td>Село</td>\n      <td>NaN</td>\n      <td>1.0</td>\n      <td>NaN</td>\n      <td>118</td>\n      <td>1</td>\n      <td>284</td>\n      <td>0</td>\n    </tr>\n    <tr>\n      <th>9161</th>\n      <td>70</td>\n      <td>66.0</td>\n      <td>163.0</td>\n      <td>130.0</td>\n      <td>80.0</td>\n      <td>Женский</td>\n      <td>Город</td>\n      <td>NaN</td>\n      <td>NaN</td>\n      <td>NaN</td>\n      <td>253</td>\n      <td>4</td>\n      <td>242</td>\n      <td>1</td>\n    </tr>\n    <tr>\n      <th>9382</th>\n      <td>39</td>\n      <td>70.0</td>\n      <td>178.0</td>\n      <td>120.0</td>\n      <td>80.0</td>\n      <td>Мужской</td>\n      <td>Город</td>\n      <td>0.0</td>\n      <td>1.0</td>\n      <td>1.0</td>\n      <td>248</td>\n      <td>7</td>\n      <td>313</td>\n      <td>0</td>\n    </tr>\n    <tr>\n      <th>9846</th>\n      <td>51</td>\n      <td>89.0</td>\n      <td>160.0</td>\n      <td>120.0</td>\n      <td>70.0</td>\n      <td>Женский</td>\n      <td>Город</td>\n      <td>0.0</td>\n      <td>1.0</td>\n      <td>0.0</td>\n      <td>127</td>\n      <td>5</td>\n      <td>1229</td>\n      <td>1</td>\n    </tr>\n    <tr>\n      <th>9970</th>\n      <td>69</td>\n      <td>NaN</td>\n      <td>NaN</td>\n      <td>NaN</td>\n      <td>NaN</td>\n      <td>Женский</td>\n      <td>Город</td>\n      <td>NaN</td>\n      <td>NaN</td>\n      <td>NaN</td>\n      <td>123</td>\n      <td>8</td>\n      <td>359</td>\n      <td>1</td>\n    </tr>\n    <tr>\n      <th>9994</th>\n      <td>54</td>\n      <td>54.0</td>\n      <td>169.0</td>\n      <td>130.0</td>\n      <td>80.0</td>\n      <td>Женский</td>\n      <td>Город</td>\n      <td>0.0</td>\n      <td>1.0</td>\n      <td>0.0</td>\n      <td>267</td>\n      <td>9</td>\n      <td>305</td>\n      <td>1</td>\n    </tr>\n  </tbody>\n</table>\n</div>"
     },
     "execution_count": 24,
     "metadata": {},
     "output_type": "execute_result"
    }
   ],
   "source": [
    "df[df.hosp_cnt > 200]"
   ]
  },
  {
   "cell_type": "markdown",
   "metadata": {
    "pycharm": {
     "name": "#%% md\n"
    }
   },
   "source": [
    "Установим верхнюю границу в 200 услуг"
   ]
  },
  {
   "cell_type": "code",
   "execution_count": 25,
   "metadata": {
    "pycharm": {
     "name": "#%%\n"
    }
   },
   "outputs": [],
   "source": [
    "df.loc[(df.hosp_cnt > 200), 'hosp_cnt'] = 200"
   ]
  },
  {
   "cell_type": "markdown",
   "metadata": {
    "pycharm": {
     "name": "#%% md\n"
    }
   },
   "source": [
    "Проверим результат ручной обработки"
   ]
  },
  {
   "cell_type": "code",
   "execution_count": 26,
   "metadata": {
    "pycharm": {
     "name": "#%%\n"
    }
   },
   "outputs": [
    {
     "data": {
      "text/plain": "              age       weight       height      s_press      d_press  \\\ncount  9998.00000  9466.000000  9469.000000  9355.000000  9355.000000   \nmean     57.94839    75.325058   164.144683   127.078675    79.876964   \nstd      15.55969    15.562660     9.148575    12.614878     7.387423   \nmin      17.00000    32.000000   102.000000    72.000000    55.000000   \n25%      48.00000    65.000000   158.000000   120.000000    80.000000   \n50%      60.00000    74.000000   164.000000   125.000000    80.000000   \n75%      69.00000    84.000000   170.000000   130.000000    80.000000   \nmax      99.00000   176.000000   205.000000   200.000000   177.000000   \n\n              alco   irrat_food        smoke   clinic_cnt  ambulance_cnt  \\\ncount  7705.000000  7826.000000  7874.000000  9998.000000    9998.000000   \nmean      0.066710     0.473166     0.089281    89.634527       4.000300   \nstd       0.249535     0.499311     0.285167    56.131457       7.149828   \nmin       0.000000     0.000000     0.000000     0.000000       0.000000   \n25%       0.000000     0.000000     0.000000    48.000000       0.000000   \n50%       0.000000     0.000000     0.000000    78.000000       2.000000   \n75%       0.000000     1.000000     0.000000   118.000000       5.000000   \nmax       1.000000     1.000000     1.000000   300.000000     100.000000   \n\n          hosp_cnt      has_bsk  \ncount  9998.000000  9998.000000  \nmean     14.731746     0.574515  \nstd      24.685199     0.494441  \nmin       0.000000     0.000000  \n25%       0.000000     0.000000  \n50%       5.000000     1.000000  \n75%      20.000000     1.000000  \nmax     200.000000     1.000000  ",
      "text/html": "<div>\n<style scoped>\n    .dataframe tbody tr th:only-of-type {\n        vertical-align: middle;\n    }\n\n    .dataframe tbody tr th {\n        vertical-align: top;\n    }\n\n    .dataframe thead th {\n        text-align: right;\n    }\n</style>\n<table border=\"1\" class=\"dataframe\">\n  <thead>\n    <tr style=\"text-align: right;\">\n      <th></th>\n      <th>age</th>\n      <th>weight</th>\n      <th>height</th>\n      <th>s_press</th>\n      <th>d_press</th>\n      <th>alco</th>\n      <th>irrat_food</th>\n      <th>smoke</th>\n      <th>clinic_cnt</th>\n      <th>ambulance_cnt</th>\n      <th>hosp_cnt</th>\n      <th>has_bsk</th>\n    </tr>\n  </thead>\n  <tbody>\n    <tr>\n      <th>count</th>\n      <td>9998.00000</td>\n      <td>9466.000000</td>\n      <td>9469.000000</td>\n      <td>9355.000000</td>\n      <td>9355.000000</td>\n      <td>7705.000000</td>\n      <td>7826.000000</td>\n      <td>7874.000000</td>\n      <td>9998.000000</td>\n      <td>9998.000000</td>\n      <td>9998.000000</td>\n      <td>9998.000000</td>\n    </tr>\n    <tr>\n      <th>mean</th>\n      <td>57.94839</td>\n      <td>75.325058</td>\n      <td>164.144683</td>\n      <td>127.078675</td>\n      <td>79.876964</td>\n      <td>0.066710</td>\n      <td>0.473166</td>\n      <td>0.089281</td>\n      <td>89.634527</td>\n      <td>4.000300</td>\n      <td>14.731746</td>\n      <td>0.574515</td>\n    </tr>\n    <tr>\n      <th>std</th>\n      <td>15.55969</td>\n      <td>15.562660</td>\n      <td>9.148575</td>\n      <td>12.614878</td>\n      <td>7.387423</td>\n      <td>0.249535</td>\n      <td>0.499311</td>\n      <td>0.285167</td>\n      <td>56.131457</td>\n      <td>7.149828</td>\n      <td>24.685199</td>\n      <td>0.494441</td>\n    </tr>\n    <tr>\n      <th>min</th>\n      <td>17.00000</td>\n      <td>32.000000</td>\n      <td>102.000000</td>\n      <td>72.000000</td>\n      <td>55.000000</td>\n      <td>0.000000</td>\n      <td>0.000000</td>\n      <td>0.000000</td>\n      <td>0.000000</td>\n      <td>0.000000</td>\n      <td>0.000000</td>\n      <td>0.000000</td>\n    </tr>\n    <tr>\n      <th>25%</th>\n      <td>48.00000</td>\n      <td>65.000000</td>\n      <td>158.000000</td>\n      <td>120.000000</td>\n      <td>80.000000</td>\n      <td>0.000000</td>\n      <td>0.000000</td>\n      <td>0.000000</td>\n      <td>48.000000</td>\n      <td>0.000000</td>\n      <td>0.000000</td>\n      <td>0.000000</td>\n    </tr>\n    <tr>\n      <th>50%</th>\n      <td>60.00000</td>\n      <td>74.000000</td>\n      <td>164.000000</td>\n      <td>125.000000</td>\n      <td>80.000000</td>\n      <td>0.000000</td>\n      <td>0.000000</td>\n      <td>0.000000</td>\n      <td>78.000000</td>\n      <td>2.000000</td>\n      <td>5.000000</td>\n      <td>1.000000</td>\n    </tr>\n    <tr>\n      <th>75%</th>\n      <td>69.00000</td>\n      <td>84.000000</td>\n      <td>170.000000</td>\n      <td>130.000000</td>\n      <td>80.000000</td>\n      <td>0.000000</td>\n      <td>1.000000</td>\n      <td>0.000000</td>\n      <td>118.000000</td>\n      <td>5.000000</td>\n      <td>20.000000</td>\n      <td>1.000000</td>\n    </tr>\n    <tr>\n      <th>max</th>\n      <td>99.00000</td>\n      <td>176.000000</td>\n      <td>205.000000</td>\n      <td>200.000000</td>\n      <td>177.000000</td>\n      <td>1.000000</td>\n      <td>1.000000</td>\n      <td>1.000000</td>\n      <td>300.000000</td>\n      <td>100.000000</td>\n      <td>200.000000</td>\n      <td>1.000000</td>\n    </tr>\n  </tbody>\n</table>\n</div>"
     },
     "execution_count": 26,
     "metadata": {},
     "output_type": "execute_result"
    }
   ],
   "source": [
    "df.describe()"
   ]
  },
  {
   "cell_type": "markdown",
   "metadata": {
    "pycharm": {
     "name": "#%% md\n"
    }
   },
   "source": [
    "### Удаление/восстановление пропусков\n",
    "Выведем количество строк, в которых одновременно не заполнены данные рост/вес и давление"
   ]
  },
  {
   "cell_type": "code",
   "execution_count": 27,
   "metadata": {
    "pycharm": {
     "name": "#%%\n"
    }
   },
   "outputs": [
    {
     "data": {
      "text/plain": "493"
     },
     "execution_count": 27,
     "metadata": {},
     "output_type": "execute_result"
    }
   ],
   "source": [
    "df[(df.weight.isnull()) & (df.height.isnull()) & (df.s_press.isnull()) & (df.d_press.isnull())].index.size"
   ]
  },
  {
   "cell_type": "markdown",
   "metadata": {
    "pycharm": {
     "name": "#%% md\n"
    }
   },
   "source": [
    "Удалим данные строки как неинформативные"
   ]
  },
  {
   "cell_type": "code",
   "execution_count": 28,
   "metadata": {
    "pycharm": {
     "name": "#%%\n"
    }
   },
   "outputs": [],
   "source": [
    "df = df[(df.weight.notnull()) & (df.height.notnull()) & (df.s_press.notnull()) & (df.d_press.notnull())]"
   ]
  },
  {
   "cell_type": "markdown",
   "metadata": {
    "pycharm": {
     "name": "#%% md\n"
    }
   },
   "source": [
    "Выведем процент пропущенных значений по каждому столбцу в наборе данных"
   ]
  },
  {
   "cell_type": "code",
   "execution_count": 30,
   "metadata": {
    "pycharm": {
     "name": "#%%\n"
    }
   },
   "outputs": [
    {
     "data": {
      "text/plain": "['age: 0.0%',\n 'weight: 0.0%',\n 'height: 0.0%',\n 's_press: 0.0%',\n 'd_press: 0.0%',\n 'sex: 0.0%',\n 'area: 0.0%',\n 'alco: 17.90547798066595%',\n 'irrat_food: 16.595059076262086%',\n 'smoke: 16.090225563909776%',\n 'clinic_cnt: 0.0%',\n 'ambulance_cnt: 0.0%',\n 'hosp_cnt: 0.0%',\n 'has_bsk: 0.0%']"
     },
     "execution_count": 30,
     "metadata": {},
     "output_type": "execute_result"
    }
   ],
   "source": [
    "[f'{column}: {100*df[column].isnull().sum()/df.index.size}%' for column in df.columns]"
   ]
  },
  {
   "cell_type": "markdown",
   "metadata": {
    "pycharm": {
     "name": "#%% md\n"
    }
   },
   "source": [
    "Проверим распределение значений в столбцах с пропусками"
   ]
  },
  {
   "cell_type": "code",
   "execution_count": 36,
   "metadata": {
    "pycharm": {
     "name": "#%%\n"
    }
   },
   "outputs": [],
   "source": [
    "restore_columns = ['alco', 'irrat_food', 'smoke']"
   ]
  },
  {
   "cell_type": "code",
   "execution_count": 37,
   "metadata": {
    "pycharm": {
     "name": "#%%\n"
    }
   },
   "outputs": [
    {
     "data": {
      "text/plain": "<Figure size 100x100 with 1 Axes>",
      "image/png": "[encoded data removed]"
     },
     "metadata": {},
     "output_type": "display_data"
    },
    {
     "data": {
      "text/plain": "<Figure size 100x100 with 1 Axes>",
      "image/png": "[encoded data removed]"
     },
     "metadata": {},
     "output_type": "display_data"
    },
    {
     "data": {
      "text/plain": "<Figure size 100x100 with 1 Axes>",
      "image/png": "[encoded data removed]"
     },
     "metadata": {},
     "output_type": "display_data"
    }
   ],
   "source": [
    "for column in restore_columns:\n",
    "    df[column].value_counts().plot(kind='bar', title=column, figsize=(1, 1))\n",
    "    plt.show()"
   ]
  },
  {
   "cell_type": "markdown",
   "metadata": {
    "pycharm": {
     "name": "#%% md\n"
    }
   },
   "source": [
    "Значения, свидетельствующие об употреблении алкоголя и табака практически отсутствуют, а значения иррациональности питания распределны практически равномерно. Заменять отсутствующие данные средними значениями в данном случае нецелесообразно. Попробуем Заполнить пропущенные значения с помощью метода N ближайших соседей, с учетом данных столбцов возраст, рост, вес, давление"
   ]
  },
  {
   "cell_type": "code",
   "execution_count": 38,
   "metadata": {
    "pycharm": {
     "name": "#%%\n"
    }
   },
   "outputs": [
    {
     "data": {
      "text/plain": "KNNImputer()",
      "text/html": "<style>#sk-container-id-1 {color: black;background-color: white;}#sk-container-id-1 pre{padding: 0;}#sk-container-id-1 div.sk-toggleable {background-color: white;}#sk-container-id-1 label.sk-toggleable__label {cursor: pointer;display: block;width: 100%;margin-bottom: 0;padding: 0.3em;box-sizing: border-box;text-align: center;}#sk-container-id-1 label.sk-toggleable__label-arrow:before {content: \"▸\";float: left;margin-right: 0.25em;color: #696969;}#sk-container-id-1 label.sk-toggleable__label-arrow:hover:before {color: black;}#sk-container-id-1 div.sk-estimator:hover label.sk-toggleable__label-arrow:before {color: black;}#sk-container-id-1 div.sk-toggleable__content {max-height: 0;max-width: 0;overflow: hidden;text-align: left;background-color: #f0f8ff;}#sk-container-id-1 div.sk-toggleable__content pre {margin: 0.2em;color: black;border-radius: 0.25em;background-color: #f0f8ff;}#sk-container-id-1 input.sk-toggleable__control:checked~div.sk-toggleable__content {max-height: 200px;max-width: 100%;overflow: auto;}#sk-container-id-1 input.sk-toggleable__control:checked~label.sk-toggleable__label-arrow:before {content: \"▾\";}#sk-container-id-1 div.sk-estimator input.sk-toggleable__control:checked~label.sk-toggleable__label {background-color: #d4ebff;}#sk-container-id-1 div.sk-label input.sk-toggleable__control:checked~label.sk-toggleable__label {background-color: #d4ebff;}#sk-container-id-1 input.sk-hidden--visually {border: 0;clip: rect(1px 1px 1px 1px);clip: rect(1px, 1px, 1px, 1px);height: 1px;margin: -1px;overflow: hidden;padding: 0;position: absolute;width: 1px;}#sk-container-id-1 div.sk-estimator {font-family: monospace;background-color: #f0f8ff;border: 1px dotted black;border-radius: 0.25em;box-sizing: border-box;margin-bottom: 0.5em;}#sk-container-id-1 div.sk-estimator:hover {background-color: #d4ebff;}#sk-container-id-1 div.sk-parallel-item::after {content: \"\";width: 100%;border-bottom: 1px solid gray;flex-grow: 1;}#sk-container-id-1 div.sk-label:hover label.sk-toggleable__label {background-color: #d4ebff;}#sk-container-id-1 div.sk-serial::before {content: \"\";position: absolute;border-left: 1px solid gray;box-sizing: border-box;top: 0;bottom: 0;left: 50%;z-index: 0;}#sk-container-id-1 div.sk-serial {display: flex;flex-direction: column;align-items: center;background-color: white;padding-right: 0.2em;padding-left: 0.2em;position: relative;}#sk-container-id-1 div.sk-item {position: relative;z-index: 1;}#sk-container-id-1 div.sk-parallel {display: flex;align-items: stretch;justify-content: center;background-color: white;position: relative;}#sk-container-id-1 div.sk-item::before, #sk-container-id-1 div.sk-parallel-item::before {content: \"\";position: absolute;border-left: 1px solid gray;box-sizing: border-box;top: 0;bottom: 0;left: 50%;z-index: -1;}#sk-container-id-1 div.sk-parallel-item {display: flex;flex-direction: column;z-index: 1;position: relative;background-color: white;}#sk-container-id-1 div.sk-parallel-item:first-child::after {align-self: flex-end;width: 50%;}#sk-container-id-1 div.sk-parallel-item:last-child::after {align-self: flex-start;width: 50%;}#sk-container-id-1 div.sk-parallel-item:only-child::after {width: 0;}#sk-container-id-1 div.sk-dashed-wrapped {border: 1px dashed gray;margin: 0 0.4em 0.5em 0.4em;box-sizing: border-box;padding-bottom: 0.4em;background-color: white;}#sk-container-id-1 div.sk-label label {font-family: monospace;font-weight: bold;display: inline-block;line-height: 1.2em;}#sk-container-id-1 div.sk-label-container {text-align: center;}#sk-container-id-1 div.sk-container {/* jupyter's `normalize.less` sets `[hidden] { display: none; }` but bootstrap.min.css set `[hidden] { display: none !important; }` so we also need the `!important` here to be able to override the default hidden behavior on the sphinx rendered scikit-learn.org. See: https://github.com/scikit-learn/scikit-learn/issues/21755 */display: inline-block !important;position: relative;}#sk-container-id-1 div.sk-text-repr-fallback {display: none;}</style><div id=\"sk-container-id-1\" class=\"sk-top-container\"><div class=\"sk-text-repr-fallback\"><pre>KNNImputer()</pre><b>In a Jupyter environment, please rerun this cell to show the HTML representation or trust the notebook. <br />On GitHub, the HTML representation is unable to render, please try loading this page with nbviewer.org.</b></div><div class=\"sk-container\" hidden><div class=\"sk-item\"><div class=\"sk-estimator sk-toggleable\"><input class=\"sk-toggleable__control sk-hidden--visually\" id=\"sk-estimator-id-1\" type=\"checkbox\" checked><label for=\"sk-estimator-id-1\" class=\"sk-toggleable__label sk-toggleable__label-arrow\">KNNImputer</label><div class=\"sk-toggleable__content\"><pre>KNNImputer()</pre></div></div></div></div></div>"
     },
     "execution_count": 38,
     "metadata": {},
     "output_type": "execute_result"
    }
   ],
   "source": [
    "imputer = KNNImputer(missing_values=np.nan, n_neighbors=5)\n",
    "columns = ['age', 'weight', 'height', 's_press', 'd_press', 'alco', 'irrat_food', 'smoke']\n",
    "imputer.fit(df[columns])"
   ]
  },
  {
   "cell_type": "code",
   "execution_count": 39,
   "metadata": {
    "pycharm": {
     "name": "#%%\n"
    }
   },
   "outputs": [],
   "source": [
    "df[columns] = imputer.transform(df[columns])"
   ]
  },
  {
   "cell_type": "markdown",
   "metadata": {
    "pycharm": {
     "name": "#%% md\n"
    }
   },
   "source": [
    "В результате работы алгоритма рассчитывается усредненное значение, округлим до целого, чтобы получить бинарные значения 0 или 1"
   ]
  },
  {
   "cell_type": "code",
   "execution_count": 40,
   "metadata": {
    "pycharm": {
     "name": "#%%\n"
    }
   },
   "outputs": [],
   "source": [
    "for column in restore_columns:\n",
    "    df[column] = np.round(df[column])"
   ]
  },
  {
   "cell_type": "code",
   "execution_count": 41,
   "metadata": {
    "pycharm": {
     "name": "#%%\n"
    }
   },
   "outputs": [
    {
     "data": {
      "text/plain": "               age       weight       height      s_press      d_press  \\\ncount  9310.000000  9310.000000  9310.000000  9310.000000  9310.000000   \nmean     58.256498    75.294952   164.137809   127.077981    79.859936   \nstd      15.519359    15.534720     9.155431    12.634161     7.391681   \nmin      17.000000    32.000000   102.000000    72.000000    55.000000   \n25%      48.000000    65.000000   158.000000   120.000000    80.000000   \n50%      60.000000    74.000000   164.000000   125.000000    80.000000   \n75%      69.000000    84.000000   170.000000   130.000000    80.000000   \nmax      99.000000   176.000000   205.000000   200.000000   177.000000   \n\n              alco   irrat_food        smoke   clinic_cnt  ambulance_cnt  \\\ncount  9310.000000  9310.000000  9310.000000  9310.000000    9310.000000   \nmean      0.055961     0.473255     0.077336    89.830505       3.974221   \nstd       0.229859     0.499311     0.267138    56.210986       7.220986   \nmin       0.000000     0.000000     0.000000     0.000000       0.000000   \n25%       0.000000     0.000000     0.000000    48.000000       0.000000   \n50%       0.000000     0.000000     0.000000    78.000000       2.000000   \n75%       0.000000     1.000000     0.000000   119.000000       5.000000   \nmax       1.000000     1.000000     1.000000   300.000000     100.000000   \n\n          hosp_cnt      has_bsk  \ncount  9310.000000  9310.000000  \nmean     14.681847     0.581096  \nstd      24.733695     0.493406  \nmin       0.000000     0.000000  \n25%       0.000000     0.000000  \n50%       5.000000     1.000000  \n75%      20.000000     1.000000  \nmax     200.000000     1.000000  ",
      "text/html": "<div>\n<style scoped>\n    .dataframe tbody tr th:only-of-type {\n        vertical-align: middle;\n    }\n\n    .dataframe tbody tr th {\n        vertical-align: top;\n    }\n\n    .dataframe thead th {\n        text-align: right;\n    }\n</style>\n<table border=\"1\" class=\"dataframe\">\n  <thead>\n    <tr style=\"text-align: right;\">\n      <th></th>\n      <th>age</th>\n      <th>weight</th>\n      <th>height</th>\n      <th>s_press</th>\n      <th>d_press</th>\n      <th>alco</th>\n      <th>irrat_food</th>\n      <th>smoke</th>\n      <th>clinic_cnt</th>\n      <th>ambulance_cnt</th>\n      <th>hosp_cnt</th>\n      <th>has_bsk</th>\n    </tr>\n  </thead>\n  <tbody>\n    <tr>\n      <th>count</th>\n      <td>9310.000000</td>\n      <td>9310.000000</td>\n      <td>9310.000000</td>\n      <td>9310.000000</td>\n      <td>9310.000000</td>\n      <td>9310.000000</td>\n      <td>9310.000000</td>\n      <td>9310.000000</td>\n      <td>9310.000000</td>\n      <td>9310.000000</td>\n      <td>9310.000000</td>\n      <td>9310.000000</td>\n    </tr>\n    <tr>\n      <th>mean</th>\n      <td>58.256498</td>\n      <td>75.294952</td>\n      <td>164.137809</td>\n      <td>127.077981</td>\n      <td>79.859936</td>\n      <td>0.055961</td>\n      <td>0.473255</td>\n      <td>0.077336</td>\n      <td>89.830505</td>\n      <td>3.974221</td>\n      <td>14.681847</td>\n      <td>0.581096</td>\n    </tr>\n    <tr>\n      <th>std</th>\n      <td>15.519359</td>\n      <td>15.534720</td>\n      <td>9.155431</td>\n      <td>12.634161</td>\n      <td>7.391681</td>\n      <td>0.229859</td>\n      <td>0.499311</td>\n      <td>0.267138</td>\n      <td>56.210986</td>\n      <td>7.220986</td>\n      <td>24.733695</td>\n      <td>0.493406</td>\n    </tr>\n    <tr>\n      <th>min</th>\n      <td>17.000000</td>\n      <td>32.000000</td>\n      <td>102.000000</td>\n      <td>72.000000</td>\n      <td>55.000000</td>\n      <td>0.000000</td>\n      <td>0.000000</td>\n      <td>0.000000</td>\n      <td>0.000000</td>\n      <td>0.000000</td>\n      <td>0.000000</td>\n      <td>0.000000</td>\n    </tr>\n    <tr>\n      <th>25%</th>\n      <td>48.000000</td>\n      <td>65.000000</td>\n      <td>158.000000</td>\n      <td>120.000000</td>\n      <td>80.000000</td>\n      <td>0.000000</td>\n      <td>0.000000</td>\n      <td>0.000000</td>\n      <td>48.000000</td>\n      <td>0.000000</td>\n      <td>0.000000</td>\n      <td>0.000000</td>\n    </tr>\n    <tr>\n      <th>50%</th>\n      <td>60.000000</td>\n      <td>74.000000</td>\n      <td>164.000000</td>\n      <td>125.000000</td>\n      <td>80.000000</td>\n      <td>0.000000</td>\n      <td>0.000000</td>\n      <td>0.000000</td>\n      <td>78.000000</td>\n      <td>2.000000</td>\n      <td>5.000000</td>\n      <td>1.000000</td>\n    </tr>\n    <tr>\n      <th>75%</th>\n      <td>69.000000</td>\n      <td>84.000000</td>\n      <td>170.000000</td>\n      <td>130.000000</td>\n      <td>80.000000</td>\n      <td>0.000000</td>\n      <td>1.000000</td>\n      <td>0.000000</td>\n      <td>119.000000</td>\n      <td>5.000000</td>\n      <td>20.000000</td>\n      <td>1.000000</td>\n    </tr>\n    <tr>\n      <th>max</th>\n      <td>99.000000</td>\n      <td>176.000000</td>\n      <td>205.000000</td>\n      <td>200.000000</td>\n      <td>177.000000</td>\n      <td>1.000000</td>\n      <td>1.000000</td>\n      <td>1.000000</td>\n      <td>300.000000</td>\n      <td>100.000000</td>\n      <td>200.000000</td>\n      <td>1.000000</td>\n    </tr>\n  </tbody>\n</table>\n</div>"
     },
     "execution_count": 41,
     "metadata": {},
     "output_type": "execute_result"
    }
   ],
   "source": [
    "df.describe()"
   ]
  },
  {
   "cell_type": "markdown",
   "metadata": {
    "pycharm": {
     "name": "#%% md\n"
    }
   },
   "source": [
    "### Очистка данных от выбросов\n",
    "Проверим данные в числовых столбцах на наличие выбросов"
   ]
  },
  {
   "cell_type": "code",
   "execution_count": 42,
   "metadata": {
    "pycharm": {
     "name": "#%%\n"
    },
    "scrolled": true
   },
   "outputs": [
    {
     "data": {
      "text/plain": "<Figure size 640x480 with 8 Axes>",
      "image/png": "[encoded data removed]"
     },
     "metadata": {},
     "output_type": "display_data"
    }
   ],
   "source": [
    "num_columns = ['age', 'weight', 'height', 's_press', 'd_press', 'clinic_cnt', 'ambulance_cnt', 'hosp_cnt']\n",
    "for i, column in enumerate(num_columns):\n",
    "    plt.subplot(2, 6, 1 + i)\n",
    "    plt.title(column)\n",
    "    plt.xticks([])\n",
    "    plt.yticks([])\n",
    "    plt.boxplot(df[column])\n",
    "plt.suptitle(\"Визуальная оценка выбросов\")\n",
    "plt.show()"
   ]
  },
  {
   "cell_type": "markdown",
   "metadata": {
    "pycharm": {
     "name": "#%% md\n"
    }
   },
   "source": [
    "Оценим количество строк к удалению если оценивать выбросы с помощью интерквартильного размаха"
   ]
  },
  {
   "cell_type": "code",
   "execution_count": 43,
   "metadata": {
    "pycharm": {
     "name": "#%%\n"
    }
   },
   "outputs": [
    {
     "data": {
      "text/plain": "6797"
     },
     "execution_count": 43,
     "metadata": {},
     "output_type": "execute_result"
    }
   ],
   "source": [
    "outliers = set()\n",
    "for column in num_columns:\n",
    "    q1 = df[column].quantile(0.25)\n",
    "    q3 = df[column].quantile(0.75)\n",
    "    iqr = q3 - q1\n",
    "    outliers = outliers.union(set(df[(df[column] < q1 - 1.5*iqr ) | (df[column] > q1 + 1.5*iqr)].index))\n",
    "len(outliers)"
   ]
  },
  {
   "cell_type": "markdown",
   "metadata": {
    "pycharm": {
     "name": "#%% md\n"
    }
   },
   "source": [
    "При удалении выбросов с использованием интерквартильного размаха удалению подлежит значительная часть данных. Построим гистограммы для указанных столбцов"
   ]
  },
  {
   "cell_type": "code",
   "execution_count": 44,
   "metadata": {
    "pycharm": {
     "name": "#%%\n"
    }
   },
   "outputs": [
    {
     "data": {
      "text/plain": "<Figure size 100x100 with 1 Axes>",
      "image/png": "[encoded data removed]"
     },
     "metadata": {},
     "output_type": "display_data"
    },
    {
     "data": {
      "text/plain": "<Figure size 100x100 with 1 Axes>",
      "image/png": "[encoded data removed]"
     },
     "metadata": {},
     "output_type": "display_data"
    },
    {
     "data": {
      "text/plain": "<Figure size 100x100 with 1 Axes>",
      "image/png": "[encoded data removed]"
     },
     "metadata": {},
     "output_type": "display_data"
    },
    {
     "data": {
      "text/plain": "<Figure size 100x100 with 1 Axes>",
      "image/png": "[encoded data removed]"
     },
     "metadata": {},
     "output_type": "display_data"
    },
    {
     "data": {
      "text/plain": "<Figure size 100x100 with 1 Axes>",
      "image/png": "[encoded data removed]"
     },
     "metadata": {},
     "output_type": "display_data"
    },
    {
     "data": {
      "text/plain": "<Figure size 100x100 with 1 Axes>",
      "image/png": "[encoded data removed]"
     },
     "metadata": {},
     "output_type": "display_data"
    },
    {
     "data": {
      "text/plain": "<Figure size 100x100 with 1 Axes>",
      "image/png": "[encoded data removed]"
     },
     "metadata": {},
     "output_type": "display_data"
    },
    {
     "data": {
      "text/plain": "<Figure size 100x100 with 1 Axes>",
      "image/png": "[encoded data removed]"
     },
     "metadata": {},
     "output_type": "display_data"
    }
   ],
   "source": [
    "for column in num_columns:\n",
    "    df.hist(column=column, figsize=(1, 1))\n",
    "    plt.show()"
   ]
  },
  {
   "cell_type": "markdown",
   "metadata": {
    "pycharm": {
     "name": "#%% md\n"
    }
   },
   "source": [
    "Предположив, что данные в указанных столбцах распределены нормально, можно использовать критерий Шовене для выявления выбросов.\n",
    "Согласно критерию Шовене, значение $p_i$ является выбросом при выполнении неравенства\n",
    "\n",
    "$erfc(\\frac{|p_i - \\overline{p}|}{S_p}) < \\frac{1}{2n}$\n",
    "\n",
    "Создадим функцию для проверки значения на выброс с использованием функций math.erfc, при этом расчеты среднего по столбцу и стандартного отклонения вынесем из функции, чтобы вычислять их не для каждого значения, а один раз для всего столбца."
   ]
  },
  {
   "cell_type": "code",
   "execution_count": 45,
   "metadata": {
    "pycharm": {
     "name": "#%%\n"
    }
   },
   "outputs": [],
   "source": [
    "def chauvenet_filter(value, col_mean, col_stdev, to_cmp):\n",
    "    return math.erfc(abs(value - col_mean) / col_stdev) < to_cmp"
   ]
  },
  {
   "cell_type": "markdown",
   "metadata": {
    "pycharm": {
     "name": "#%% md\n"
    }
   },
   "source": [
    "Оценим количество строк к удалению при использовании критерия Шовене"
   ]
  },
  {
   "cell_type": "code",
   "execution_count": 46,
   "metadata": {
    "pycharm": {
     "name": "#%%\n"
    }
   },
   "outputs": [
    {
     "name": "stdout",
     "output_type": "stream",
     "text": [
      "age к удалению 0 строк(и):\n",
      "weight к удалению 115 строк(и):\n",
      "height к удалению 33 строк(и):\n",
      "s_press к удалению 103 строк(и):\n",
      "d_press к удалению 21 строк(и):\n",
      "clinic_cnt к удалению 164 строк(и):\n",
      "ambulance_cnt к удалению 177 строк(и):\n",
      "hosp_cnt к удалению 203 строк(и):\n"
     ]
    }
   ],
   "source": [
    "for column in num_columns:\n",
    "    col_mean = df[column].mean()\n",
    "    col_stdev = stdev(df[column])\n",
    "    to_cmp = 1 / (2 * len(df[column].index))\n",
    "    outliers = df[(df[column].apply(lambda value: chauvenet_filter(value, col_mean, col_stdev, to_cmp)))]\n",
    "    print(f'{column} к удалению {len(outliers.index)} строк(и):')"
   ]
  },
  {
   "cell_type": "markdown",
   "metadata": {
    "pycharm": {
     "name": "#%% md\n"
    }
   },
   "source": [
    "Просмотрим визуально распределение данных, подлежащих удалению"
   ]
  },
  {
   "cell_type": "code",
   "execution_count": 47,
   "metadata": {
    "pycharm": {
     "name": "#%%\n"
    }
   },
   "outputs": [
    {
     "data": {
      "text/plain": "<Figure size 100x100 with 1 Axes>",
      "image/png": "[encoded data removed]"
     },
     "metadata": {},
     "output_type": "display_data"
    },
    {
     "data": {
      "text/plain": "<Figure size 100x100 with 1 Axes>",
      "image/png": "[encoded data removed]"
     },
     "metadata": {},
     "output_type": "display_data"
    },
    {
     "data": {
      "text/plain": "<Figure size 100x100 with 1 Axes>",
      "image/png": "[encoded data removed]"
     },
     "metadata": {},
     "output_type": "display_data"
    },
    {
     "data": {
      "text/plain": "<Figure size 100x100 with 1 Axes>",
      "image/png": "[encoded data removed]"
     },
     "metadata": {},
     "output_type": "display_data"
    },
    {
     "data": {
      "text/plain": "<Figure size 100x100 with 1 Axes>",
      "image/png": "[encoded data removed]"
     },
     "metadata": {},
     "output_type": "display_data"
    },
    {
     "data": {
      "text/plain": "<Figure size 100x100 with 1 Axes>",
      "image/png": "[encoded data removed]"
     },
     "metadata": {},
     "output_type": "display_data"
    },
    {
     "data": {
      "text/plain": "<Figure size 100x100 with 1 Axes>",
      "image/png": "[encoded data removed]"
     },
     "metadata": {},
     "output_type": "display_data"
    },
    {
     "data": {
      "text/plain": "<Figure size 100x100 with 1 Axes>",
      "image/png": "[encoded data removed]"
     },
     "metadata": {},
     "output_type": "display_data"
    }
   ],
   "source": [
    "for column in num_columns:\n",
    "    col_mean = df[column].mean()\n",
    "    col_stdev = stdev(df[column])\n",
    "    to_cmp = 1 / (2 * len(df[column].index))\n",
    "    outliers = df[(df[column].apply(lambda value: chauvenet_filter(value, col_mean, col_stdev, to_cmp)))]\n",
    "    outliers.hist(column=column, figsize=(1, 1))"
   ]
  },
  {
   "cell_type": "markdown",
   "metadata": {
    "pycharm": {
     "name": "#%% md\n"
    }
   },
   "source": [
    "Удалим выбросы с использованием критерия Шовене"
   ]
  },
  {
   "cell_type": "code",
   "execution_count": 48,
   "metadata": {
    "pycharm": {
     "name": "#%%\n"
    }
   },
   "outputs": [
    {
     "name": "stdout",
     "output_type": "stream",
     "text": [
      "В датафрейме после удаления выбросов 8406 строк\n"
     ]
    }
   ],
   "source": [
    "for column in num_columns:\n",
    "    col_mean = mean(df[column])\n",
    "    col_stdev = stdev(df[column])\n",
    "    to_cmp = 1 / (2 * len(df[column].index))\n",
    "    outliers = df[(df[column].apply(lambda value: chauvenet_filter(value, col_mean, col_stdev, to_cmp)))]\n",
    "    df.drop(labels=outliers.index, axis=0, inplace=True)\n",
    "print(f'В датафрейме после удаления выбросов {len(df.index)} строк')"
   ]
  },
  {
   "cell_type": "markdown",
   "metadata": {
    "pycharm": {
     "name": "#%% md\n"
    }
   },
   "source": [
    "### Нормализация числовых колонок и замена номинальных признаков\n",
    "Выполним нормализацию значений числовых столбцов методом стандартизации (приведение к 𝑋̅ = 0, 𝑆 = 1). Перед нормализацией сохраним данные исходного датасета."
   ]
  },
  {
   "cell_type": "code",
   "execution_count": 49,
   "metadata": {
    "pycharm": {
     "name": "#%%\n"
    }
   },
   "outputs": [],
   "source": [
    "df_source = df.copy()"
   ]
  },
  {
   "cell_type": "code",
   "execution_count": 50,
   "metadata": {
    "pycharm": {
     "name": "#%%\n"
    }
   },
   "outputs": [],
   "source": [
    "scaler = StandardScaler()\n",
    "num_columns = ['age', 'weight', 'height', 's_press', 'd_press']\n",
    "for column in num_columns:\n",
    "    df[column] = scaler.fit_transform(df[[column]])"
   ]
  },
  {
   "cell_type": "markdown",
   "metadata": {
    "pycharm": {
     "name": "#%% md\n"
    }
   },
   "source": [
    "Заменим номинальные признаки sex и area на числовые"
   ]
  },
  {
   "cell_type": "code",
   "execution_count": 51,
   "metadata": {
    "pycharm": {
     "name": "#%%\n"
    }
   },
   "outputs": [],
   "source": [
    "encoder = LabelEncoder()\n",
    "encoder.fit(df['sex'])\n",
    "df['sex'] = encoder.transform(df['sex'])\n",
    "encoder.fit(df['area'])\n",
    "df['area'] = encoder.transform(df['area'])"
   ]
  },
  {
   "cell_type": "markdown",
   "metadata": {
    "pycharm": {
     "name": "#%% md\n"
    }
   },
   "source": [
    "Приведем столбцы alco, irrat_food, smoke к целочисленному типу"
   ]
  },
  {
   "cell_type": "code",
   "execution_count": 52,
   "metadata": {
    "pycharm": {
     "name": "#%%\n"
    }
   },
   "outputs": [],
   "source": [
    "for column in ['alco', 'irrat_food', 'smoke']:\n",
    "    df = df.astype({column: np.int64})"
   ]
  },
  {
   "cell_type": "markdown",
   "metadata": {
    "pycharm": {
     "name": "#%% md\n"
    }
   },
   "source": [
    "## 1. Регрессия\n",
    "В качестве целевого признака Y выберем clinic_cnt - количество услуг в поликлинике в течении года.\n",
    "В качестве факторных признаков выберем:\n",
    "- возраст,\n",
    "- вес,\n",
    "- рост,\n",
    "- систолическое давление,\n",
    "- диастолическое давление,\n",
    "- пол,\n",
    "- территория проживания,\n",
    "- злоупотребление алкоголем (опрос),\n",
    "- иррациональное питание (опрос),\n",
    "- курение (опрос)."
   ]
  },
  {
   "cell_type": "markdown",
   "metadata": {
    "pycharm": {
     "name": "#%% md\n"
    }
   },
   "source": [
    "Проверим корреляцию между признаками"
   ]
  },
  {
   "cell_type": "code",
   "execution_count": 53,
   "metadata": {
    "scrolled": false,
    "pycharm": {
     "name": "#%%\n"
    }
   },
   "outputs": [
    {
     "data": {
      "text/plain": "<pandas.io.formats.style.Styler at 0x7f412a4ad490>",
      "text/html": "<style type=\"text/css\">\n#T_ad537_row0_col0, #T_ad537_row1_col1, #T_ad537_row2_col2, #T_ad537_row3_col3, #T_ad537_row4_col4, #T_ad537_row5_col5, #T_ad537_row6_col6, #T_ad537_row7_col7, #T_ad537_row8_col8, #T_ad537_row9_col9, #T_ad537_row10_col10, #T_ad537_row11_col11, #T_ad537_row12_col12, #T_ad537_row13_col13 {\n  background-color: #b40426;\n  color: #f1f1f1;\n}\n#T_ad537_row0_col1, #T_ad537_row9_col8 {\n  background-color: #4961d2;\n  color: #f1f1f1;\n}\n#T_ad537_row0_col2, #T_ad537_row0_col7, #T_ad537_row0_col9, #T_ad537_row2_col0, #T_ad537_row2_col3, #T_ad537_row2_col4, #T_ad537_row2_col13, #T_ad537_row5_col10, #T_ad537_row6_col8, #T_ad537_row6_col11, #T_ad537_row7_col12, #T_ad537_row9_col12, #T_ad537_row10_col5, #T_ad537_row10_col8, #T_ad537_row11_col1, #T_ad537_row11_col6 {\n  background-color: #3b4cc0;\n  color: #f1f1f1;\n}\n#T_ad537_row0_col3 {\n  background-color: #d8dce2;\n  color: #000000;\n}\n#T_ad537_row0_col4, #T_ad537_row7_col2 {\n  background-color: #9dbdff;\n  color: #000000;\n}\n#T_ad537_row0_col5, #T_ad537_row10_col7, #T_ad537_row12_col9 {\n  background-color: #516ddb;\n  color: #f1f1f1;\n}\n#T_ad537_row0_col6, #T_ad537_row4_col7, #T_ad537_row10_col2, #T_ad537_row13_col6 {\n  background-color: #5b7ae5;\n  color: #f1f1f1;\n}\n#T_ad537_row0_col8, #T_ad537_row10_col1 {\n  background-color: #3d50c3;\n  color: #f1f1f1;\n}\n#T_ad537_row0_col10, #T_ad537_row1_col13, #T_ad537_row2_col9 {\n  background-color: #96b7ff;\n  color: #000000;\n}\n#T_ad537_row0_col11, #T_ad537_row1_col0 {\n  background-color: #94b6ff;\n  color: #000000;\n}\n#T_ad537_row0_col12 {\n  background-color: #a2c1ff;\n  color: #000000;\n}\n#T_ad537_row0_col13 {\n  background-color: #f1cdba;\n  color: #000000;\n}\n#T_ad537_row1_col2 {\n  background-color: #e0dbd8;\n  color: #000000;\n}\n#T_ad537_row1_col3 {\n  background-color: #9abbff;\n  color: #000000;\n}\n#T_ad537_row1_col4, #T_ad537_row3_col1, #T_ad537_row5_col1 {\n  background-color: #80a3fa;\n  color: #f1f1f1;\n}\n#T_ad537_row1_col5 {\n  background-color: #afcafc;\n  color: #000000;\n}\n#T_ad537_row1_col6, #T_ad537_row12_col4 {\n  background-color: #6384eb;\n  color: #f1f1f1;\n}\n#T_ad537_row1_col7 {\n  background-color: #5f7fe8;\n  color: #f1f1f1;\n}\n#T_ad537_row1_col8, #T_ad537_row3_col7, #T_ad537_row3_col8, #T_ad537_row9_col11, #T_ad537_row11_col9, #T_ad537_row12_col1 {\n  background-color: #5470de;\n  color: #f1f1f1;\n}\n#T_ad537_row1_col9, #T_ad537_row1_col11, #T_ad537_row6_col3, #T_ad537_row7_col6, #T_ad537_row10_col6 {\n  background-color: #5e7de7;\n  color: #f1f1f1;\n}\n#T_ad537_row1_col10, #T_ad537_row8_col10, #T_ad537_row8_col13 {\n  background-color: #7597f6;\n  color: #f1f1f1;\n}\n#T_ad537_row1_col12 {\n  background-color: #6282ea;\n  color: #f1f1f1;\n}\n#T_ad537_row2_col1, #T_ad537_row11_col10, #T_ad537_row13_col10 {\n  background-color: #b5cdfa;\n  color: #000000;\n}\n#T_ad537_row2_col5 {\n  background-color: #f7aa8c;\n  color: #000000;\n}\n#T_ad537_row2_col6, #T_ad537_row8_col12 {\n  background-color: #4e68d8;\n  color: #f1f1f1;\n}\n#T_ad537_row2_col7, #T_ad537_row4_col1 {\n  background-color: #7699f6;\n  color: #f1f1f1;\n}\n#T_ad537_row2_col8, #T_ad537_row2_col12, #T_ad537_row6_col1, #T_ad537_row9_col4, #T_ad537_row11_col8, #T_ad537_row13_col9 {\n  background-color: #3f53c6;\n  color: #f1f1f1;\n}\n#T_ad537_row2_col10, #T_ad537_row13_col8 {\n  background-color: #455cce;\n  color: #f1f1f1;\n}\n#T_ad537_row2_col11, #T_ad537_row4_col9, #T_ad537_row8_col4 {\n  background-color: #5875e1;\n  color: #f1f1f1;\n}\n#T_ad537_row3_col0 {\n  background-color: #ebd3c6;\n  color: #000000;\n}\n#T_ad537_row3_col2 {\n  background-color: #6a8bef;\n  color: #f1f1f1;\n}\n#T_ad537_row3_col4 {\n  background-color: #f3c8b2;\n  color: #000000;\n}\n#T_ad537_row3_col5, #T_ad537_row4_col11, #T_ad537_row8_col3 {\n  background-color: #7396f5;\n  color: #f1f1f1;\n}\n#T_ad537_row3_col6, #T_ad537_row4_col6, #T_ad537_row9_col0 {\n  background-color: #6485ec;\n  color: #f1f1f1;\n}\n#T_ad537_row3_col9, #T_ad537_row5_col12, #T_ad537_row10_col4 {\n  background-color: #506bda;\n  color: #f1f1f1;\n}\n#T_ad537_row3_col10 {\n  background-color: #86a9fc;\n  color: #f1f1f1;\n}\n#T_ad537_row3_col11, #T_ad537_row6_col5, #T_ad537_row11_col2 {\n  background-color: #81a4fb;\n  color: #f1f1f1;\n}\n#T_ad537_row3_col12, #T_ad537_row4_col5, #T_ad537_row12_col5 {\n  background-color: #7a9df8;\n  color: #f1f1f1;\n}\n#T_ad537_row3_col13 {\n  background-color: #dddcdc;\n  color: #000000;\n}\n#T_ad537_row4_col0 {\n  background-color: #ccd9ed;\n  color: #000000;\n}\n#T_ad537_row4_col2, #T_ad537_row9_col6 {\n  background-color: #7da0f9;\n  color: #f1f1f1;\n}\n#T_ad537_row4_col3 {\n  background-color: #f5c1a9;\n  color: #000000;\n}\n#T_ad537_row4_col8, #T_ad537_row9_col3, #T_ad537_row9_col13 {\n  background-color: #4a63d3;\n  color: #f1f1f1;\n}\n#T_ad537_row4_col10, #T_ad537_row12_col2 {\n  background-color: #7ea1fa;\n  color: #f1f1f1;\n}\n#T_ad537_row4_col12, #T_ad537_row5_col0 {\n  background-color: #6788ee;\n  color: #f1f1f1;\n}\n#T_ad537_row4_col13, #T_ad537_row9_col2 {\n  background-color: #b7cff9;\n  color: #000000;\n}\n#T_ad537_row5_col2 {\n  background-color: #f6a283;\n  color: #000000;\n}\n#T_ad537_row5_col3 {\n  background-color: #5977e3;\n  color: #f1f1f1;\n}\n#T_ad537_row5_col4 {\n  background-color: #4c66d6;\n  color: #f1f1f1;\n}\n#T_ad537_row5_col6, #T_ad537_row10_col3 {\n  background-color: #6c8ff1;\n  color: #f1f1f1;\n}\n#T_ad537_row5_col7, #T_ad537_row8_col7 {\n  background-color: #7093f3;\n  color: #f1f1f1;\n}\n#T_ad537_row5_col8, #T_ad537_row7_col1, #T_ad537_row12_col8 {\n  background-color: #3e51c5;\n  color: #f1f1f1;\n}\n#T_ad537_row5_col9, #T_ad537_row13_col12 {\n  background-color: #aac7fd;\n  color: #000000;\n}\n#T_ad537_row5_col11, #T_ad537_row11_col4, #T_ad537_row12_col6, #T_ad537_row13_col2 {\n  background-color: #5a78e4;\n  color: #f1f1f1;\n}\n#T_ad537_row5_col13, #T_ad537_row7_col13, #T_ad537_row11_col7 {\n  background-color: #536edd;\n  color: #f1f1f1;\n}\n#T_ad537_row6_col0 {\n  background-color: #84a7fc;\n  color: #f1f1f1;\n}\n#T_ad537_row6_col2, #T_ad537_row8_col5 {\n  background-color: #779af7;\n  color: #f1f1f1;\n}\n#T_ad537_row6_col4, #T_ad537_row7_col8 {\n  background-color: #4b64d5;\n  color: #f1f1f1;\n}\n#T_ad537_row6_col7, #T_ad537_row13_col5 {\n  background-color: #5d7ce6;\n  color: #f1f1f1;\n}\n#T_ad537_row6_col9, #T_ad537_row11_col3 {\n  background-color: #7b9ff9;\n  color: #f1f1f1;\n}\n#T_ad537_row6_col10 {\n  background-color: #7295f4;\n  color: #f1f1f1;\n}\n#T_ad537_row6_col12, #T_ad537_row7_col4 {\n  background-color: #4358cb;\n  color: #f1f1f1;\n}\n#T_ad537_row6_col13, #T_ad537_row7_col0, #T_ad537_row7_col10, #T_ad537_row8_col11 {\n  background-color: #6687ed;\n  color: #f1f1f1;\n}\n#T_ad537_row7_col3, #T_ad537_row12_col7 {\n  background-color: #4f69d9;\n  color: #f1f1f1;\n}\n#T_ad537_row7_col5 {\n  background-color: #85a8fc;\n  color: #f1f1f1;\n}\n#T_ad537_row7_col9 {\n  background-color: #92b4fe;\n  color: #000000;\n}\n#T_ad537_row7_col11, #T_ad537_row9_col10 {\n  background-color: #5572df;\n  color: #f1f1f1;\n}\n#T_ad537_row8_col0 {\n  background-color: #8badfd;\n  color: #000000;\n}\n#T_ad537_row8_col1 {\n  background-color: #5673e0;\n  color: #f1f1f1;\n}\n#T_ad537_row8_col2 {\n  background-color: #8db0fe;\n  color: #000000;\n}\n#T_ad537_row8_col6 {\n  background-color: #6180e9;\n  color: #f1f1f1;\n}\n#T_ad537_row8_col9, #T_ad537_row11_col5 {\n  background-color: #6e90f2;\n  color: #f1f1f1;\n}\n#T_ad537_row9_col1 {\n  background-color: #3c4ec2;\n  color: #f1f1f1;\n}\n#T_ad537_row9_col5, #T_ad537_row10_col12 {\n  background-color: #bad0f8;\n  color: #000000;\n}\n#T_ad537_row9_col7 {\n  background-color: #90b2fe;\n  color: #000000;\n}\n#T_ad537_row10_col0 {\n  background-color: #a7c5fe;\n  color: #000000;\n}\n#T_ad537_row10_col9 {\n  background-color: #4055c8;\n  color: #f1f1f1;\n}\n#T_ad537_row10_col11 {\n  background-color: #a6c4fe;\n  color: #000000;\n}\n#T_ad537_row10_col13 {\n  background-color: #aec9fc;\n  color: #000000;\n}\n#T_ad537_row11_col0 {\n  background-color: #b6cefa;\n  color: #000000;\n}\n#T_ad537_row11_col12 {\n  background-color: #b2ccfb;\n  color: #000000;\n}\n#T_ad537_row11_col13 {\n  background-color: #abc8fd;\n  color: #000000;\n}\n#T_ad537_row12_col0 {\n  background-color: #cedaeb;\n  color: #000000;\n}\n#T_ad537_row12_col3 {\n  background-color: #89acfd;\n  color: #000000;\n}\n#T_ad537_row12_col10 {\n  background-color: #d3dbe7;\n  color: #000000;\n}\n#T_ad537_row12_col11, #T_ad537_row12_col13 {\n  background-color: #c1d4f4;\n  color: #000000;\n}\n#T_ad537_row13_col0 {\n  background-color: #f5c2aa;\n  color: #000000;\n}\n#T_ad537_row13_col1 {\n  background-color: #6b8df0;\n  color: #f1f1f1;\n}\n#T_ad537_row13_col3 {\n  background-color: #d6dce4;\n  color: #000000;\n}\n#T_ad537_row13_col4 {\n  background-color: #9bbcff;\n  color: #000000;\n}\n#T_ad537_row13_col7 {\n  background-color: #485fd1;\n  color: #f1f1f1;\n}\n#T_ad537_row13_col11 {\n  background-color: #a3c2fe;\n  color: #000000;\n}\n</style>\n<table id=\"T_ad537\">\n  <thead>\n    <tr>\n      <th class=\"blank level0\" >&nbsp;</th>\n      <th id=\"T_ad537_level0_col0\" class=\"col_heading level0 col0\" >age</th>\n      <th id=\"T_ad537_level0_col1\" class=\"col_heading level0 col1\" >weight</th>\n      <th id=\"T_ad537_level0_col2\" class=\"col_heading level0 col2\" >height</th>\n      <th id=\"T_ad537_level0_col3\" class=\"col_heading level0 col3\" >s_press</th>\n      <th id=\"T_ad537_level0_col4\" class=\"col_heading level0 col4\" >d_press</th>\n      <th id=\"T_ad537_level0_col5\" class=\"col_heading level0 col5\" >sex</th>\n      <th id=\"T_ad537_level0_col6\" class=\"col_heading level0 col6\" >area</th>\n      <th id=\"T_ad537_level0_col7\" class=\"col_heading level0 col7\" >alco</th>\n      <th id=\"T_ad537_level0_col8\" class=\"col_heading level0 col8\" >irrat_food</th>\n      <th id=\"T_ad537_level0_col9\" class=\"col_heading level0 col9\" >smoke</th>\n      <th id=\"T_ad537_level0_col10\" class=\"col_heading level0 col10\" >clinic_cnt</th>\n      <th id=\"T_ad537_level0_col11\" class=\"col_heading level0 col11\" >ambulance_cnt</th>\n      <th id=\"T_ad537_level0_col12\" class=\"col_heading level0 col12\" >hosp_cnt</th>\n      <th id=\"T_ad537_level0_col13\" class=\"col_heading level0 col13\" >has_bsk</th>\n    </tr>\n  </thead>\n  <tbody>\n    <tr>\n      <th id=\"T_ad537_level0_row0\" class=\"row_heading level0 row0\" >age</th>\n      <td id=\"T_ad537_row0_col0\" class=\"data row0 col0\" >1.000000</td>\n      <td id=\"T_ad537_row0_col1\" class=\"data row0 col1\" >0.041814</td>\n      <td id=\"T_ad537_row0_col2\" class=\"data row0 col2\" >-0.313588</td>\n      <td id=\"T_ad537_row0_col3\" class=\"data row0 col3\" >0.421567</td>\n      <td id=\"T_ad537_row0_col4\" class=\"data row0 col4\" >0.262416</td>\n      <td id=\"T_ad537_row0_col5\" class=\"data row0 col5\" >-0.128440</td>\n      <td id=\"T_ad537_row0_col6\" class=\"data row0 col6\" >-0.016995</td>\n      <td id=\"T_ad537_row0_col7\" class=\"data row0 col7\" >-0.133295</td>\n      <td id=\"T_ad537_row0_col8\" class=\"data row0 col8\" >0.009628</td>\n      <td id=\"T_ad537_row0_col9\" class=\"data row0 col9\" >-0.136384</td>\n      <td id=\"T_ad537_row0_col10\" class=\"data row0 col10\" >0.114745</td>\n      <td id=\"T_ad537_row0_col11\" class=\"data row0 col11\" >0.171003</td>\n      <td id=\"T_ad537_row0_col12\" class=\"data row0 col12\" >0.273306</td>\n      <td id=\"T_ad537_row0_col13\" class=\"data row0 col13\" >0.516637</td>\n    </tr>\n    <tr>\n      <th id=\"T_ad537_level0_row1\" class=\"row_heading level0 row1\" >weight</th>\n      <td id=\"T_ad537_row1_col0\" class=\"data row1 col0\" >0.041814</td>\n      <td id=\"T_ad537_row1_col1\" class=\"data row1 col1\" >1.000000</td>\n      <td id=\"T_ad537_row1_col2\" class=\"data row1 col2\" >0.358789</td>\n      <td id=\"T_ad537_row1_col3\" class=\"data row1 col3\" >0.205664</td>\n      <td id=\"T_ad537_row1_col4\" class=\"data row1 col4\" >0.179760</td>\n      <td id=\"T_ad537_row1_col5\" class=\"data row1 col5\" >0.205389</td>\n      <td id=\"T_ad537_row1_col6\" class=\"data row1 col6\" >0.007710</td>\n      <td id=\"T_ad537_row1_col7\" class=\"data row1 col7\" >0.003798</td>\n      <td id=\"T_ad537_row1_col8\" class=\"data row1 col8\" >0.084434</td>\n      <td id=\"T_ad537_row1_col9\" class=\"data row1 col9\" >-0.003342</td>\n      <td id=\"T_ad537_row1_col10\" class=\"data row1 col10\" >-0.000322</td>\n      <td id=\"T_ad537_row1_col11\" class=\"data row1 col11\" >-0.008408</td>\n      <td id=\"T_ad537_row1_col12\" class=\"data row1 col12\" >0.076905</td>\n      <td id=\"T_ad537_row1_col13\" class=\"data row1 col13\" >0.147845</td>\n    </tr>\n    <tr>\n      <th id=\"T_ad537_level0_row2\" class=\"row_heading level0 row2\" >height</th>\n      <td id=\"T_ad537_row2_col0\" class=\"data row2 col0\" >-0.313588</td>\n      <td id=\"T_ad537_row2_col1\" class=\"data row2 col1\" >0.358789</td>\n      <td id=\"T_ad537_row2_col2\" class=\"data row2 col2\" >1.000000</td>\n      <td id=\"T_ad537_row2_col3\" class=\"data row2 col3\" >-0.114598</td>\n      <td id=\"T_ad537_row2_col4\" class=\"data row2 col4\" >-0.043478</td>\n      <td id=\"T_ad537_row2_col5\" class=\"data row2 col5\" >0.641668</td>\n      <td id=\"T_ad537_row2_col6\" class=\"data row2 col6\" >-0.065687</td>\n      <td id=\"T_ad537_row2_col7\" class=\"data row2 col7\" >0.075620</td>\n      <td id=\"T_ad537_row2_col8\" class=\"data row2 col8\" >0.019734</td>\n      <td id=\"T_ad537_row2_col9\" class=\"data row2 col9\" >0.174846</td>\n      <td id=\"T_ad537_row2_col10\" class=\"data row2 col10\" >-0.173365</td>\n      <td id=\"T_ad537_row2_col11\" class=\"data row2 col11\" >-0.030380</td>\n      <td id=\"T_ad537_row2_col12\" class=\"data row2 col12\" >-0.037058</td>\n      <td id=\"T_ad537_row2_col13\" class=\"data row2 col13\" >-0.178996</td>\n    </tr>\n    <tr>\n      <th id=\"T_ad537_level0_row3\" class=\"row_heading level0 row3\" >s_press</th>\n      <td id=\"T_ad537_row3_col0\" class=\"data row3 col0\" >0.421567</td>\n      <td id=\"T_ad537_row3_col1\" class=\"data row3 col1\" >0.205664</td>\n      <td id=\"T_ad537_row3_col2\" class=\"data row3 col2\" >-0.114598</td>\n      <td id=\"T_ad537_row3_col3\" class=\"data row3 col3\" >1.000000</td>\n      <td id=\"T_ad537_row3_col4\" class=\"data row3 col4\" >0.594557</td>\n      <td id=\"T_ad537_row3_col5\" class=\"data row3 col5\" >-0.004600</td>\n      <td id=\"T_ad537_row3_col6\" class=\"data row3 col6\" >0.012628</td>\n      <td id=\"T_ad537_row3_col7\" class=\"data row3 col7\" >-0.039464</td>\n      <td id=\"T_ad537_row3_col8\" class=\"data row3 col8\" >0.083614</td>\n      <td id=\"T_ad537_row3_col9\" class=\"data row3 col9\" >-0.055797</td>\n      <td id=\"T_ad537_row3_col10\" class=\"data row3 col10\" >0.063198</td>\n      <td id=\"T_ad537_row3_col11\" class=\"data row3 col11\" >0.108946</td>\n      <td id=\"T_ad537_row3_col12\" class=\"data row3 col12\" >0.152848</td>\n      <td id=\"T_ad537_row3_col13\" class=\"data row3 col13\" >0.413705</td>\n    </tr>\n    <tr>\n      <th id=\"T_ad537_level0_row4\" class=\"row_heading level0 row4\" >d_press</th>\n      <td id=\"T_ad537_row4_col0\" class=\"data row4 col0\" >0.262416</td>\n      <td id=\"T_ad537_row4_col1\" class=\"data row4 col1\" >0.179760</td>\n      <td id=\"T_ad537_row4_col2\" class=\"data row4 col2\" >-0.043478</td>\n      <td id=\"T_ad537_row4_col3\" class=\"data row4 col3\" >0.594557</td>\n      <td id=\"T_ad537_row4_col4\" class=\"data row4 col4\" >1.000000</td>\n      <td id=\"T_ad537_row4_col5\" class=\"data row4 col5\" >0.020266</td>\n      <td id=\"T_ad537_row4_col6\" class=\"data row4 col6\" >0.015177</td>\n      <td id=\"T_ad537_row4_col7\" class=\"data row4 col7\" >-0.011894</td>\n      <td id=\"T_ad537_row4_col8\" class=\"data row4 col8\" >0.054635</td>\n      <td id=\"T_ad537_row4_col9\" class=\"data row4 col9\" >-0.026253</td>\n      <td id=\"T_ad537_row4_col10\" class=\"data row4 col10\" >0.032863</td>\n      <td id=\"T_ad537_row4_col11\" class=\"data row4 col11\" >0.063546</td>\n      <td id=\"T_ad537_row4_col12\" class=\"data row4 col12\" >0.094208</td>\n      <td id=\"T_ad537_row4_col13\" class=\"data row4 col13\" >0.261291</td>\n    </tr>\n    <tr>\n      <th id=\"T_ad537_level0_row5\" class=\"row_heading level0 row5\" >sex</th>\n      <td id=\"T_ad537_row5_col0\" class=\"data row5 col0\" >-0.128440</td>\n      <td id=\"T_ad537_row5_col1\" class=\"data row5 col1\" >0.205389</td>\n      <td id=\"T_ad537_row5_col2\" class=\"data row5 col2\" >0.641668</td>\n      <td id=\"T_ad537_row5_col3\" class=\"data row5 col3\" >-0.004600</td>\n      <td id=\"T_ad537_row5_col4\" class=\"data row5 col4\" >0.020266</td>\n      <td id=\"T_ad537_row5_col5\" class=\"data row5 col5\" >1.000000</td>\n      <td id=\"T_ad537_row5_col6\" class=\"data row5 col6\" >0.042513</td>\n      <td id=\"T_ad537_row5_col7\" class=\"data row5 col7\" >0.059245</td>\n      <td id=\"T_ad537_row5_col8\" class=\"data row5 col8\" >0.013227</td>\n      <td id=\"T_ad537_row5_col9\" class=\"data row5 col9\" >0.244694</td>\n      <td id=\"T_ad537_row5_col10\" class=\"data row5 col10\" >-0.220326</td>\n      <td id=\"T_ad537_row5_col11\" class=\"data row5 col11\" >-0.023130</td>\n      <td id=\"T_ad537_row5_col12\" class=\"data row5 col12\" >0.021357</td>\n      <td id=\"T_ad537_row5_col13\" class=\"data row5 col13\" >-0.083266</td>\n    </tr>\n    <tr>\n      <th id=\"T_ad537_level0_row6\" class=\"row_heading level0 row6\" >area</th>\n      <td id=\"T_ad537_row6_col0\" class=\"data row6 col0\" >-0.016995</td>\n      <td id=\"T_ad537_row6_col1\" class=\"data row6 col1\" >0.007710</td>\n      <td id=\"T_ad537_row6_col2\" class=\"data row6 col2\" >-0.065687</td>\n      <td id=\"T_ad537_row6_col3\" class=\"data row6 col3\" >0.012628</td>\n      <td id=\"T_ad537_row6_col4\" class=\"data row6 col4\" >0.015177</td>\n      <td id=\"T_ad537_row6_col5\" class=\"data row6 col5\" >0.042513</td>\n      <td id=\"T_ad537_row6_col6\" class=\"data row6 col6\" >1.000000</td>\n      <td id=\"T_ad537_row6_col7\" class=\"data row6 col7\" >-0.008672</td>\n      <td id=\"T_ad537_row6_col8\" class=\"data row6 col8\" >0.001845</td>\n      <td id=\"T_ad537_row6_col9\" class=\"data row6 col9\" >0.092968</td>\n      <td id=\"T_ad537_row6_col10\" class=\"data row6 col10\" >-0.007216</td>\n      <td id=\"T_ad537_row6_col11\" class=\"data row6 col11\" >-0.139856</td>\n      <td id=\"T_ad537_row6_col12\" class=\"data row6 col12\" >-0.023650</td>\n      <td id=\"T_ad537_row6_col13\" class=\"data row6 col13\" >-0.015811</td>\n    </tr>\n    <tr>\n      <th id=\"T_ad537_level0_row7\" class=\"row_heading level0 row7\" >alco</th>\n      <td id=\"T_ad537_row7_col0\" class=\"data row7 col0\" >-0.133295</td>\n      <td id=\"T_ad537_row7_col1\" class=\"data row7 col1\" >0.003798</td>\n      <td id=\"T_ad537_row7_col2\" class=\"data row7 col2\" >0.075620</td>\n      <td id=\"T_ad537_row7_col3\" class=\"data row7 col3\" >-0.039464</td>\n      <td id=\"T_ad537_row7_col4\" class=\"data row7 col4\" >-0.011894</td>\n      <td id=\"T_ad537_row7_col5\" class=\"data row7 col5\" >0.059245</td>\n      <td id=\"T_ad537_row7_col6\" class=\"data row7 col6\" >-0.008672</td>\n      <td id=\"T_ad537_row7_col7\" class=\"data row7 col7\" >1.000000</td>\n      <td id=\"T_ad537_row7_col8\" class=\"data row7 col8\" >0.058856</td>\n      <td id=\"T_ad537_row7_col9\" class=\"data row7 col9\" >0.163227</td>\n      <td id=\"T_ad537_row7_col10\" class=\"data row7 col10\" >-0.049011</td>\n      <td id=\"T_ad537_row7_col11\" class=\"data row7 col11\" >-0.041825</td>\n      <td id=\"T_ad537_row7_col12\" class=\"data row7 col12\" >-0.055626</td>\n      <td id=\"T_ad537_row7_col13\" class=\"data row7 col13\" >-0.084504</td>\n    </tr>\n    <tr>\n      <th id=\"T_ad537_level0_row8\" class=\"row_heading level0 row8\" >irrat_food</th>\n      <td id=\"T_ad537_row8_col0\" class=\"data row8 col0\" >0.009628</td>\n      <td id=\"T_ad537_row8_col1\" class=\"data row8 col1\" >0.084434</td>\n      <td id=\"T_ad537_row8_col2\" class=\"data row8 col2\" >0.019734</td>\n      <td id=\"T_ad537_row8_col3\" class=\"data row8 col3\" >0.083614</td>\n      <td id=\"T_ad537_row8_col4\" class=\"data row8 col4\" >0.054635</td>\n      <td id=\"T_ad537_row8_col5\" class=\"data row8 col5\" >0.013227</td>\n      <td id=\"T_ad537_row8_col6\" class=\"data row8 col6\" >0.001845</td>\n      <td id=\"T_ad537_row8_col7\" class=\"data row8 col7\" >0.058856</td>\n      <td id=\"T_ad537_row8_col8\" class=\"data row8 col8\" >1.000000</td>\n      <td id=\"T_ad537_row8_col9\" class=\"data row8 col9\" >0.049747</td>\n      <td id=\"T_ad537_row8_col10\" class=\"data row8 col10\" >0.000380</td>\n      <td id=\"T_ad537_row8_col11\" class=\"data row8 col11\" >0.016176</td>\n      <td id=\"T_ad537_row8_col12\" class=\"data row8 col12\" >0.013383</td>\n      <td id=\"T_ad537_row8_col13\" class=\"data row8 col13\" >0.037074</td>\n    </tr>\n    <tr>\n      <th id=\"T_ad537_level0_row9\" class=\"row_heading level0 row9\" >smoke</th>\n      <td id=\"T_ad537_row9_col0\" class=\"data row9 col0\" >-0.136384</td>\n      <td id=\"T_ad537_row9_col1\" class=\"data row9 col1\" >-0.003342</td>\n      <td id=\"T_ad537_row9_col2\" class=\"data row9 col2\" >0.174846</td>\n      <td id=\"T_ad537_row9_col3\" class=\"data row9 col3\" >-0.055797</td>\n      <td id=\"T_ad537_row9_col4\" class=\"data row9 col4\" >-0.026253</td>\n      <td id=\"T_ad537_row9_col5\" class=\"data row9 col5\" >0.244694</td>\n      <td id=\"T_ad537_row9_col6\" class=\"data row9 col6\" >0.092968</td>\n      <td id=\"T_ad537_row9_col7\" class=\"data row9 col7\" >0.163227</td>\n      <td id=\"T_ad537_row9_col8\" class=\"data row9 col8\" >0.049747</td>\n      <td id=\"T_ad537_row9_col9\" class=\"data row9 col9\" >1.000000</td>\n      <td id=\"T_ad537_row9_col10\" class=\"data row9 col10\" >-0.110821</td>\n      <td id=\"T_ad537_row9_col11\" class=\"data row9 col11\" >-0.042530</td>\n      <td id=\"T_ad537_row9_col12\" class=\"data row9 col12\" >-0.051614</td>\n      <td id=\"T_ad537_row9_col13\" class=\"data row9 col13\" >-0.116074</td>\n    </tr>\n    <tr>\n      <th id=\"T_ad537_level0_row10\" class=\"row_heading level0 row10\" >clinic_cnt</th>\n      <td id=\"T_ad537_row10_col0\" class=\"data row10 col0\" >0.114745</td>\n      <td id=\"T_ad537_row10_col1\" class=\"data row10 col1\" >-0.000322</td>\n      <td id=\"T_ad537_row10_col2\" class=\"data row10 col2\" >-0.173365</td>\n      <td id=\"T_ad537_row10_col3\" class=\"data row10 col3\" >0.063198</td>\n      <td id=\"T_ad537_row10_col4\" class=\"data row10 col4\" >0.032863</td>\n      <td id=\"T_ad537_row10_col5\" class=\"data row10 col5\" >-0.220326</td>\n      <td id=\"T_ad537_row10_col6\" class=\"data row10 col6\" >-0.007216</td>\n      <td id=\"T_ad537_row10_col7\" class=\"data row10 col7\" >-0.049011</td>\n      <td id=\"T_ad537_row10_col8\" class=\"data row10 col8\" >0.000380</td>\n      <td id=\"T_ad537_row10_col9\" class=\"data row10 col9\" >-0.110821</td>\n      <td id=\"T_ad537_row10_col10\" class=\"data row10 col10\" >1.000000</td>\n      <td id=\"T_ad537_row10_col11\" class=\"data row10 col11\" >0.227609</td>\n      <td id=\"T_ad537_row10_col12\" class=\"data row10 col12\" >0.344479</td>\n      <td id=\"T_ad537_row10_col13\" class=\"data row10 col13\" >0.226824</td>\n    </tr>\n    <tr>\n      <th id=\"T_ad537_level0_row11\" class=\"row_heading level0 row11\" >ambulance_cnt</th>\n      <td id=\"T_ad537_row11_col0\" class=\"data row11 col0\" >0.171003</td>\n      <td id=\"T_ad537_row11_col1\" class=\"data row11 col1\" >-0.008408</td>\n      <td id=\"T_ad537_row11_col2\" class=\"data row11 col2\" >-0.030380</td>\n      <td id=\"T_ad537_row11_col3\" class=\"data row11 col3\" >0.108946</td>\n      <td id=\"T_ad537_row11_col4\" class=\"data row11 col4\" >0.063546</td>\n      <td id=\"T_ad537_row11_col5\" class=\"data row11 col5\" >-0.023130</td>\n      <td id=\"T_ad537_row11_col6\" class=\"data row11 col6\" >-0.139856</td>\n      <td id=\"T_ad537_row11_col7\" class=\"data row11 col7\" >-0.041825</td>\n      <td id=\"T_ad537_row11_col8\" class=\"data row11 col8\" >0.016176</td>\n      <td id=\"T_ad537_row11_col9\" class=\"data row11 col9\" >-0.042530</td>\n      <td id=\"T_ad537_row11_col10\" class=\"data row11 col10\" >0.227609</td>\n      <td id=\"T_ad537_row11_col11\" class=\"data row11 col11\" >1.000000</td>\n      <td id=\"T_ad537_row11_col12\" class=\"data row11 col12\" >0.321173</td>\n      <td id=\"T_ad537_row11_col13\" class=\"data row11 col13\" >0.217404</td>\n    </tr>\n    <tr>\n      <th id=\"T_ad537_level0_row12\" class=\"row_heading level0 row12\" >hosp_cnt</th>\n      <td id=\"T_ad537_row12_col0\" class=\"data row12 col0\" >0.273306</td>\n      <td id=\"T_ad537_row12_col1\" class=\"data row12 col1\" >0.076905</td>\n      <td id=\"T_ad537_row12_col2\" class=\"data row12 col2\" >-0.037058</td>\n      <td id=\"T_ad537_row12_col3\" class=\"data row12 col3\" >0.152848</td>\n      <td id=\"T_ad537_row12_col4\" class=\"data row12 col4\" >0.094208</td>\n      <td id=\"T_ad537_row12_col5\" class=\"data row12 col5\" >0.021357</td>\n      <td id=\"T_ad537_row12_col6\" class=\"data row12 col6\" >-0.023650</td>\n      <td id=\"T_ad537_row12_col7\" class=\"data row12 col7\" >-0.055626</td>\n      <td id=\"T_ad537_row12_col8\" class=\"data row12 col8\" >0.013383</td>\n      <td id=\"T_ad537_row12_col9\" class=\"data row12 col9\" >-0.051614</td>\n      <td id=\"T_ad537_row12_col10\" class=\"data row12 col10\" >0.344479</td>\n      <td id=\"T_ad537_row12_col11\" class=\"data row12 col11\" >0.321173</td>\n      <td id=\"T_ad537_row12_col12\" class=\"data row12 col12\" >1.000000</td>\n      <td id=\"T_ad537_row12_col13\" class=\"data row12 col13\" >0.298509</td>\n    </tr>\n    <tr>\n      <th id=\"T_ad537_level0_row13\" class=\"row_heading level0 row13\" >has_bsk</th>\n      <td id=\"T_ad537_row13_col0\" class=\"data row13 col0\" >0.516637</td>\n      <td id=\"T_ad537_row13_col1\" class=\"data row13 col1\" >0.147845</td>\n      <td id=\"T_ad537_row13_col2\" class=\"data row13 col2\" >-0.178996</td>\n      <td id=\"T_ad537_row13_col3\" class=\"data row13 col3\" >0.413705</td>\n      <td id=\"T_ad537_row13_col4\" class=\"data row13 col4\" >0.261291</td>\n      <td id=\"T_ad537_row13_col5\" class=\"data row13 col5\" >-0.083266</td>\n      <td id=\"T_ad537_row13_col6\" class=\"data row13 col6\" >-0.015811</td>\n      <td id=\"T_ad537_row13_col7\" class=\"data row13 col7\" >-0.084504</td>\n      <td id=\"T_ad537_row13_col8\" class=\"data row13 col8\" >0.037074</td>\n      <td id=\"T_ad537_row13_col9\" class=\"data row13 col9\" >-0.116074</td>\n      <td id=\"T_ad537_row13_col10\" class=\"data row13 col10\" >0.226824</td>\n      <td id=\"T_ad537_row13_col11\" class=\"data row13 col11\" >0.217404</td>\n      <td id=\"T_ad537_row13_col12\" class=\"data row13 col12\" >0.298509</td>\n      <td id=\"T_ad537_row13_col13\" class=\"data row13 col13\" >1.000000</td>\n    </tr>\n  </tbody>\n</table>\n"
     },
     "execution_count": 53,
     "metadata": {},
     "output_type": "execute_result"
    }
   ],
   "source": [
    "corr = df.corr()\n",
    "corr.style.background_gradient(cmap='coolwarm')"
   ]
  },
  {
   "cell_type": "markdown",
   "metadata": {
    "pycharm": {
     "name": "#%% md\n"
    }
   },
   "source": [
    "Судя по данным матрицы имеется линейная зависимость меджу весом и ростом, а также показателями давления. Заменим указанные столбцы на отношение давлений press_ratio и индекс массы тела bmi."
   ]
  },
  {
   "cell_type": "code",
   "execution_count": 54,
   "metadata": {
    "pycharm": {
     "name": "#%%\n"
    }
   },
   "outputs": [],
   "source": [
    "df['press_ratio'] = df.s_press/df.d_press"
   ]
  },
  {
   "cell_type": "code",
   "execution_count": 55,
   "metadata": {
    "pycharm": {
     "name": "#%%\n"
    }
   },
   "outputs": [],
   "source": [
    "df['bmi'] = df.weight / (df.height/100)**2"
   ]
  },
  {
   "cell_type": "code",
   "execution_count": 56,
   "metadata": {
    "pycharm": {
     "name": "#%%\n"
    }
   },
   "outputs": [],
   "source": [
    "df = df[[column for column in df.columns if column not in(['s_press', 'd_press', 'weight', 'height'])]]"
   ]
  },
  {
   "cell_type": "code",
   "execution_count": 57,
   "metadata": {
    "pycharm": {
     "name": "#%%\n"
    }
   },
   "outputs": [
    {
     "data": {
      "text/plain": "<pandas.io.formats.style.Styler at 0x7f412a6bfb50>",
      "text/html": "<style type=\"text/css\">\n#T_b5ee2_row0_col0, #T_b5ee2_row1_col1, #T_b5ee2_row2_col2, #T_b5ee2_row3_col3, #T_b5ee2_row4_col4, #T_b5ee2_row5_col5, #T_b5ee2_row6_col6, #T_b5ee2_row7_col7, #T_b5ee2_row8_col8, #T_b5ee2_row9_col9, #T_b5ee2_row10_col10, #T_b5ee2_row11_col11 {\n  background-color: #b40426;\n  color: #f1f1f1;\n}\n#T_b5ee2_row0_col1, #T_b5ee2_row6_col3, #T_b5ee2_row8_col5 {\n  background-color: #516ddb;\n  color: #f1f1f1;\n}\n#T_b5ee2_row0_col2, #T_b5ee2_row7_col10, #T_b5ee2_row9_col2 {\n  background-color: #5b7ae5;\n  color: #f1f1f1;\n}\n#T_b5ee2_row0_col3, #T_b5ee2_row0_col5, #T_b5ee2_row1_col6, #T_b5ee2_row1_col11, #T_b5ee2_row2_col4, #T_b5ee2_row2_col7, #T_b5ee2_row3_col0, #T_b5ee2_row3_col8, #T_b5ee2_row5_col0, #T_b5ee2_row5_col8, #T_b5ee2_row5_col9, #T_b5ee2_row5_col10, #T_b5ee2_row5_col11, #T_b5ee2_row6_col1, #T_b5ee2_row6_col4, #T_b5ee2_row7_col2 {\n  background-color: #3b4cc0;\n  color: #f1f1f1;\n}\n#T_b5ee2_row0_col4, #T_b5ee2_row1_col10 {\n  background-color: #3d50c3;\n  color: #f1f1f1;\n}\n#T_b5ee2_row0_col6 {\n  background-color: #96b7ff;\n  color: #000000;\n}\n#T_b5ee2_row0_col7, #T_b5ee2_row7_col0 {\n  background-color: #94b6ff;\n  color: #000000;\n}\n#T_b5ee2_row0_col8 {\n  background-color: #a2c1ff;\n  color: #000000;\n}\n#T_b5ee2_row0_col9 {\n  background-color: #edd2c3;\n  color: #000000;\n}\n#T_b5ee2_row0_col10 {\n  background-color: #9dbdff;\n  color: #000000;\n}\n#T_b5ee2_row0_col11, #T_b5ee2_row10_col11 {\n  background-color: #4a63d3;\n  color: #f1f1f1;\n}\n#T_b5ee2_row1_col0, #T_b5ee2_row3_col10 {\n  background-color: #3c4ec2;\n  color: #f1f1f1;\n}\n#T_b5ee2_row1_col2, #T_b5ee2_row11_col0, #T_b5ee2_row11_col9 {\n  background-color: #6c8ff1;\n  color: #f1f1f1;\n}\n#T_b5ee2_row1_col3, #T_b5ee2_row4_col3 {\n  background-color: #7093f3;\n  color: #f1f1f1;\n}\n#T_b5ee2_row1_col4, #T_b5ee2_row8_col4 {\n  background-color: #3e51c5;\n  color: #f1f1f1;\n}\n#T_b5ee2_row1_col5, #T_b5ee2_row9_col8 {\n  background-color: #aac7fd;\n  color: #000000;\n}\n#T_b5ee2_row1_col7, #T_b5ee2_row2_col0, #T_b5ee2_row8_col2 {\n  background-color: #5a78e4;\n  color: #f1f1f1;\n}\n#T_b5ee2_row1_col8 {\n  background-color: #506bda;\n  color: #f1f1f1;\n}\n#T_b5ee2_row1_col9, #T_b5ee2_row2_col8, #T_b5ee2_row2_col11, #T_b5ee2_row3_col9, #T_b5ee2_row4_col11 {\n  background-color: #4358cb;\n  color: #f1f1f1;\n}\n#T_b5ee2_row2_col1 {\n  background-color: #81a4fb;\n  color: #f1f1f1;\n}\n#T_b5ee2_row2_col3, #T_b5ee2_row6_col10, #T_b5ee2_row9_col1, #T_b5ee2_row11_col5 {\n  background-color: #5d7ce6;\n  color: #f1f1f1;\n}\n#T_b5ee2_row2_col5, #T_b5ee2_row11_col6 {\n  background-color: #7b9ff9;\n  color: #f1f1f1;\n}\n#T_b5ee2_row2_col6, #T_b5ee2_row11_col1 {\n  background-color: #7295f4;\n  color: #f1f1f1;\n}\n#T_b5ee2_row2_col9, #T_b5ee2_row3_col7, #T_b5ee2_row5_col6, #T_b5ee2_row11_col10 {\n  background-color: #5572df;\n  color: #f1f1f1;\n}\n#T_b5ee2_row2_col10, #T_b5ee2_row3_col4 {\n  background-color: #4b64d5;\n  color: #f1f1f1;\n}\n#T_b5ee2_row3_col1 {\n  background-color: #85a8fc;\n  color: #f1f1f1;\n}\n#T_b5ee2_row3_col2, #T_b5ee2_row6_col2 {\n  background-color: #5e7de7;\n  color: #f1f1f1;\n}\n#T_b5ee2_row3_col5 {\n  background-color: #92b4fe;\n  color: #000000;\n}\n#T_b5ee2_row3_col6, #T_b5ee2_row4_col7, #T_b5ee2_row4_col9 {\n  background-color: #6687ed;\n  color: #f1f1f1;\n}\n#T_b5ee2_row3_col11, #T_b5ee2_row6_col5 {\n  background-color: #4055c8;\n  color: #f1f1f1;\n}\n#T_b5ee2_row4_col0, #T_b5ee2_row11_col3 {\n  background-color: #6282ea;\n  color: #f1f1f1;\n}\n#T_b5ee2_row4_col1 {\n  background-color: #779af7;\n  color: #f1f1f1;\n}\n#T_b5ee2_row4_col2 {\n  background-color: #6180e9;\n  color: #f1f1f1;\n}\n#T_b5ee2_row4_col5, #T_b5ee2_row7_col1 {\n  background-color: #6e90f2;\n  color: #f1f1f1;\n}\n#T_b5ee2_row4_col6, #T_b5ee2_row10_col7 {\n  background-color: #7597f6;\n  color: #f1f1f1;\n}\n#T_b5ee2_row4_col8 {\n  background-color: #4e68d8;\n  color: #f1f1f1;\n}\n#T_b5ee2_row4_col10 {\n  background-color: #5673e0;\n  color: #f1f1f1;\n}\n#T_b5ee2_row5_col1, #T_b5ee2_row6_col8 {\n  background-color: #bad0f8;\n  color: #000000;\n}\n#T_b5ee2_row5_col2 {\n  background-color: #7da0f9;\n  color: #f1f1f1;\n}\n#T_b5ee2_row5_col3 {\n  background-color: #90b2fe;\n  color: #000000;\n}\n#T_b5ee2_row5_col4, #T_b5ee2_row10_col4 {\n  background-color: #4961d2;\n  color: #f1f1f1;\n}\n#T_b5ee2_row5_col7, #T_b5ee2_row7_col5, #T_b5ee2_row11_col8 {\n  background-color: #5470de;\n  color: #f1f1f1;\n}\n#T_b5ee2_row6_col0 {\n  background-color: #82a6fb;\n  color: #f1f1f1;\n}\n#T_b5ee2_row6_col7 {\n  background-color: #a6c4fe;\n  color: #000000;\n}\n#T_b5ee2_row6_col9 {\n  background-color: #a1c0ff;\n  color: #000000;\n}\n#T_b5ee2_row6_col11, #T_b5ee2_row9_col4 {\n  background-color: #455cce;\n  color: #f1f1f1;\n}\n#T_b5ee2_row7_col3, #T_b5ee2_row10_col3, #T_b5ee2_row10_col5 {\n  background-color: #536edd;\n  color: #f1f1f1;\n}\n#T_b5ee2_row7_col4, #T_b5ee2_row7_col11, #T_b5ee2_row9_col5, #T_b5ee2_row11_col4 {\n  background-color: #3f53c6;\n  color: #f1f1f1;\n}\n#T_b5ee2_row7_col6, #T_b5ee2_row9_col6 {\n  background-color: #b5cdfa;\n  color: #000000;\n}\n#T_b5ee2_row7_col8 {\n  background-color: #b2ccfb;\n  color: #000000;\n}\n#T_b5ee2_row7_col9 {\n  background-color: #9ebeff;\n  color: #000000;\n}\n#T_b5ee2_row8_col0, #T_b5ee2_row10_col9 {\n  background-color: #b3cdfb;\n  color: #000000;\n}\n#T_b5ee2_row8_col1 {\n  background-color: #7a9df8;\n  color: #f1f1f1;\n}\n#T_b5ee2_row8_col3, #T_b5ee2_row9_col11 {\n  background-color: #4f69d9;\n  color: #f1f1f1;\n}\n#T_b5ee2_row8_col6 {\n  background-color: #d3dbe7;\n  color: #000000;\n}\n#T_b5ee2_row8_col7 {\n  background-color: #c1d4f4;\n  color: #000000;\n}\n#T_b5ee2_row8_col9 {\n  background-color: #b7cff9;\n  color: #000000;\n}\n#T_b5ee2_row8_col10, #T_b5ee2_row11_col2 {\n  background-color: #6788ee;\n  color: #f1f1f1;\n}\n#T_b5ee2_row8_col11, #T_b5ee2_row9_col3 {\n  background-color: #485fd1;\n  color: #f1f1f1;\n}\n#T_b5ee2_row9_col0 {\n  background-color: #eed0c0;\n  color: #000000;\n}\n#T_b5ee2_row9_col7 {\n  background-color: #a3c2fe;\n  color: #000000;\n}\n#T_b5ee2_row9_col10 {\n  background-color: #a5c3fe;\n  color: #000000;\n}\n#T_b5ee2_row10_col0 {\n  background-color: #afcafc;\n  color: #000000;\n}\n#T_b5ee2_row10_col1, #T_b5ee2_row10_col8 {\n  background-color: #6a8bef;\n  color: #f1f1f1;\n}\n#T_b5ee2_row10_col2, #T_b5ee2_row11_col7 {\n  background-color: #6384eb;\n  color: #f1f1f1;\n}\n#T_b5ee2_row10_col6 {\n  background-color: #89acfd;\n  color: #000000;\n}\n</style>\n<table id=\"T_b5ee2\">\n  <thead>\n    <tr>\n      <th class=\"blank level0\" >&nbsp;</th>\n      <th id=\"T_b5ee2_level0_col0\" class=\"col_heading level0 col0\" >age</th>\n      <th id=\"T_b5ee2_level0_col1\" class=\"col_heading level0 col1\" >sex</th>\n      <th id=\"T_b5ee2_level0_col2\" class=\"col_heading level0 col2\" >area</th>\n      <th id=\"T_b5ee2_level0_col3\" class=\"col_heading level0 col3\" >alco</th>\n      <th id=\"T_b5ee2_level0_col4\" class=\"col_heading level0 col4\" >irrat_food</th>\n      <th id=\"T_b5ee2_level0_col5\" class=\"col_heading level0 col5\" >smoke</th>\n      <th id=\"T_b5ee2_level0_col6\" class=\"col_heading level0 col6\" >clinic_cnt</th>\n      <th id=\"T_b5ee2_level0_col7\" class=\"col_heading level0 col7\" >ambulance_cnt</th>\n      <th id=\"T_b5ee2_level0_col8\" class=\"col_heading level0 col8\" >hosp_cnt</th>\n      <th id=\"T_b5ee2_level0_col9\" class=\"col_heading level0 col9\" >has_bsk</th>\n      <th id=\"T_b5ee2_level0_col10\" class=\"col_heading level0 col10\" >press_ratio</th>\n      <th id=\"T_b5ee2_level0_col11\" class=\"col_heading level0 col11\" >bmi</th>\n    </tr>\n  </thead>\n  <tbody>\n    <tr>\n      <th id=\"T_b5ee2_level0_row0\" class=\"row_heading level0 row0\" >age</th>\n      <td id=\"T_b5ee2_row0_col0\" class=\"data row0 col0\" >1.000000</td>\n      <td id=\"T_b5ee2_row0_col1\" class=\"data row0 col1\" >-0.128440</td>\n      <td id=\"T_b5ee2_row0_col2\" class=\"data row0 col2\" >-0.016995</td>\n      <td id=\"T_b5ee2_row0_col3\" class=\"data row0 col3\" >-0.133295</td>\n      <td id=\"T_b5ee2_row0_col4\" class=\"data row0 col4\" >0.009628</td>\n      <td id=\"T_b5ee2_row0_col5\" class=\"data row0 col5\" >-0.136384</td>\n      <td id=\"T_b5ee2_row0_col6\" class=\"data row0 col6\" >0.114745</td>\n      <td id=\"T_b5ee2_row0_col7\" class=\"data row0 col7\" >0.171003</td>\n      <td id=\"T_b5ee2_row0_col8\" class=\"data row0 col8\" >0.273306</td>\n      <td id=\"T_b5ee2_row0_col9\" class=\"data row0 col9\" >0.516637</td>\n      <td id=\"T_b5ee2_row0_col10\" class=\"data row0 col10\" >0.262285</td>\n      <td id=\"T_b5ee2_row0_col11\" class=\"data row0 col11\" >0.043639</td>\n    </tr>\n    <tr>\n      <th id=\"T_b5ee2_level0_row1\" class=\"row_heading level0 row1\" >sex</th>\n      <td id=\"T_b5ee2_row1_col0\" class=\"data row1 col0\" >-0.128440</td>\n      <td id=\"T_b5ee2_row1_col1\" class=\"data row1 col1\" >1.000000</td>\n      <td id=\"T_b5ee2_row1_col2\" class=\"data row1 col2\" >0.042513</td>\n      <td id=\"T_b5ee2_row1_col3\" class=\"data row1 col3\" >0.059245</td>\n      <td id=\"T_b5ee2_row1_col4\" class=\"data row1 col4\" >0.013227</td>\n      <td id=\"T_b5ee2_row1_col5\" class=\"data row1 col5\" >0.244694</td>\n      <td id=\"T_b5ee2_row1_col6\" class=\"data row1 col6\" >-0.220326</td>\n      <td id=\"T_b5ee2_row1_col7\" class=\"data row1 col7\" >-0.023130</td>\n      <td id=\"T_b5ee2_row1_col8\" class=\"data row1 col8\" >0.021357</td>\n      <td id=\"T_b5ee2_row1_col9\" class=\"data row1 col9\" >-0.083266</td>\n      <td id=\"T_b5ee2_row1_col10\" class=\"data row1 col10\" >-0.036364</td>\n      <td id=\"T_b5ee2_row1_col11\" class=\"data row1 col11\" >-0.010054</td>\n    </tr>\n    <tr>\n      <th id=\"T_b5ee2_level0_row2\" class=\"row_heading level0 row2\" >area</th>\n      <td id=\"T_b5ee2_row2_col0\" class=\"data row2 col0\" >-0.016995</td>\n      <td id=\"T_b5ee2_row2_col1\" class=\"data row2 col1\" >0.042513</td>\n      <td id=\"T_b5ee2_row2_col2\" class=\"data row2 col2\" >1.000000</td>\n      <td id=\"T_b5ee2_row2_col3\" class=\"data row2 col3\" >-0.008672</td>\n      <td id=\"T_b5ee2_row2_col4\" class=\"data row2 col4\" >0.001845</td>\n      <td id=\"T_b5ee2_row2_col5\" class=\"data row2 col5\" >0.092968</td>\n      <td id=\"T_b5ee2_row2_col6\" class=\"data row2 col6\" >-0.007216</td>\n      <td id=\"T_b5ee2_row2_col7\" class=\"data row2 col7\" >-0.139856</td>\n      <td id=\"T_b5ee2_row2_col8\" class=\"data row2 col8\" >-0.023650</td>\n      <td id=\"T_b5ee2_row2_col9\" class=\"data row2 col9\" >-0.015811</td>\n      <td id=\"T_b5ee2_row2_col10\" class=\"data row2 col10\" >0.010851</td>\n      <td id=\"T_b5ee2_row2_col11\" class=\"data row2 col11\" >0.020593</td>\n    </tr>\n    <tr>\n      <th id=\"T_b5ee2_level0_row3\" class=\"row_heading level0 row3\" >alco</th>\n      <td id=\"T_b5ee2_row3_col0\" class=\"data row3 col0\" >-0.133295</td>\n      <td id=\"T_b5ee2_row3_col1\" class=\"data row3 col1\" >0.059245</td>\n      <td id=\"T_b5ee2_row3_col2\" class=\"data row3 col2\" >-0.008672</td>\n      <td id=\"T_b5ee2_row3_col3\" class=\"data row3 col3\" >1.000000</td>\n      <td id=\"T_b5ee2_row3_col4\" class=\"data row3 col4\" >0.058856</td>\n      <td id=\"T_b5ee2_row3_col5\" class=\"data row3 col5\" >0.163227</td>\n      <td id=\"T_b5ee2_row3_col6\" class=\"data row3 col6\" >-0.049011</td>\n      <td id=\"T_b5ee2_row3_col7\" class=\"data row3 col7\" >-0.041825</td>\n      <td id=\"T_b5ee2_row3_col8\" class=\"data row3 col8\" >-0.055626</td>\n      <td id=\"T_b5ee2_row3_col9\" class=\"data row3 col9\" >-0.084504</td>\n      <td id=\"T_b5ee2_row3_col10\" class=\"data row3 col10\" >-0.041604</td>\n      <td id=\"T_b5ee2_row3_col11\" class=\"data row3 col11\" >0.010066</td>\n    </tr>\n    <tr>\n      <th id=\"T_b5ee2_level0_row4\" class=\"row_heading level0 row4\" >irrat_food</th>\n      <td id=\"T_b5ee2_row4_col0\" class=\"data row4 col0\" >0.009628</td>\n      <td id=\"T_b5ee2_row4_col1\" class=\"data row4 col1\" >0.013227</td>\n      <td id=\"T_b5ee2_row4_col2\" class=\"data row4 col2\" >0.001845</td>\n      <td id=\"T_b5ee2_row4_col3\" class=\"data row4 col3\" >0.058856</td>\n      <td id=\"T_b5ee2_row4_col4\" class=\"data row4 col4\" >1.000000</td>\n      <td id=\"T_b5ee2_row4_col5\" class=\"data row4 col5\" >0.049747</td>\n      <td id=\"T_b5ee2_row4_col6\" class=\"data row4 col6\" >0.000380</td>\n      <td id=\"T_b5ee2_row4_col7\" class=\"data row4 col7\" >0.016176</td>\n      <td id=\"T_b5ee2_row4_col8\" class=\"data row4 col8\" >0.013383</td>\n      <td id=\"T_b5ee2_row4_col9\" class=\"data row4 col9\" >0.037074</td>\n      <td id=\"T_b5ee2_row4_col10\" class=\"data row4 col10\" >0.048113</td>\n      <td id=\"T_b5ee2_row4_col11\" class=\"data row4 col11\" >0.018681</td>\n    </tr>\n    <tr>\n      <th id=\"T_b5ee2_level0_row5\" class=\"row_heading level0 row5\" >smoke</th>\n      <td id=\"T_b5ee2_row5_col0\" class=\"data row5 col0\" >-0.136384</td>\n      <td id=\"T_b5ee2_row5_col1\" class=\"data row5 col1\" >0.244694</td>\n      <td id=\"T_b5ee2_row5_col2\" class=\"data row5 col2\" >0.092968</td>\n      <td id=\"T_b5ee2_row5_col3\" class=\"data row5 col3\" >0.163227</td>\n      <td id=\"T_b5ee2_row5_col4\" class=\"data row5 col4\" >0.049747</td>\n      <td id=\"T_b5ee2_row5_col5\" class=\"data row5 col5\" >1.000000</td>\n      <td id=\"T_b5ee2_row5_col6\" class=\"data row5 col6\" >-0.110821</td>\n      <td id=\"T_b5ee2_row5_col7\" class=\"data row5 col7\" >-0.042530</td>\n      <td id=\"T_b5ee2_row5_col8\" class=\"data row5 col8\" >-0.051614</td>\n      <td id=\"T_b5ee2_row5_col9\" class=\"data row5 col9\" >-0.116074</td>\n      <td id=\"T_b5ee2_row5_col10\" class=\"data row5 col10\" >-0.046541</td>\n      <td id=\"T_b5ee2_row5_col11\" class=\"data row5 col11\" >-0.010762</td>\n    </tr>\n    <tr>\n      <th id=\"T_b5ee2_level0_row6\" class=\"row_heading level0 row6\" >clinic_cnt</th>\n      <td id=\"T_b5ee2_row6_col0\" class=\"data row6 col0\" >0.114745</td>\n      <td id=\"T_b5ee2_row6_col1\" class=\"data row6 col1\" >-0.220326</td>\n      <td id=\"T_b5ee2_row6_col2\" class=\"data row6 col2\" >-0.007216</td>\n      <td id=\"T_b5ee2_row6_col3\" class=\"data row6 col3\" >-0.049011</td>\n      <td id=\"T_b5ee2_row6_col4\" class=\"data row6 col4\" >0.000380</td>\n      <td id=\"T_b5ee2_row6_col5\" class=\"data row6 col5\" >-0.110821</td>\n      <td id=\"T_b5ee2_row6_col6\" class=\"data row6 col6\" >1.000000</td>\n      <td id=\"T_b5ee2_row6_col7\" class=\"data row6 col7\" >0.227609</td>\n      <td id=\"T_b5ee2_row6_col8\" class=\"data row6 col8\" >0.344479</td>\n      <td id=\"T_b5ee2_row6_col9\" class=\"data row6 col9\" >0.226824</td>\n      <td id=\"T_b5ee2_row6_col10\" class=\"data row6 col10\" >0.071413</td>\n      <td id=\"T_b5ee2_row6_col11\" class=\"data row6 col11\" >0.024918</td>\n    </tr>\n    <tr>\n      <th id=\"T_b5ee2_level0_row7\" class=\"row_heading level0 row7\" >ambulance_cnt</th>\n      <td id=\"T_b5ee2_row7_col0\" class=\"data row7 col0\" >0.171003</td>\n      <td id=\"T_b5ee2_row7_col1\" class=\"data row7 col1\" >-0.023130</td>\n      <td id=\"T_b5ee2_row7_col2\" class=\"data row7 col2\" >-0.139856</td>\n      <td id=\"T_b5ee2_row7_col3\" class=\"data row7 col3\" >-0.041825</td>\n      <td id=\"T_b5ee2_row7_col4\" class=\"data row7 col4\" >0.016176</td>\n      <td id=\"T_b5ee2_row7_col5\" class=\"data row7 col5\" >-0.042530</td>\n      <td id=\"T_b5ee2_row7_col6\" class=\"data row7 col6\" >0.227609</td>\n      <td id=\"T_b5ee2_row7_col7\" class=\"data row7 col7\" >1.000000</td>\n      <td id=\"T_b5ee2_row7_col8\" class=\"data row7 col8\" >0.321173</td>\n      <td id=\"T_b5ee2_row7_col9\" class=\"data row7 col9\" >0.217404</td>\n      <td id=\"T_b5ee2_row7_col10\" class=\"data row7 col10\" >0.066689</td>\n      <td id=\"T_b5ee2_row7_col11\" class=\"data row7 col11\" >0.008796</td>\n    </tr>\n    <tr>\n      <th id=\"T_b5ee2_level0_row8\" class=\"row_heading level0 row8\" >hosp_cnt</th>\n      <td id=\"T_b5ee2_row8_col0\" class=\"data row8 col0\" >0.273306</td>\n      <td id=\"T_b5ee2_row8_col1\" class=\"data row8 col1\" >0.021357</td>\n      <td id=\"T_b5ee2_row8_col2\" class=\"data row8 col2\" >-0.023650</td>\n      <td id=\"T_b5ee2_row8_col3\" class=\"data row8 col3\" >-0.055626</td>\n      <td id=\"T_b5ee2_row8_col4\" class=\"data row8 col4\" >0.013383</td>\n      <td id=\"T_b5ee2_row8_col5\" class=\"data row8 col5\" >-0.051614</td>\n      <td id=\"T_b5ee2_row8_col6\" class=\"data row8 col6\" >0.344479</td>\n      <td id=\"T_b5ee2_row8_col7\" class=\"data row8 col7\" >0.321173</td>\n      <td id=\"T_b5ee2_row8_col8\" class=\"data row8 col8\" >1.000000</td>\n      <td id=\"T_b5ee2_row8_col9\" class=\"data row8 col9\" >0.298509</td>\n      <td id=\"T_b5ee2_row8_col10\" class=\"data row8 col10\" >0.102300</td>\n      <td id=\"T_b5ee2_row8_col11\" class=\"data row8 col11\" >0.033277</td>\n    </tr>\n    <tr>\n      <th id=\"T_b5ee2_level0_row9\" class=\"row_heading level0 row9\" >has_bsk</th>\n      <td id=\"T_b5ee2_row9_col0\" class=\"data row9 col0\" >0.516637</td>\n      <td id=\"T_b5ee2_row9_col1\" class=\"data row9 col1\" >-0.083266</td>\n      <td id=\"T_b5ee2_row9_col2\" class=\"data row9 col2\" >-0.015811</td>\n      <td id=\"T_b5ee2_row9_col3\" class=\"data row9 col3\" >-0.084504</td>\n      <td id=\"T_b5ee2_row9_col4\" class=\"data row9 col4\" >0.037074</td>\n      <td id=\"T_b5ee2_row9_col5\" class=\"data row9 col5\" >-0.116074</td>\n      <td id=\"T_b5ee2_row9_col6\" class=\"data row9 col6\" >0.226824</td>\n      <td id=\"T_b5ee2_row9_col7\" class=\"data row9 col7\" >0.217404</td>\n      <td id=\"T_b5ee2_row9_col8\" class=\"data row9 col8\" >0.298509</td>\n      <td id=\"T_b5ee2_row9_col9\" class=\"data row9 col9\" >1.000000</td>\n      <td id=\"T_b5ee2_row9_col10\" class=\"data row9 col10\" >0.285471</td>\n      <td id=\"T_b5ee2_row9_col11\" class=\"data row9 col11\" >0.058594</td>\n    </tr>\n    <tr>\n      <th id=\"T_b5ee2_level0_row10\" class=\"row_heading level0 row10\" >press_ratio</th>\n      <td id=\"T_b5ee2_row10_col0\" class=\"data row10 col0\" >0.262285</td>\n      <td id=\"T_b5ee2_row10_col1\" class=\"data row10 col1\" >-0.036364</td>\n      <td id=\"T_b5ee2_row10_col2\" class=\"data row10 col2\" >0.010851</td>\n      <td id=\"T_b5ee2_row10_col3\" class=\"data row10 col3\" >-0.041604</td>\n      <td id=\"T_b5ee2_row10_col4\" class=\"data row10 col4\" >0.048113</td>\n      <td id=\"T_b5ee2_row10_col5\" class=\"data row10 col5\" >-0.046541</td>\n      <td id=\"T_b5ee2_row10_col6\" class=\"data row10 col6\" >0.071413</td>\n      <td id=\"T_b5ee2_row10_col7\" class=\"data row10 col7\" >0.066689</td>\n      <td id=\"T_b5ee2_row10_col8\" class=\"data row10 col8\" >0.102300</td>\n      <td id=\"T_b5ee2_row10_col9\" class=\"data row10 col9\" >0.285471</td>\n      <td id=\"T_b5ee2_row10_col10\" class=\"data row10 col10\" >1.000000</td>\n      <td id=\"T_b5ee2_row10_col11\" class=\"data row10 col11\" >0.043506</td>\n    </tr>\n    <tr>\n      <th id=\"T_b5ee2_level0_row11\" class=\"row_heading level0 row11\" >bmi</th>\n      <td id=\"T_b5ee2_row11_col0\" class=\"data row11 col0\" >0.043639</td>\n      <td id=\"T_b5ee2_row11_col1\" class=\"data row11 col1\" >-0.010054</td>\n      <td id=\"T_b5ee2_row11_col2\" class=\"data row11 col2\" >0.020593</td>\n      <td id=\"T_b5ee2_row11_col3\" class=\"data row11 col3\" >0.010066</td>\n      <td id=\"T_b5ee2_row11_col4\" class=\"data row11 col4\" >0.018681</td>\n      <td id=\"T_b5ee2_row11_col5\" class=\"data row11 col5\" >-0.010762</td>\n      <td id=\"T_b5ee2_row11_col6\" class=\"data row11 col6\" >0.024918</td>\n      <td id=\"T_b5ee2_row11_col7\" class=\"data row11 col7\" >0.008796</td>\n      <td id=\"T_b5ee2_row11_col8\" class=\"data row11 col8\" >0.033277</td>\n      <td id=\"T_b5ee2_row11_col9\" class=\"data row11 col9\" >0.058594</td>\n      <td id=\"T_b5ee2_row11_col10\" class=\"data row11 col10\" >0.043506</td>\n      <td id=\"T_b5ee2_row11_col11\" class=\"data row11 col11\" >1.000000</td>\n    </tr>\n  </tbody>\n</table>\n"
     },
     "execution_count": 57,
     "metadata": {},
     "output_type": "execute_result"
    }
   ],
   "source": [
    "corr = df.corr()\n",
    "corr.style.background_gradient(cmap='coolwarm')"
   ]
  },
  {
   "cell_type": "markdown",
   "metadata": {
    "pycharm": {
     "name": "#%% md\n"
    }
   },
   "source": [
    "Разобьем выборку на обучающую и тестовую в отношении 9 к 1"
   ]
  },
  {
   "cell_type": "code",
   "execution_count": 58,
   "metadata": {
    "pycharm": {
     "name": "#%%\n"
    }
   },
   "outputs": [],
   "source": [
    "k = 10\n",
    "x_columns = ['age', 'bmi', 'press_ratio', 'sex', 'has_bsk']\n",
    "y_column = 'clinic_cnt'\n",
    "x_train, x_test, y_train, y_test = train_test_split(df[x_columns], df[y_column], test_size=1/k)"
   ]
  },
  {
   "cell_type": "markdown",
   "metadata": {
    "pycharm": {
     "name": "#%% md\n"
    }
   },
   "source": [
    "Построим модель множественной линейной регрессии на обучающей выборке. выведем полученные коэффициенты и значение свободного члена."
   ]
  },
  {
   "cell_type": "code",
   "execution_count": 59,
   "metadata": {
    "pycharm": {
     "name": "#%%\n"
    }
   },
   "outputs": [
    {
     "name": "stdout",
     "output_type": "stream",
     "text": [
      "Коэффициенты модели: [-1.56186143e+00  3.34423680e-08  6.06265601e-02 -2.01420645e+01\n",
      "  2.26796489e+01], свободный член: 78.35422671721771\n"
     ]
    }
   ],
   "source": [
    "model_regression = LinearRegression().fit(X=x_train, y=y_train)\n",
    "print(f\"Коэффициенты модели: {model_regression.coef_}, свободный член: {model_regression.intercept_}\")"
   ]
  },
  {
   "cell_type": "markdown",
   "metadata": {
    "pycharm": {
     "name": "#%% md\n"
    }
   },
   "source": [
    "Получим с помощью модели предсказанное целевое значение на тестовой выборке и оценим качество модели по метрикам MAE и MAPE.\n",
    "\n",
    "Метрика MAE иллюстрирует среднюю абсолютную ошибку. Метрика MAPE иллюстрирует среднюю абсолютную ошибку в процентах."
   ]
  },
  {
   "cell_type": "code",
   "execution_count": 60,
   "metadata": {
    "scrolled": false,
    "pycharm": {
     "name": "#%%\n"
    }
   },
   "outputs": [
    {
     "name": "stdout",
     "output_type": "stream",
     "text": [
      "MAPE = 73.0887751657761%\n"
     ]
    }
   ],
   "source": [
    "y_pred = model_regression.predict(x_test)\n",
    "print(f\"MAPE = {metrics.mean_absolute_percentage_error(y_test, y_pred) * 100}%\")"
   ]
  },
  {
   "cell_type": "code",
   "execution_count": 61,
   "metadata": {
    "scrolled": true,
    "pycharm": {
     "name": "#%%\n"
    }
   },
   "outputs": [
    {
     "name": "stdout",
     "output_type": "stream",
     "text": [
      "MAE = 38.78436714741308\n"
     ]
    }
   ],
   "source": [
    "print(f\"MAE = {metrics.mean_absolute_error(y_test, y_pred)}\")"
   ]
  },
  {
   "cell_type": "markdown",
   "metadata": {
    "pycharm": {
     "name": "#%% md\n"
    }
   },
   "source": [
    "### Вывод:\n",
    "Средняя ошибка предсказания модели составила 73% или 38 единиц в абсолютном выражении. Модель линейной регрессии не может предсказать количество услуг, оказанных пациенту в поликлинике за год, по выбранным показателям. Указанных данных явно недостаточно для предсказания количества оказанных услуг, т.к. услуги оказываются не только в связи с болезнями системы кровообращения."
   ]
  },
  {
   "cell_type": "markdown",
   "metadata": {
    "pycharm": {
     "name": "#%% md\n"
    }
   },
   "source": [
    "## 2. Классификация\n",
    "В качестве целевого признака Y выберем has_bsk - Наличие болезни системы кровообращения.\n",
    "В качестве факторных признаков выберем:\n",
    "- возраст,\n",
    "- индекс массы тела,\n",
    "- отношение давлений,\n",
    "- пол,\n",
    "- территория проживания,\n",
    "- злоупотребление алкоголем (опрос),\n",
    "- иррациональное питание (опрос),\n",
    "- курение (опрос)."
   ]
  },
  {
   "cell_type": "markdown",
   "metadata": {
    "pycharm": {
     "name": "#%% md\n"
    }
   },
   "source": [
    "Разобьем выборку на обучающую и тестовую в отношении 2 к 1"
   ]
  },
  {
   "cell_type": "code",
   "execution_count": 62,
   "metadata": {
    "pycharm": {
     "name": "#%%\n"
    }
   },
   "outputs": [],
   "source": [
    "x_columns = ['age', 'bmi', 'press_ratio', 'sex', 'area', 'alco', 'irrat_food', 'smoke']\n",
    "y_column = 'has_bsk'\n",
    "x_train, x_test, y_train, y_test = train_test_split(df[x_columns], df[y_column],\n",
    "                                                    test_size=1/3, stratify=df[y_column])"
   ]
  },
  {
   "cell_type": "markdown",
   "source": [
    "Обучим на имеющихся данных маодель логистической регрессии"
   ],
   "metadata": {
    "collapsed": false,
    "pycharm": {
     "name": "#%% md\n"
    }
   }
  },
  {
   "cell_type": "code",
   "execution_count": 63,
   "outputs": [],
   "source": [
    "model = LogisticRegression().fit(X=x_train, y=y_train)"
   ],
   "metadata": {
    "collapsed": false,
    "pycharm": {
     "name": "#%%\n"
    }
   }
  },
  {
   "cell_type": "markdown",
   "metadata": {
    "pycharm": {
     "name": "#%% md\n"
    }
   },
   "source": [
    "Получим с помощью модели предсказанное целевое значение на тестовой выборке и оценим качество модели по метрике F-measure.\n",
    "\n",
    "Метрика F-measure представляет собой гармоническое среднее между точностью и полнотой. Она принимает значения от 0 до 1 и стремится к нулю, если точность или полнота стремится к нулю."
   ]
  },
  {
   "cell_type": "code",
   "execution_count": 64,
   "metadata": {
    "scrolled": true,
    "pycharm": {
     "name": "#%%\n"
    }
   },
   "outputs": [
    {
     "name": "stdout",
     "output_type": "stream",
     "text": [
      "F-measure: 0.5760719225449515\n"
     ]
    }
   ],
   "source": [
    "y_pred = model.predict(x_test)\n",
    "print(\"F-measure:\", metrics.f1_score(y_test, y_pred))"
   ]
  },
  {
   "cell_type": "markdown",
   "metadata": {
    "pycharm": {
     "name": "#%% md\n"
    }
   },
   "source": [
    "Значение F-меры для обученной модели составило 0,58, что свидетельствует о низком качестве модели. Выведем метрики Precision и Recall, а также коэффициенты модели.\n",
    "\n",
    "Precision (точность) - отношение TP к TP + FP. Это доля объектов, названными классификатором положительными и при этом действительно являющимися положительными\n",
    "\n",
    "Recall (Полнота) - отношение TP к TP + FN. Это то, какую долю объектов положительного класса из всех объектов положительного класса нашёл алгоритм. "
   ]
  },
  {
   "cell_type": "code",
   "execution_count": 66,
   "metadata": {
    "pycharm": {
     "name": "#%%\n"
    }
   },
   "outputs": [
    {
     "name": "stdout",
     "output_type": "stream",
     "text": [
      "Precision: 0.6272590361445783\n",
      "Recall: 0.532608695652174\n"
     ]
    }
   ],
   "source": [
    "print(\"Precision:\", metrics.precision_score(y_test, y_pred))\n",
    "print(\"Recall:\", metrics.recall_score(y_test, y_pred))"
   ]
  },
  {
   "cell_type": "code",
   "execution_count": 67,
   "metadata": {
    "scrolled": false,
    "pycharm": {
     "name": "#%%\n"
    }
   },
   "outputs": [
    {
     "name": "stdout",
     "output_type": "stream",
     "text": [
      "Коэффициенты модели: [[ 3.41463400e-14  1.19229501e-08  1.42352800e-13  2.59167540e-16\n",
      "   1.49564991e-15 -8.74302479e-16  5.15258168e-15 -1.54584531e-15]], свободный член: [7.93331619e-15]\n"
     ]
    }
   ],
   "source": [
    "print(f\"Коэффициенты модели: {model.coef_}, свободный член: {model.intercept_}\")"
   ]
  },
  {
   "cell_type": "markdown",
   "metadata": {
    "pycharm": {
     "name": "#%% md\n"
    }
   },
   "source": [
    "Для обучения модели использовались 8 признаков, попробем отобрать из них пять наиболее пригодных для построения моделей"
   ]
  },
  {
   "cell_type": "code",
   "execution_count": 68,
   "metadata": {
    "pycharm": {
     "name": "#%%\n"
    }
   },
   "outputs": [
    {
     "name": "stdout",
     "output_type": "stream",
     "text": [
      "Выбранные признаки: age, bmi, press_ratio, irrat_food, smoke\n"
     ]
    }
   ],
   "source": [
    "x_columns = ['age', 'bmi', 'press_ratio', 'sex', 'area', 'alco', 'irrat_food', 'smoke']\n",
    "y_column = 'has_bsk'\n",
    "feature_ratio = 5./len(x_columns)\n",
    "selector = SequentialFeatureSelector(\n",
    "    estimator=LinearRegression(),\n",
    "    scoring=None,\n",
    "    n_features_to_select=feature_ratio,\n",
    "    direction=\"forward\").fit(X=df[x_columns], y=df[y_column])\n",
    "selected_features = selector.get_feature_names_out()\n",
    "print(f\"Выбранные признаки: {', '.join(selected_features)}\")"
   ]
  },
  {
   "cell_type": "markdown",
   "metadata": {
    "pycharm": {
     "name": "#%% md\n"
    }
   },
   "source": [
    "Подготовим данные для модели с учетом выбранных признаков"
   ]
  },
  {
   "cell_type": "code",
   "execution_count": 69,
   "metadata": {
    "pycharm": {
     "name": "#%%\n"
    }
   },
   "outputs": [],
   "source": [
    "x_columns = selected_features\n",
    "y_column = 'has_bsk'\n",
    "x_train, x_test, y_train, y_test = train_test_split(df[x_columns], df[y_column], test_size=1/3, stratify=df[y_column])"
   ]
  },
  {
   "cell_type": "markdown",
   "metadata": {
    "pycharm": {
     "name": "#%% md\n"
    }
   },
   "source": [
    "Попробуем обучить модель Случайный лес "
   ]
  },
  {
   "cell_type": "code",
   "execution_count": 70,
   "metadata": {
    "pycharm": {
     "name": "#%%\n"
    }
   },
   "outputs": [],
   "source": [
    "random_forest = RandomForestClassifier(n_estimators=100).fit(X=x_train, y=y_train)"
   ]
  },
  {
   "cell_type": "markdown",
   "metadata": {
    "pycharm": {
     "name": "#%% md\n"
    }
   },
   "source": [
    "Выведем метрики для обученной модели"
   ]
  },
  {
   "cell_type": "code",
   "execution_count": 71,
   "metadata": {
    "pycharm": {
     "name": "#%%\n"
    }
   },
   "outputs": [
    {
     "name": "stdout",
     "output_type": "stream",
     "text": [
      "F-measure: 0.75498753117207\n"
     ]
    }
   ],
   "source": [
    "y_pred = random_forest.predict(x_test)\n",
    "print(\"F-measure:\", metrics.f1_score(y_test, y_pred))"
   ]
  },
  {
   "cell_type": "code",
   "execution_count": 72,
   "metadata": {
    "scrolled": false,
    "pycharm": {
     "name": "#%%\n"
    }
   },
   "outputs": [
    {
     "name": "stdout",
     "output_type": "stream",
     "text": [
      "Precision: 0.73661800486618\n",
      "Recall: 0.7742966751918159\n"
     ]
    }
   ],
   "source": [
    "print(\"Precision:\", metrics.precision_score(y_test, y_pred))\n",
    "print(\"Recall:\", metrics.recall_score(y_test, y_pred))"
   ]
  },
  {
   "cell_type": "markdown",
   "metadata": {
    "pycharm": {
     "name": "#%% md\n"
    }
   },
   "source": [
    "Качество обученной модели среднее, о чем свидетельствует значение F-меры 0,76. Значение точности 0,74 означает, что из 100 пациентов, для которых алгоритм предсказал наличие заболевания, только 74 имеют это заболевание в реальности. Значение полноты 0,77 означает, что из 100 реально больных пациентов алгоритм выявил только 77."
   ]
  },
  {
   "cell_type": "markdown",
   "metadata": {
    "pycharm": {
     "name": "#%% md\n"
    }
   },
   "source": [
    "Выведем важность признаков, рассчитанную алгоритмом"
   ]
  },
  {
   "cell_type": "code",
   "execution_count": 74,
   "metadata": {
    "pycharm": {
     "name": "#%%\n"
    }
   },
   "outputs": [
    {
     "data": {
      "text/plain": "<Figure size 640x480 with 1 Axes>",
      "image/png": "[encoded data removed]"
     },
     "metadata": {},
     "output_type": "display_data"
    }
   ],
   "source": [
    "feature_imp = pd.Series(random_forest.feature_importances_,index=x_columns).sort_values(ascending=False)\n",
    "sns.barplot(x=feature_imp, y=feature_imp.index)\n",
    "plt.xlabel('Важность признаков')\n",
    "plt.title('Визуализация важных признаков')\n",
    "plt.show()"
   ]
  },
  {
   "cell_type": "markdown",
   "metadata": {
    "pycharm": {
     "name": "#%% md\n"
    }
   },
   "source": [
    "График иллюсстирирует, что решения алгортма основаны в большей части на трех признаках - возрасте, индексе массы тела и отношении давлений"
   ]
  }
 ],
 "metadata": {
  "kernelspec": {
   "display_name": "Python 3 (ipykernel)",
   "language": "python",
   "name": "python3"
  },
  "language_info": {
   "codemirror_mode": {
    "name": "ipython",
    "version": 3
   },
   "file_extension": ".py",
   "mimetype": "text/x-python",
   "name": "python",
   "nbconvert_exporter": "python",
   "pygments_lexer": "ipython3",
   "version": "3.9.2"
  }
 },
 "nbformat": 4,
 "nbformat_minor": 1
}