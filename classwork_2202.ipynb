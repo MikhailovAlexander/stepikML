{
 "cells": [
  {
   "cell_type": "code",
   "execution_count": 1,
   "metadata": {
    "pycharm": {
     "name": "#%%\n"
    }
   },
   "outputs": [],
   "source": [
    "import pandas as pd"
   ]
  },
  {
   "cell_type": "code",
   "execution_count": 42,
   "metadata": {
    "pycharm": {
     "name": "#%%\n"
    }
   },
   "outputs": [],
   "source": [
    "url = \"https://getfile.dokpub.com/yandex/get/https://disk.yandex.ru/i/3S2UDtFEZqdjAw\"\n",
    "df = pd.read_csv(url, encoding='cp1251', delimiter=';')"
   ]
  },
  {
   "cell_type": "code",
   "execution_count": 43,
   "metadata": {
    "pycharm": {
     "name": "#%%\n"
    }
   },
   "outputs": [
    {
     "data": {
      "text/plain": "  Фамилия, имя      Школа  Класс      A      B      C      D  Итого   I тур  \\\n0     Ученик 1  Школа 146     10  100.0  100.0  100.0  100.0            400   \n1     Ученик 2    Школа 9     11  100.0  100.0  100.0   33.0            333   \n2     Ученик 3    Школа 9     11  100.0  100.0   66.0   63.0            329   \n3     Ученик 4  Школа 146     11  100.0  100.0  100.0   63.0            363   \n4     Ученик 5    Школа 9     11  100.0  100.0   66.0   63.0            329   \n\n       E      F      G     H  Итого   II тур  Общий итог  Место Unnamed: 15  \n0  100.0  100.0  100.0  28.0             328         728      1  Победитель  \n1  100.0  100.0  100.0  44.0             344         677      2  Победитель  \n2  100.0  100.0  100.0  44.0             344         673      3  Победитель  \n3  100.0   68.0  100.0  28.0             296         659      4      Призер  \n4  100.0  100.0   49.0  28.0             277         606      5      Призер  ",
      "text/html": "<div>\n<style scoped>\n    .dataframe tbody tr th:only-of-type {\n        vertical-align: middle;\n    }\n\n    .dataframe tbody tr th {\n        vertical-align: top;\n    }\n\n    .dataframe thead th {\n        text-align: right;\n    }\n</style>\n<table border=\"1\" class=\"dataframe\">\n  <thead>\n    <tr style=\"text-align: right;\">\n      <th></th>\n      <th>Фамилия, имя</th>\n      <th>Школа</th>\n      <th>Класс</th>\n      <th>A</th>\n      <th>B</th>\n      <th>C</th>\n      <th>D</th>\n      <th>Итого   I тур</th>\n      <th>E</th>\n      <th>F</th>\n      <th>G</th>\n      <th>H</th>\n      <th>Итого   II тур</th>\n      <th>Общий итог</th>\n      <th>Место</th>\n      <th>Unnamed: 15</th>\n    </tr>\n  </thead>\n  <tbody>\n    <tr>\n      <th>0</th>\n      <td>Ученик 1</td>\n      <td>Школа 146</td>\n      <td>10</td>\n      <td>100.0</td>\n      <td>100.0</td>\n      <td>100.0</td>\n      <td>100.0</td>\n      <td>400</td>\n      <td>100.0</td>\n      <td>100.0</td>\n      <td>100.0</td>\n      <td>28.0</td>\n      <td>328</td>\n      <td>728</td>\n      <td>1</td>\n      <td>Победитель</td>\n    </tr>\n    <tr>\n      <th>1</th>\n      <td>Ученик 2</td>\n      <td>Школа 9</td>\n      <td>11</td>\n      <td>100.0</td>\n      <td>100.0</td>\n      <td>100.0</td>\n      <td>33.0</td>\n      <td>333</td>\n      <td>100.0</td>\n      <td>100.0</td>\n      <td>100.0</td>\n      <td>44.0</td>\n      <td>344</td>\n      <td>677</td>\n      <td>2</td>\n      <td>Победитель</td>\n    </tr>\n    <tr>\n      <th>2</th>\n      <td>Ученик 3</td>\n      <td>Школа 9</td>\n      <td>11</td>\n      <td>100.0</td>\n      <td>100.0</td>\n      <td>66.0</td>\n      <td>63.0</td>\n      <td>329</td>\n      <td>100.0</td>\n      <td>100.0</td>\n      <td>100.0</td>\n      <td>44.0</td>\n      <td>344</td>\n      <td>673</td>\n      <td>3</td>\n      <td>Победитель</td>\n    </tr>\n    <tr>\n      <th>3</th>\n      <td>Ученик 4</td>\n      <td>Школа 146</td>\n      <td>11</td>\n      <td>100.0</td>\n      <td>100.0</td>\n      <td>100.0</td>\n      <td>63.0</td>\n      <td>363</td>\n      <td>100.0</td>\n      <td>68.0</td>\n      <td>100.0</td>\n      <td>28.0</td>\n      <td>296</td>\n      <td>659</td>\n      <td>4</td>\n      <td>Призер</td>\n    </tr>\n    <tr>\n      <th>4</th>\n      <td>Ученик 5</td>\n      <td>Школа 9</td>\n      <td>11</td>\n      <td>100.0</td>\n      <td>100.0</td>\n      <td>66.0</td>\n      <td>63.0</td>\n      <td>329</td>\n      <td>100.0</td>\n      <td>100.0</td>\n      <td>49.0</td>\n      <td>28.0</td>\n      <td>277</td>\n      <td>606</td>\n      <td>5</td>\n      <td>Призер</td>\n    </tr>\n  </tbody>\n</table>\n</div>"
     },
     "execution_count": 43,
     "metadata": {},
     "output_type": "execute_result"
    }
   ],
   "source": [
    "df.head()"
   ]
  },
  {
   "cell_type": "code",
   "execution_count": 44,
   "outputs": [
    {
     "name": "stdout",
     "output_type": "stream",
     "text": [
      "<class 'pandas.core.frame.DataFrame'>\n",
      "RangeIndex: 77 entries, 0 to 76\n",
      "Data columns (total 16 columns):\n",
      " #   Column          Non-Null Count  Dtype  \n",
      "---  ------          --------------  -----  \n",
      " 0   Фамилия, имя    77 non-null     object \n",
      " 1   Школа           77 non-null     object \n",
      " 2   Класс           77 non-null     int64  \n",
      " 3   A               75 non-null     float64\n",
      " 4   B               76 non-null     float64\n",
      " 5   C               41 non-null     float64\n",
      " 6   D               36 non-null     float64\n",
      " 7   Итого   I тур   77 non-null     int64  \n",
      " 8   E               73 non-null     float64\n",
      " 9   F               61 non-null     float64\n",
      " 10  G               64 non-null     float64\n",
      " 11  H               55 non-null     float64\n",
      " 12  Итого   II тур  77 non-null     int64  \n",
      " 13  Общий итог      77 non-null     int64  \n",
      " 14  Место           77 non-null     int64  \n",
      " 15  Unnamed: 15     27 non-null     object \n",
      "dtypes: float64(8), int64(5), object(3)\n",
      "memory usage: 9.8+ KB\n"
     ]
    }
   ],
   "source": [
    "df.info()"
   ],
   "metadata": {
    "collapsed": false,
    "pycharm": {
     "name": "#%%\n"
    }
   }
  },
  {
   "cell_type": "code",
   "execution_count": 49,
   "outputs": [],
   "source": [
    "df.rename(columns={'Unnamed: 15': 'результат'}, inplace=True)"
   ],
   "metadata": {
    "collapsed": false,
    "pycharm": {
     "name": "#%%\n"
    }
   }
  },
  {
   "cell_type": "code",
   "execution_count": 50,
   "outputs": [
    {
     "name": "stdout",
     "output_type": "stream",
     "text": [
      "<class 'pandas.core.frame.DataFrame'>\n",
      "Int64Index: 77 entries, 0 to 76\n",
      "Data columns (total 16 columns):\n",
      " #   Column          Non-Null Count  Dtype  \n",
      "---  ------          --------------  -----  \n",
      " 0   Фамилия, имя    77 non-null     object \n",
      " 1   Школа           77 non-null     object \n",
      " 2   Класс           77 non-null     int64  \n",
      " 3   A               75 non-null     float64\n",
      " 4   B               76 non-null     float64\n",
      " 5   C               41 non-null     float64\n",
      " 6   D               36 non-null     float64\n",
      " 7   Итого   I тур   77 non-null     int64  \n",
      " 8   E               73 non-null     float64\n",
      " 9   F               61 non-null     float64\n",
      " 10  G               64 non-null     float64\n",
      " 11  H               55 non-null     float64\n",
      " 12  Итого   II тур  77 non-null     int64  \n",
      " 13  Общий итог      77 non-null     int64  \n",
      " 14  Место           77 non-null     int64  \n",
      " 15  результат       27 non-null     object \n",
      "dtypes: float64(8), int64(5), object(3)\n",
      "memory usage: 10.2+ KB\n"
     ]
    }
   ],
   "source": [
    "df.info()"
   ],
   "metadata": {
    "collapsed": false,
    "pycharm": {
     "name": "#%%\n"
    }
   }
  },
  {
   "cell_type": "code",
   "execution_count": 51,
   "metadata": {
    "pycharm": {
     "name": "#%%\n"
    }
   },
   "outputs": [
    {
     "data": {
      "text/plain": "Фамилия, имя       0\nШкола              0\nКласс              0\nA                  2\nB                  1\nC                 36\nD                 41\nИтого   I тур      0\nE                  4\nF                 16\nG                 13\nH                 22\nИтого   II тур     0\nОбщий итог         0\nМесто              0\nрезультат         50\ndtype: int64"
     },
     "execution_count": 51,
     "metadata": {},
     "output_type": "execute_result"
    }
   ],
   "source": [
    "df.isnull().sum()"
   ]
  },
  {
   "cell_type": "code",
   "execution_count": 52,
   "metadata": {
    "pycharm": {
     "name": "#%%\n"
    },
    "scrolled": true
   },
   "outputs": [],
   "source": [
    "df['результат'].fillna('участник', inplace=True)"
   ]
  },
  {
   "cell_type": "code",
   "execution_count": 58,
   "outputs": [],
   "source": [
    "df[['A', 'B', 'C', 'D', 'E', 'F', 'G', 'H']] = df[['A', 'B', 'C', 'D', 'E', 'F', 'G', 'H']].fillna(0)"
   ],
   "metadata": {
    "collapsed": false,
    "pycharm": {
     "name": "#%%\n"
    }
   }
  },
  {
   "cell_type": "markdown",
   "source": [],
   "metadata": {
    "collapsed": false,
    "pycharm": {
     "name": "#%% md\n"
    }
   }
  },
  {
   "cell_type": "code",
   "execution_count": 59,
   "metadata": {
    "pycharm": {
     "name": "#%%\n"
    }
   },
   "outputs": [
    {
     "name": "stdout",
     "output_type": "stream",
     "text": [
      "<class 'pandas.core.frame.DataFrame'>\n",
      "Int64Index: 77 entries, 0 to 76\n",
      "Data columns (total 16 columns):\n",
      " #   Column          Non-Null Count  Dtype  \n",
      "---  ------          --------------  -----  \n",
      " 0   Фамилия, имя    77 non-null     object \n",
      " 1   Школа           77 non-null     object \n",
      " 2   Класс           77 non-null     int64  \n",
      " 3   A               77 non-null     float64\n",
      " 4   B               77 non-null     float64\n",
      " 5   C               77 non-null     float64\n",
      " 6   D               77 non-null     float64\n",
      " 7   Итого   I тур   77 non-null     int64  \n",
      " 8   E               77 non-null     float64\n",
      " 9   F               77 non-null     float64\n",
      " 10  G               77 non-null     float64\n",
      " 11  H               77 non-null     float64\n",
      " 12  Итого   II тур  77 non-null     int64  \n",
      " 13  Общий итог      77 non-null     int64  \n",
      " 14  Место           77 non-null     int64  \n",
      " 15  результат       77 non-null     object \n",
      "dtypes: float64(8), int64(5), object(3)\n",
      "memory usage: 10.2+ KB\n"
     ]
    }
   ],
   "source": [
    "df.info()"
   ]
  },
  {
   "cell_type": "code",
   "execution_count": 22,
   "outputs": [
    {
     "data": {
      "text/plain": "A    92.000000\nE    90.259740\nB    48.376623\nG    26.740260\nF    21.662338\nC    17.896104\nD    10.181818\ndtype: float64"
     },
     "execution_count": 22,
     "metadata": {},
     "output_type": "execute_result"
    }
   ],
   "source": [
    "df[['A', 'B', 'C', 'D', 'E', 'F', 'G', 'H']].mean().sort_values(ascending=False)"
   ],
   "metadata": {
    "collapsed": false,
    "pycharm": {
     "name": "#%%\n"
    }
   }
  },
  {
   "cell_type": "code",
   "execution_count": 62,
   "outputs": [],
   "source": [
    "df1 = df[['A', 'B', 'C', 'D', 'E', 'F', 'G', 'H']].sum().sort_values(ascending=False)"
   ],
   "metadata": {
    "collapsed": false,
    "pycharm": {
     "name": "#%%\n"
    }
   }
  },
  {
   "cell_type": "code",
   "execution_count": 63,
   "outputs": [
    {
     "data": {
      "text/plain": "A    7084.0\nE    6950.0\nB    3725.0\nG    2059.0\nF    1668.0\nC    1378.0\nH     900.0\nD     784.0\ndtype: float64"
     },
     "execution_count": 63,
     "metadata": {},
     "output_type": "execute_result"
    }
   ],
   "source": [
    "df1"
   ],
   "metadata": {
    "collapsed": false,
    "pycharm": {
     "name": "#%%\n"
    }
   }
  },
  {
   "cell_type": "code",
   "execution_count": 64,
   "outputs": [
    {
     "data": {
      "text/plain": "<AxesSubplot: >"
     },
     "execution_count": 64,
     "metadata": {},
     "output_type": "execute_result"
    },
    {
     "data": {
      "text/plain": "<Figure size 640x480 with 1 Axes>",
      "image/png": "[encoded data removed]"
     },
     "metadata": {},
     "output_type": "display_data"
    }
   ],
   "source": [
    "df1.plot(kind='bar')"
   ],
   "metadata": {
    "collapsed": false,
    "pycharm": {
     "name": "#%%\n"
    }
   }
  },
  {
   "cell_type": "code",
   "execution_count": 65,
   "outputs": [
    {
     "data": {
      "text/plain": "Итого   I тур     12971\nИтого   II тур    11577\ndtype: int64"
     },
     "execution_count": 65,
     "metadata": {},
     "output_type": "execute_result"
    }
   ],
   "source": [
    "df[['Итого   I тур', 'Итого   II тур']].sum()"
   ],
   "metadata": {
    "collapsed": false,
    "pycharm": {
     "name": "#%%\n"
    }
   }
  },
  {
   "cell_type": "code",
   "execution_count": 71,
   "outputs": [
    {
     "data": {
      "text/plain": "<Figure size 640x480 with 1 Axes>",
      "image/png": "[encoded data removed]"
     },
     "metadata": {},
     "output_type": "display_data"
    }
   ],
   "source": [
    "df[['Итого   I тур', 'Итого   II тур']].sum().plot(kind='bar', title='tours score');"
   ],
   "metadata": {
    "collapsed": false,
    "pycharm": {
     "name": "#%%\n"
    }
   }
  },
  {
   "cell_type": "code",
   "execution_count": 77,
   "outputs": [
    {
     "data": {
      "text/plain": "   Фамилия, имя  Общий итог\n0      Ученик 1         728\n1      Ученик 2         677\n2      Ученик 3         673\n3      Ученик 4         659\n4      Ученик 5         606\n..          ...         ...\n72    Ученик 73         152\n73    Ученик 74         120\n74    Ученик 75         103\n75    Ученик 76          51\n76    Ученик 77           0\n\n[77 rows x 2 columns]",
      "text/html": "<div>\n<style scoped>\n    .dataframe tbody tr th:only-of-type {\n        vertical-align: middle;\n    }\n\n    .dataframe tbody tr th {\n        vertical-align: top;\n    }\n\n    .dataframe thead th {\n        text-align: right;\n    }\n</style>\n<table border=\"1\" class=\"dataframe\">\n  <thead>\n    <tr style=\"text-align: right;\">\n      <th></th>\n      <th>Фамилия, имя</th>\n      <th>Общий итог</th>\n    </tr>\n  </thead>\n  <tbody>\n    <tr>\n      <th>0</th>\n      <td>Ученик 1</td>\n      <td>728</td>\n    </tr>\n    <tr>\n      <th>1</th>\n      <td>Ученик 2</td>\n      <td>677</td>\n    </tr>\n    <tr>\n      <th>2</th>\n      <td>Ученик 3</td>\n      <td>673</td>\n    </tr>\n    <tr>\n      <th>3</th>\n      <td>Ученик 4</td>\n      <td>659</td>\n    </tr>\n    <tr>\n      <th>4</th>\n      <td>Ученик 5</td>\n      <td>606</td>\n    </tr>\n    <tr>\n      <th>...</th>\n      <td>...</td>\n      <td>...</td>\n    </tr>\n    <tr>\n      <th>72</th>\n      <td>Ученик 73</td>\n      <td>152</td>\n    </tr>\n    <tr>\n      <th>73</th>\n      <td>Ученик 74</td>\n      <td>120</td>\n    </tr>\n    <tr>\n      <th>74</th>\n      <td>Ученик 75</td>\n      <td>103</td>\n    </tr>\n    <tr>\n      <th>75</th>\n      <td>Ученик 76</td>\n      <td>51</td>\n    </tr>\n    <tr>\n      <th>76</th>\n      <td>Ученик 77</td>\n      <td>0</td>\n    </tr>\n  </tbody>\n</table>\n<p>77 rows × 2 columns</p>\n</div>"
     },
     "execution_count": 77,
     "metadata": {},
     "output_type": "execute_result"
    }
   ],
   "source": [
    "df[['Фамилия, имя', 'Общий итог']].sort_values(by='Общий итог', ascending=False)"
   ],
   "metadata": {
    "collapsed": false,
    "pycharm": {
     "name": "#%%\n"
    }
   }
  },
  {
   "cell_type": "code",
   "execution_count": 79,
   "outputs": [],
   "source": [
    "df2 = df[['Фамилия, имя', 'Общий итог', 'Итого   I тур', 'Итого   II тур']].sort_values(by='Общий итог', ascending=False)"
   ],
   "metadata": {
    "collapsed": false,
    "pycharm": {
     "name": "#%%\n"
    }
   }
  },
  {
   "cell_type": "code",
   "execution_count": 85,
   "outputs": [
    {
     "data": {
      "text/plain": "<AxesSubplot: >"
     },
     "execution_count": 85,
     "metadata": {},
     "output_type": "execute_result"
    },
    {
     "data": {
      "text/plain": "<Figure size 640x480 with 1 Axes>",
      "image/png": "[encoded data removed]"
     },
     "metadata": {},
     "output_type": "display_data"
    }
   ],
   "source": [
    "df2[['Фамилия, имя', 'Итого   I тур', 'Итого   II тур']].plot(kind='bar')"
   ],
   "metadata": {
    "collapsed": false,
    "pycharm": {
     "name": "#%%\n"
    }
   }
  }
 ],
 "metadata": {
  "kernelspec": {
   "display_name": "Python 3 (ipykernel)",
   "language": "python",
   "name": "python3"
  },
  "language_info": {
   "codemirror_mode": {
    "name": "ipython",
    "version": 3
   },
   "file_extension": ".py",
   "mimetype": "text/x-python",
   "name": "python",
   "nbconvert_exporter": "python",
   "pygments_lexer": "ipython3",
   "version": "3.9.2"
  }
 },
 "nbformat": 4,
 "nbformat_minor": 1
}