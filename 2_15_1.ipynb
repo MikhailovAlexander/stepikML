{
 "cells": [
  {
   "cell_type": "code",
   "execution_count": 2,
   "metadata": {
    "pycharm": {
     "name": "#%%\n"
    }
   },
   "outputs": [],
   "source": [
    "import pandas as pd"
   ]
  },
  {
   "cell_type": "code",
   "execution_count": 3,
   "metadata": {
    "pycharm": {
     "name": "#%%\n"
    }
   },
   "outputs": [],
   "source": [
    "url = \"https://raw.githubusercontent.com/bykov-alexei/data-science-course/master/Python3/moscow%20schools%20-%20winners.csv\"\n",
    "df = pd.read_csv(url)"
   ]
  },
  {
   "cell_type": "code",
   "execution_count": 8,
   "metadata": {
    "pycharm": {
     "name": "#%%\n"
    }
   },
   "outputs": [
    {
     "data": {
      "text/plain": "                                            FullName  \\\n0  Государственное бюджетное общеобразовательное ...   \n1  Государственное бюджетное общеобразовательное ...   \n2  Государственное бюджетное общеобразовательное ...   \n3  Государственное бюджетное образовательное учре...   \n4  Государственное бюджетное образовательное учре...   \n\n                   ShortName             OlympiadType Stage Class  \\\n0  ГБОУ лицей «Вторая школа»  Всероссийская олимпиада     3    11   \n1  ГБОУ лицей «Вторая школа»  Всероссийская олимпиада     3    11   \n2  ГБОУ лицей «Вторая школа»  Всероссийская олимпиада     3    10   \n3              ГБОУ СОШ № 26  Всероссийская олимпиада     4    11   \n4              ГБОУ СОШ № 26  Всероссийская олимпиада     3    11   \n\n                              Subject      Status       Year global_id  \n0  Иностранный язык (английский язык)      призёр  2012/2013   4472939  \n1  Иностранный язык (английский язык)      призёр  2012/2013   4472940  \n2  Иностранный язык (английский язык)      призёр  2012/2013   4472941  \n3  Иностранный язык (английский язык)  победитель  2012/2013   4472942  \n4  Иностранный язык (английский язык)      призёр  2012/2013   4472943  ",
      "text/html": "<div>\n<style scoped>\n    .dataframe tbody tr th:only-of-type {\n        vertical-align: middle;\n    }\n\n    .dataframe tbody tr th {\n        vertical-align: top;\n    }\n\n    .dataframe thead th {\n        text-align: right;\n    }\n</style>\n<table border=\"1\" class=\"dataframe\">\n  <thead>\n    <tr style=\"text-align: right;\">\n      <th></th>\n      <th>FullName</th>\n      <th>ShortName</th>\n      <th>OlympiadType</th>\n      <th>Stage</th>\n      <th>Class</th>\n      <th>Subject</th>\n      <th>Status</th>\n      <th>Year</th>\n      <th>global_id</th>\n    </tr>\n  </thead>\n  <tbody>\n    <tr>\n      <th>0</th>\n      <td>Государственное бюджетное общеобразовательное ...</td>\n      <td>ГБОУ лицей «Вторая школа»</td>\n      <td>Всероссийская олимпиада</td>\n      <td>3</td>\n      <td>11</td>\n      <td>Иностранный язык (английский язык)</td>\n      <td>призёр</td>\n      <td>2012/2013</td>\n      <td>4472939</td>\n    </tr>\n    <tr>\n      <th>1</th>\n      <td>Государственное бюджетное общеобразовательное ...</td>\n      <td>ГБОУ лицей «Вторая школа»</td>\n      <td>Всероссийская олимпиада</td>\n      <td>3</td>\n      <td>11</td>\n      <td>Иностранный язык (английский язык)</td>\n      <td>призёр</td>\n      <td>2012/2013</td>\n      <td>4472940</td>\n    </tr>\n    <tr>\n      <th>2</th>\n      <td>Государственное бюджетное общеобразовательное ...</td>\n      <td>ГБОУ лицей «Вторая школа»</td>\n      <td>Всероссийская олимпиада</td>\n      <td>3</td>\n      <td>10</td>\n      <td>Иностранный язык (английский язык)</td>\n      <td>призёр</td>\n      <td>2012/2013</td>\n      <td>4472941</td>\n    </tr>\n    <tr>\n      <th>3</th>\n      <td>Государственное бюджетное образовательное учре...</td>\n      <td>ГБОУ СОШ № 26</td>\n      <td>Всероссийская олимпиада</td>\n      <td>4</td>\n      <td>11</td>\n      <td>Иностранный язык (английский язык)</td>\n      <td>победитель</td>\n      <td>2012/2013</td>\n      <td>4472942</td>\n    </tr>\n    <tr>\n      <th>4</th>\n      <td>Государственное бюджетное образовательное учре...</td>\n      <td>ГБОУ СОШ № 26</td>\n      <td>Всероссийская олимпиада</td>\n      <td>3</td>\n      <td>11</td>\n      <td>Иностранный язык (английский язык)</td>\n      <td>призёр</td>\n      <td>2012/2013</td>\n      <td>4472943</td>\n    </tr>\n  </tbody>\n</table>\n</div>"
     },
     "execution_count": 8,
     "metadata": {},
     "output_type": "execute_result"
    }
   ],
   "source": [
    "df.head()"
   ]
  },
  {
   "cell_type": "code",
   "execution_count": null,
   "outputs": [],
   "source": [
    "df.Subject.unique()"
   ],
   "metadata": {
    "collapsed": false,
    "pycharm": {
     "name": "#%%\n"
    }
   }
  },
  {
   "cell_type": "code",
   "execution_count": null,
   "outputs": [],
   "source": [
    "df[(df.Stage == '4') & (df.Subject == 'Математика') & (df.Status == 'победитель')].index.size"
   ],
   "metadata": {
    "collapsed": false,
    "pycharm": {
     "name": "#%%\n"
    }
   }
  },
  {
   "cell_type": "code",
   "execution_count": null,
   "outputs": [],
   "source": [
    "df[(df.Stage == '3') & (df.Subject == 'Информатика') & (df.Status == 'призёр') & (df.Class == '9')].index.size"
   ],
   "metadata": {
    "collapsed": false,
    "pycharm": {
     "name": "#%%\n"
    }
   }
  },
  {
   "cell_type": "code",
   "execution_count": null,
   "outputs": [],
   "source": [
    "df[df.Status == 'победитель'].groupby('ShortName').agg({'ShortName':'count'}).idxmax()"
   ],
   "metadata": {
    "collapsed": false,
    "pycharm": {
     "name": "#%%\n"
    }
   }
  },
  {
   "cell_type": "code",
   "execution_count": 29,
   "metadata": {
    "pycharm": {
     "name": "#%%\n"
    }
   },
   "outputs": [
    {
     "data": {
      "text/plain": "ShortName    ГБОУ лицей «Вторая школа»\ndtype: object"
     },
     "execution_count": 29,
     "metadata": {},
     "output_type": "execute_result"
    }
   ],
   "source": [
    "df[df.Status == 'победитель'].groupby('ShortName').agg({'ShortName':'count'}).idxmax()"
   ]
  }
 ],
 "metadata": {
  "kernelspec": {
   "display_name": "Python 3 (ipykernel)",
   "language": "python",
   "name": "python3"
  },
  "language_info": {
   "codemirror_mode": {
    "name": "ipython",
    "version": 3
   },
   "file_extension": ".py",
   "mimetype": "text/x-python",
   "name": "python",
   "nbconvert_exporter": "python",
   "pygments_lexer": "ipython3",
   "version": "3.9.2"
  }
 },
 "nbformat": 4,
 "nbformat_minor": 1
}