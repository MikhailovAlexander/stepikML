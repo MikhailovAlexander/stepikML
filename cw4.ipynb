{
 "nbformat": 4,
 "nbformat_minor": 0,
 "metadata": {
  "colab": {
   "provenance": []
  },
  "kernelspec": {
   "name": "python3",
   "display_name": "Python 3"
  },
  "language_info": {
   "name": "python"
  }
 },
 "cells": [
  {
   "cell_type": "markdown",
   "source": [
    "# Самостоятельная работа. Вариант 4\n",
    "## Дисциплина \"Машинное обучение\". Тема \"Предобработка данных\""
   ],
   "metadata": {
    "id": "-_hMYaC77kLo",
    "pycharm": {
     "name": "#%% md\n"
    }
   }
  },
  {
   "cell_type": "markdown",
   "source": [
    "### 1.1 Загрузите набор данных в DataFrame из файла [customersCount.csv](https://drive.google.com/file/d/1dxVOP9qqSnx5DeyPd7NIuw8z7ISwN0_J/view?usp=sharing). В качестве индекса используйте столбец StatusDate. Набор данных содержит информацию о количестве покупателей, совершавших покупки в некоторые даты на торговых площадках компании в разных городах. (0,5 балла)"
   ],
   "metadata": {
    "id": "N6P5RGE-7tBD",
    "pycharm": {
     "name": "#%% md\n"
    }
   }
  },
  {
   "cell_type": "code",
   "execution_count": 56,
   "outputs": [],
   "source": [
    "import pandas as pd\n",
    "import math\n",
    "import numpy as np"
   ],
   "metadata": {
    "collapsed": false,
    "pycharm": {
     "name": "#%%\n"
    }
   }
  },
  {
   "cell_type": "code",
   "execution_count": 119,
   "metadata": {
    "id": "2-3RgUCP6-fd",
    "pycharm": {
     "name": "#%%\n"
    }
   },
   "outputs": [],
   "source": [
    "df = pd.read_csv('data/customersCount.csv')"
   ]
  },
  {
   "cell_type": "code",
   "execution_count": 120,
   "outputs": [],
   "source": [
    "df['StatusDate'] = pd.to_datetime(df['StatusDate'])\n",
    "df['month'] = df['StatusDate'].dt.month\n",
    "df.set_index('StatusDate', inplace=True)"
   ],
   "metadata": {
    "collapsed": false,
    "pycharm": {
     "name": "#%%\n"
    }
   }
  },
  {
   "cell_type": "markdown",
   "source": [
    "### 1.2 Выведите 10 последних строк набора данных. (0,5 балла)\n"
   ],
   "metadata": {
    "id": "y8v_2ozBBqf_",
    "pycharm": {
     "name": "#%% md\n"
    }
   }
  },
  {
   "cell_type": "code",
   "source": [
    "df.tail(10)"
   ],
   "metadata": {
    "id": "kqa9BfvF9ZQM",
    "pycharm": {
     "name": "#%%\n"
    }
   },
   "execution_count": 12,
   "outputs": [
    {
     "data": {
      "text/plain": "                        City  Status  CustomerCount\nStatusDate                                         \n2016-10-24  SAINT-PETERSBURG       3            401\n2016-10-31            Samara       1            591\n2016-11-07            Samara       2            390\n2016-11-14              PERM       2            312\n2016-11-21            Moskow       2            311\n2016-11-28            moskow       3            777\n2016-12-05            moskow       3            425\n2016-12-12            Samara       1            622\n2016-12-19             Penza       3             29\n2016-12-26             Penza       2            792",
      "text/html": "<div>\n<style scoped>\n    .dataframe tbody tr th:only-of-type {\n        vertical-align: middle;\n    }\n\n    .dataframe tbody tr th {\n        vertical-align: top;\n    }\n\n    .dataframe thead th {\n        text-align: right;\n    }\n</style>\n<table border=\"1\" class=\"dataframe\">\n  <thead>\n    <tr style=\"text-align: right;\">\n      <th></th>\n      <th>City</th>\n      <th>Status</th>\n      <th>CustomerCount</th>\n    </tr>\n    <tr>\n      <th>StatusDate</th>\n      <th></th>\n      <th></th>\n      <th></th>\n    </tr>\n  </thead>\n  <tbody>\n    <tr>\n      <th>2016-10-24</th>\n      <td>SAINT-PETERSBURG</td>\n      <td>3</td>\n      <td>401</td>\n    </tr>\n    <tr>\n      <th>2016-10-31</th>\n      <td>Samara</td>\n      <td>1</td>\n      <td>591</td>\n    </tr>\n    <tr>\n      <th>2016-11-07</th>\n      <td>Samara</td>\n      <td>2</td>\n      <td>390</td>\n    </tr>\n    <tr>\n      <th>2016-11-14</th>\n      <td>PERM</td>\n      <td>2</td>\n      <td>312</td>\n    </tr>\n    <tr>\n      <th>2016-11-21</th>\n      <td>Moskow</td>\n      <td>2</td>\n      <td>311</td>\n    </tr>\n    <tr>\n      <th>2016-11-28</th>\n      <td>moskow</td>\n      <td>3</td>\n      <td>777</td>\n    </tr>\n    <tr>\n      <th>2016-12-05</th>\n      <td>moskow</td>\n      <td>3</td>\n      <td>425</td>\n    </tr>\n    <tr>\n      <th>2016-12-12</th>\n      <td>Samara</td>\n      <td>1</td>\n      <td>622</td>\n    </tr>\n    <tr>\n      <th>2016-12-19</th>\n      <td>Penza</td>\n      <td>3</td>\n      <td>29</td>\n    </tr>\n    <tr>\n      <th>2016-12-26</th>\n      <td>Penza</td>\n      <td>2</td>\n      <td>792</td>\n    </tr>\n  </tbody>\n</table>\n</div>"
     },
     "execution_count": 12,
     "metadata": {},
     "output_type": "execute_result"
    }
   ]
  },
  {
   "cell_type": "markdown",
   "source": [
    "### 1.3 Выведите те строки таблицы в которых упоминались города \"Perm\" и \"Samara\". Обратите внимание, что для некоторых городов название записано в разном регистре. Приведите все названия города к верхнему регистру.  В таблице должны быть отражены все поля, которые есть в исходной таблице. (1 балл)\n"
   ],
   "metadata": {
    "id": "xwo1hv0ODOQ0",
    "pycharm": {
     "name": "#%% md\n"
    }
   }
  },
  {
   "cell_type": "code",
   "source": [
    "df.City = df.City.apply(lambda x: str(x).upper())"
   ],
   "metadata": {
    "id": "E5OAiBIhEtWH",
    "pycharm": {
     "name": "#%%\n"
    }
   },
   "execution_count": 107,
   "outputs": []
  },
  {
   "cell_type": "code",
   "execution_count": 15,
   "outputs": [
    {
     "data": {
      "text/plain": "array(['PERM', 'SAINT-PETERSBURG', 'MOSKOW', 'SAMARA', 'PENZA'],\n      dtype=object)"
     },
     "execution_count": 15,
     "metadata": {},
     "output_type": "execute_result"
    }
   ],
   "source": [
    "df.City.unique()"
   ],
   "metadata": {
    "collapsed": false,
    "pycharm": {
     "name": "#%%\n"
    }
   }
  },
  {
   "cell_type": "code",
   "execution_count": 16,
   "outputs": [
    {
     "data": {
      "text/plain": "              City  Status  CustomerCount\nStatusDate                               \n2009-01-05    PERM       1            877\n2009-02-02  SAMARA       1            300\n2009-02-09  SAMARA       1            706\n2009-02-16    PERM       2            347\n2009-02-23  SAMARA       1            143\n...            ...     ...            ...\n2016-10-17    PERM       1            905\n2016-10-31  SAMARA       1            591\n2016-11-07  SAMARA       2            390\n2016-11-14    PERM       2            312\n2016-12-12  SAMARA       1            622\n\n[149 rows x 3 columns]",
      "text/html": "<div>\n<style scoped>\n    .dataframe tbody tr th:only-of-type {\n        vertical-align: middle;\n    }\n\n    .dataframe tbody tr th {\n        vertical-align: top;\n    }\n\n    .dataframe thead th {\n        text-align: right;\n    }\n</style>\n<table border=\"1\" class=\"dataframe\">\n  <thead>\n    <tr style=\"text-align: right;\">\n      <th></th>\n      <th>City</th>\n      <th>Status</th>\n      <th>CustomerCount</th>\n    </tr>\n    <tr>\n      <th>StatusDate</th>\n      <th></th>\n      <th></th>\n      <th></th>\n    </tr>\n  </thead>\n  <tbody>\n    <tr>\n      <th>2009-01-05</th>\n      <td>PERM</td>\n      <td>1</td>\n      <td>877</td>\n    </tr>\n    <tr>\n      <th>2009-02-02</th>\n      <td>SAMARA</td>\n      <td>1</td>\n      <td>300</td>\n    </tr>\n    <tr>\n      <th>2009-02-09</th>\n      <td>SAMARA</td>\n      <td>1</td>\n      <td>706</td>\n    </tr>\n    <tr>\n      <th>2009-02-16</th>\n      <td>PERM</td>\n      <td>2</td>\n      <td>347</td>\n    </tr>\n    <tr>\n      <th>2009-02-23</th>\n      <td>SAMARA</td>\n      <td>1</td>\n      <td>143</td>\n    </tr>\n    <tr>\n      <th>...</th>\n      <td>...</td>\n      <td>...</td>\n      <td>...</td>\n    </tr>\n    <tr>\n      <th>2016-10-17</th>\n      <td>PERM</td>\n      <td>1</td>\n      <td>905</td>\n    </tr>\n    <tr>\n      <th>2016-10-31</th>\n      <td>SAMARA</td>\n      <td>1</td>\n      <td>591</td>\n    </tr>\n    <tr>\n      <th>2016-11-07</th>\n      <td>SAMARA</td>\n      <td>2</td>\n      <td>390</td>\n    </tr>\n    <tr>\n      <th>2016-11-14</th>\n      <td>PERM</td>\n      <td>2</td>\n      <td>312</td>\n    </tr>\n    <tr>\n      <th>2016-12-12</th>\n      <td>SAMARA</td>\n      <td>1</td>\n      <td>622</td>\n    </tr>\n  </tbody>\n</table>\n<p>149 rows × 3 columns</p>\n</div>"
     },
     "execution_count": 16,
     "metadata": {},
     "output_type": "execute_result"
    }
   ],
   "source": [
    "df[(df.City == 'PERM') | (df.City == 'SAMARA')]"
   ],
   "metadata": {
    "collapsed": false,
    "pycharm": {
     "name": "#%%\n"
    }
   }
  },
  {
   "cell_type": "markdown",
   "source": [
    "### 1.4 Определите количество различных значений, которые встречались в столбце Status, выведите их. (1 балл)\n"
   ],
   "metadata": {
    "id": "R7bh6QWnCOQg",
    "pycharm": {
     "name": "#%% md\n"
    }
   }
  },
  {
   "cell_type": "code",
   "source": [
    "df.Status.value_counts()"
   ],
   "metadata": {
    "id": "WD-p08kUEoGR",
    "pycharm": {
     "name": "#%%\n"
    }
   },
   "execution_count": 17,
   "outputs": [
    {
     "data": {
      "text/plain": "2    150\n1    140\n3    127\nName: Status, dtype: int64"
     },
     "execution_count": 17,
     "metadata": {},
     "output_type": "execute_result"
    }
   ]
  },
  {
   "cell_type": "markdown",
   "source": [
    "### 1.5 Постройте столбировую диаграмму, на которой отобразите количество записей в наборе данных для каждого статуса. У диаграммы должен быть заголовок и подписи осей, столбцы диаграммы должны быть подписаны числом (количество записей). (1 балл)"
   ],
   "metadata": {
    "id": "lIX7Cn9KGAJE",
    "pycharm": {
     "name": "#%% md\n"
    }
   }
  },
  {
   "cell_type": "code",
   "source": [
    "ax = df.Status.value_counts().plot(kind='bar', title='Статусы покупателей',\\\n",
    "                                   xlabel='Статусы', ylabel='Количество');\n",
    "ax.bar_label(ax.containers[0]);"
   ],
   "metadata": {
    "id": "8bZf1zu_FaHJ",
    "pycharm": {
     "name": "#%%\n"
    }
   },
   "execution_count": 25,
   "outputs": [
    {
     "data": {
      "text/plain": "<Figure size 640x480 with 1 Axes>",
      "image/png": "[encoded data removed]"
     },
     "metadata": {},
     "output_type": "display_data"
    }
   ]
  },
  {
   "cell_type": "markdown",
   "source": [
    "### 1.6 Сформируйте двумерный Numpy-массив со сводной информацией о покупателях в зависмости от статуса. Столбцы должны соответствовать различным городам. Элементы таблицы должны хранить суммарное количество покупателей  (т.е. значения поля CustomerCount нужно суммировать!) в зависимости от условия строки таблицы при заданном городе.\n",
    "\n",
    "*   Условие первой строки таблицы: рассматриваем те строки иcходного набора данных, где CustonerCount не превышало 100. \n",
    "*   Для второй строки: CustonerCount больше 100, и не превышает 200.\n",
    "*   Для третьей строки: CustonerCount больше 200, и не превышает 300.\n",
    "*   И так далее, каждая строка берет очередную сотню.\n",
    "\n",
    "(2 балла)\n",
    "\n",
    "\n"
   ],
   "metadata": {
    "id": "xeAbR9pRJfCQ",
    "pycharm": {
     "name": "#%% md\n"
    }
   }
  },
  {
   "cell_type": "code",
   "execution_count": 74,
   "outputs": [],
   "source": [
    "max_value = df.CustomerCount.sort_values(ascending=False).iloc[0]\n",
    "step = 100\n",
    "steps_cnt = math.ceil(max_value/step)\n",
    "cities = list(df.City.unique())\n",
    "arr = np.zeros((steps_cnt, len(cities)), int)\n",
    "for i in range(steps_cnt):\n",
    "    arr[i] = [df[(df.City == city) &\n",
    "                 (df.CustomerCount >= i*step) &\n",
    "                 (df.CustomerCount < i*step + step)].CustomerCount.sum()\n",
    "              for city in cities]"
   ],
   "metadata": {
    "collapsed": false,
    "pycharm": {
     "name": "#%%\n"
    }
   }
  },
  {
   "cell_type": "code",
   "execution_count": 75,
   "outputs": [
    {
     "data": {
      "text/plain": "array([[  438,   522,   482,   301,   404],\n       [ 1678,  1477,  2259,   909,   964],\n       [ 2019,  1895,  2649,   817,  1247],\n       [ 3480,  3383,  5223,  2003,   309],\n       [ 4508,  4849,  5823,   868,   404],\n       [ 3918,  6658,  9256,  6017,   529],\n       [11142,  2463,  5254,  6466,  3231],\n       [ 6663,  9713, 15751,  3016,  4472],\n       [ 6864,  9436, 16474,  2532,  1722],\n       [ 7604,  5657,  8629,  3835,  7663]])"
     },
     "execution_count": 75,
     "metadata": {},
     "output_type": "execute_result"
    }
   ],
   "source": [
    "arr"
   ],
   "metadata": {
    "collapsed": false,
    "pycharm": {
     "name": "#%%\n"
    }
   }
  },
  {
   "cell_type": "markdown",
   "source": [
    "### 1.7 Проверьте правильность значений, полученных в предыдущем пункте. Посчитайте сумму значений поля CustomerCount для каждого города. Кроме того, посчитайте сумму по столбцам построенного Numpy-массива. В обоих случаях должны получиться одни и те же значения. (1 балл)"
   ],
   "metadata": {
    "id": "04QtPNqsG8XO",
    "pycharm": {
     "name": "#%% md\n"
    }
   }
  },
  {
   "cell_type": "code",
   "source": [
    "for idx, city in enumerate(cities):\n",
    "    print(city)\n",
    "    print(df[df.City == city].CustomerCount.sum())\n",
    "    print(np.sum(arr, axis=0)[idx])"
   ],
   "metadata": {
    "id": "uquFuVD9To80",
    "pycharm": {
     "name": "#%%\n"
    }
   },
   "execution_count": 86,
   "outputs": [
    {
     "name": "stdout",
     "output_type": "stream",
     "text": [
      "PERM\n",
      "48314\n",
      "48314\n",
      "SAINT-PETERSBURG\n",
      "46053\n",
      "46053\n",
      "MOSKOW\n",
      "71800\n",
      "71800\n",
      "SAMARA\n",
      "26764\n",
      "26764\n",
      "PENZA\n",
      "20945\n",
      "20945\n"
     ]
    }
   ]
  },
  {
   "cell_type": "markdown",
   "source": [
    "### 1.8 Постройте круговую диаграмму, в которой отразите суммарное количество покупателей для каждого города (используйте данные, полученные на предыдущем шаге). У диаграммы должен быть заголовок и подписи в виде процентного отношения. (1 балл)"
   ],
   "metadata": {
    "id": "zJcGaXf4UYHG",
    "pycharm": {
     "name": "#%% md\n"
    }
   }
  },
  {
   "cell_type": "code",
   "source": [
    "df.groupby('City').agg({'CustomerCount': 'sum'}).plot.pie(y='CustomerCount',\\\n",
    "                                                                          title='Распределение покупателей по городам',\\\n",
    "                                                                          autopct='%1.1f%%');"
   ],
   "metadata": {
    "id": "hiH5He_4UVb3",
    "pycharm": {
     "name": "#%%\n"
    }
   },
   "execution_count": 101,
   "outputs": [
    {
     "data": {
      "text/plain": "<Figure size 640x480 with 1 Axes>",
      "image/png": "[encoded data removed]"
     },
     "metadata": {},
     "output_type": "display_data"
    }
   ]
  },
  {
   "cell_type": "markdown",
   "source": [
    "### 1.9 Определите сколько записей исходного набора данных для каждого месяца (вне зависимости от года) имеется в таблице. (1 балл)"
   ],
   "metadata": {
    "id": "5bV82_ChWN5l",
    "pycharm": {
     "name": "#%% md\n"
    }
   }
  },
  {
   "cell_type": "code",
   "execution_count": 121,
   "outputs": [
    {
     "data": {
      "text/plain": "8     37\n3     36\n5     35\n6     35\n10    35\n11    35\n12    35\n1     34\n4     34\n7     34\n9     34\n2     33\nName: month, dtype: int64"
     },
     "execution_count": 121,
     "metadata": {},
     "output_type": "execute_result"
    }
   ],
   "source": [
    "df.month.value_counts()"
   ],
   "metadata": {
    "collapsed": false,
    "pycharm": {
     "name": "#%%\n"
    }
   }
  },
  {
   "cell_type": "markdown",
   "source": [
    "###1.10 Постройте диаграмму, на которой будут только точки. По оси Х откладывайте номера месяцев в порядке возрастания. Отразите два ряда данных: минимальное значение поля CustomerCount и максимальное значение этого же поля. У диаграммы должен быть заголовок, легенда и подписи осей.  (1 балл)"
   ],
   "metadata": {
    "id": "jvm3N1MNY_3s",
    "pycharm": {
     "name": "#%% md\n"
    }
   }
  },
  {
   "cell_type": "code",
   "source": [
    "# ваш ответ здесь"
   ],
   "metadata": {
    "id": "-qkLPFCdXJoj",
    "pycharm": {
     "name": "#%%\n"
    }
   },
   "execution_count": null,
   "outputs": []
  }
 ]
}